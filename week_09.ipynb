{
 "cells": [
  {
   "cell_type": "markdown",
   "id": "a8268531-d0b9-49d7-ad35-16c66cd7c657",
   "metadata": {},
   "source": [
    "## **Dictionary**\n",
    "- 영어 사전\n",
    "- 형태\n",
    "    - 단어: 뜻\n",
    "    - 키: 값\n",
    "    - \"키로 값을 찾는다.\"\n",
    "        - 키는 중복되지 않는 고유한 값\n",
    "- 특징\n",
    "    - 순서가 없다. -> 인덱싱 불가능\n",
    "    - 가변: 수정, 삭제, 추가 가능\n",
    "- 타입: dict\n",
    "- 형변환 : `dict()`\n",
    "- 중괄호 사용 {}, 콤마로 구분\n",
    "- 값에 다양한 자료구조가 올 수 있음.\n",
    "    - a: 1, a:[1,2,3,4] (이렇게 리스트 형태도 올 수 있다)"
   ]
  },
  {
   "cell_type": "code",
   "execution_count": 1,
   "id": "7c93c994-3401-41f0-9ac9-150cbb0a0e0f",
   "metadata": {},
   "outputs": [
    {
     "data": {
      "text/plain": [
       "1"
      ]
     },
     "execution_count": 1,
     "metadata": {},
     "output_type": "execute_result"
    }
   ],
   "source": [
    "a = [1, 2, 3]\n",
    "a[0]"
   ]
  },
  {
   "cell_type": "code",
   "execution_count": 6,
   "id": "5cbbf7e4-6a48-4c93-9f89-fecd5e2c4e30",
   "metadata": {},
   "outputs": [
    {
     "data": {
      "text/plain": [
       "set"
      ]
     },
     "execution_count": 6,
     "metadata": {},
     "output_type": "execute_result"
    }
   ],
   "source": [
    "empty = dict()\n",
    "empty = {}\n",
    "#set {}\n",
    "empty = {} # dict type\n",
    "empty = set()\n",
    "type(empty)"
   ]
  },
  {
   "cell_type": "code",
   "execution_count": 4,
   "id": "34e25d3b-c138-4272-8cbc-ff2854325d90",
   "metadata": {},
   "outputs": [
    {
     "data": {
      "text/plain": [
       "{1: 'apple', 2: 'banana', 3: 'kiwi'}"
      ]
     },
     "execution_count": 4,
     "metadata": {},
     "output_type": "execute_result"
    }
   ],
   "source": [
    "a = {1,2,3} #같은 중괄호지만 값이 없으면 set\n",
    "a = {1:'apple', 2:'banana', 3:'kiwi'} #값이 있으면 dict\n",
    "a"
   ]
  },
  {
   "cell_type": "code",
   "execution_count": 5,
   "id": "d9765f4f-2536-4589-b1e8-d6f1ee933f25",
   "metadata": {},
   "outputs": [
    {
     "data": {
      "text/plain": [
       "{'apple': 'a', 'banana': 'b', 'kiwi': 'c'}"
      ]
     },
     "execution_count": 5,
     "metadata": {},
     "output_type": "execute_result"
    }
   ],
   "source": [
    "b = {'': '', '':'', '':''}\n",
    "b = dict(apple='a', banana='b', kiwi='c') # 따옴표 적기 번거로울 때 사용 가능한 방법\n",
    "b"
   ]
  },
  {
   "cell_type": "markdown",
   "id": "03405190-4b70-4604-a409-f3bf20883410",
   "metadata": {},
   "source": [
    "#### **Quiz. 출석부 딕셔너리 만들기**\n",
    "- 출력 형태\n",
    "    - 이름, 학번, 학과<br>\n",
    "    - james 202201 경제학과<br>\n",
    "    - laura 202203 스페인어과<br>\n",
    "    - louis 202202 컴공과<br>\n",
    "    - 이름으로 키 잡으면 안됨(동명이인 가능성. 키는 중복 불가. 학번을 키로 잡는 것이 좋음.)<br>\n"
   ]
  },
  {
   "cell_type": "code",
   "execution_count": 8,
   "id": "ccab545a-a3c1-4892-a4a4-4412e594aaef",
   "metadata": {},
   "outputs": [
    {
     "data": {
      "text/plain": [
       "{202201: ['james', '경제학과'],\n",
       " 202202: ['louis', '컴공과'],\n",
       " 202203: ['laura', '스페인어과']}"
      ]
     },
     "execution_count": 8,
     "metadata": {},
     "output_type": "execute_result"
    }
   ],
   "source": [
    "attendance = {202201: ['james', '경제학과'], 202202: ['louis', '컴공과'], 202203: ['laura', '스페인어과']}\n",
    "attendance"
   ]
  },
  {
   "cell_type": "code",
   "execution_count": 94,
   "id": "a920ab50-7580-40dc-b9cf-264fa57e4f25",
   "metadata": {},
   "outputs": [
    {
     "data": {
      "text/plain": [
       "{202201: ['james', '경제학과'], 202202: ['louis', '컴공과']}"
      ]
     },
     "execution_count": 94,
     "metadata": {},
     "output_type": "execute_result"
    }
   ],
   "source": [
    "{202201: ['james', '경제학과'], 202202: ['louis', '컴공과']}"
   ]
  },
  {
   "cell_type": "markdown",
   "id": "fd38ec6f-bb7b-4b90-b533-0a29c17c1172",
   "metadata": {},
   "source": [
    "## **Dict 형 변환**\n",
    "- 페어가 있을 때 형 변환 간단하게 가능 : dict() 사용\n",
    "- 키는 중복되지 않으므로 마지막 값이 반영된다.\n",
    "- 문자열 두 자리까지만 순회 가능"
   ]
  },
  {
   "cell_type": "code",
   "execution_count": 9,
   "id": "48c47c5d-5a64-431c-b44b-d653aa457f20",
   "metadata": {},
   "outputs": [
    {
     "data": {
      "text/plain": [
       "{1: 2, 2: 3, 3: 4}"
      ]
     },
     "execution_count": 9,
     "metadata": {},
     "output_type": "execute_result"
    }
   ],
   "source": [
    "ex1 = [[1, 2], [2, 3], [3, 4]]\n",
    "dict(ex1) #형 변환 간단하게 가능"
   ]
  },
  {
   "cell_type": "code",
   "execution_count": 18,
   "id": "ea536cf9-9663-4454-9b91-41ef5977f962",
   "metadata": {},
   "outputs": [
    {
     "data": {
      "text/plain": [
       "{1: 3, 2: 3}"
      ]
     },
     "execution_count": 18,
     "metadata": {},
     "output_type": "execute_result"
    }
   ],
   "source": [
    "ex2 = [(1, 2), (2, 3), (1, 3)]\n",
    "dict(ex2) # 키는 중복되지 않으므로 마지막 값이 반영된다."
   ]
  },
  {
   "cell_type": "code",
   "execution_count": 20,
   "id": "d09fb7b2-48f9-41fc-82d3-74f68e956b4e",
   "metadata": {},
   "outputs": [
    {
     "data": {
      "text/plain": [
       "{'a': 'b', 'b': 'c', 'c': 'd'}"
      ]
     },
     "execution_count": 20,
     "metadata": {},
     "output_type": "execute_result"
    }
   ],
   "source": [
    "ex3 = ['ab', 'bc', 'cd'] #문자열 두 자리까지만 순회 가능\n",
    "dict(ex3)"
   ]
  },
  {
   "cell_type": "markdown",
   "id": "3f87a90c-aae0-40d1-b609-472363a62c7c",
   "metadata": {},
   "source": [
    "## **Dict 항목 조회 & 변경**\n",
    "- `딕셔너리명[키] = 값` 형식으로 작성\n",
    "- 키로 찾아서 변경/추가/반환 가능\n",
    "- 키값이 없으면 에러가 난다.\n",
    "    - 에러 예방: `'키' in 딕셔너리`로 있는지 찾고 하는 것\n",
    "    - .get() 사용: 있으면 반환, 없으면 반환값 설정해주기"
   ]
  },
  {
   "cell_type": "code",
   "execution_count": 19,
   "id": "e359f468-fb4d-4e8e-84a0-a0592adc0675",
   "metadata": {},
   "outputs": [],
   "source": [
    "pythons = {\n",
    "    'Chapman': 'Graham',\n",
    "    'Cleese': 'John',\n",
    "    'Idle': 'Eric',\n",
    "    'Jones': 'Terry',\n",
    "    'Pallin': 'Michael'\n",
    "}"
   ]
  },
  {
   "cell_type": "code",
   "execution_count": 20,
   "id": "81896f96-211d-413a-a0d8-66b5768373a7",
   "metadata": {},
   "outputs": [
    {
     "data": {
      "text/plain": [
       "'Eric'"
      ]
     },
     "execution_count": 20,
     "metadata": {},
     "output_type": "execute_result"
    }
   ],
   "source": [
    "pythons['Idle'] #칮기"
   ]
  },
  {
   "cell_type": "code",
   "execution_count": 21,
   "id": "75d2fbe4-c13f-47f2-a9cd-3d364133e1c1",
   "metadata": {},
   "outputs": [],
   "source": [
    "pythons['Idle'] = 'James' #변경"
   ]
  },
  {
   "cell_type": "code",
   "execution_count": 22,
   "id": "d8b15091-2923-4bcb-917d-823498f9823b",
   "metadata": {},
   "outputs": [],
   "source": [
    "pythons['Hwa'] = 'Chloe' # 추가"
   ]
  },
  {
   "cell_type": "code",
   "execution_count": 23,
   "id": "a6ab8ff7-ba15-4e79-8bb3-1f6bec55757e",
   "metadata": {},
   "outputs": [
    {
     "data": {
      "text/plain": [
       "True"
      ]
     },
     "execution_count": 23,
     "metadata": {},
     "output_type": "execute_result"
    }
   ],
   "source": [
    "# 예외 없이\n",
    "'Hwa' in pythons"
   ]
  },
  {
   "cell_type": "code",
   "execution_count": 24,
   "id": "491e154d-2be2-4525-89ec-5ec42ba5d328",
   "metadata": {},
   "outputs": [
    {
     "data": {
      "text/plain": [
       "0"
      ]
     },
     "execution_count": 24,
     "metadata": {},
     "output_type": "execute_result"
    }
   ],
   "source": [
    "#get()\n",
    "pythons.get('Lee', 0) # 없는 키는 None 반환, 반환값 설정도 가능"
   ]
  },
  {
   "cell_type": "markdown",
   "id": "08d0675e-df2f-4772-bfb0-aec1590887c1",
   "metadata": {},
   "source": [
    " ## **딕셔너리 전체 조회**\n",
    " - keys() : 키만 조회\n",
    " - values() : 값만 조회\n",
    " - items() : 키와 값이 튜플 형태로 조회됨. -> 순회할 때 애용<br><br>\n",
    " - 출력 결과를 사용하고 싶다면 리스트로 형변환 해줘야 함."
   ]
  },
  {
   "cell_type": "code",
   "execution_count": 25,
   "id": "e73f15a4-c6b9-4bfe-a496-5a8ec5da08b5",
   "metadata": {},
   "outputs": [
    {
     "data": {
      "text/plain": [
       "['Chapman', 'Cleese', 'Idle', 'Jones', 'Pallin', 'Hwa']"
      ]
     },
     "execution_count": 25,
     "metadata": {},
     "output_type": "execute_result"
    }
   ],
   "source": [
    "list(pythons.keys()) # 이렇게 리스트로 형변환도 가능"
   ]
  },
  {
   "cell_type": "code",
   "execution_count": 26,
   "id": "925f711a-42a7-42d5-9479-2689214193da",
   "metadata": {},
   "outputs": [
    {
     "data": {
      "text/plain": [
       "dict_values(['Graham', 'John', 'James', 'Terry', 'Michael', 'Chloe'])"
      ]
     },
     "execution_count": 26,
     "metadata": {},
     "output_type": "execute_result"
    }
   ],
   "source": [
    "pythons.values()"
   ]
  },
  {
   "cell_type": "code",
   "execution_count": 27,
   "id": "d86943f9-4976-4145-ba15-9d140a565885",
   "metadata": {},
   "outputs": [
    {
     "data": {
      "text/plain": [
       "dict_items([('Chapman', 'Graham'), ('Cleese', 'John'), ('Idle', 'James'), ('Jones', 'Terry'), ('Pallin', 'Michael'), ('Hwa', 'Chloe')])"
      ]
     },
     "execution_count": 27,
     "metadata": {},
     "output_type": "execute_result"
    }
   ],
   "source": [
    "pythons.items() # (키, 값) 튜플 형태로 -> 순회할 때 애용됨"
   ]
  },
  {
   "cell_type": "code",
   "execution_count": 28,
   "id": "10d0dde4-14a6-40a0-9275-0224a4b4fc2a",
   "metadata": {},
   "outputs": [
    {
     "name": "stdout",
     "output_type": "stream",
     "text": [
      "Chapman = Graham\n",
      "Cleese = John\n",
      "Idle = James\n",
      "Jones = Terry\n",
      "Pallin = Michael\n",
      "Hwa = Chloe\n"
     ]
    }
   ],
   "source": [
    "for k, v in pythons.items():#list comprehension도 사용 가능\n",
    "    print(f'{k} = {v}')"
   ]
  },
  {
   "cell_type": "code",
   "execution_count": 29,
   "id": "d1699a55-1e9d-42ca-8a8d-74bbabd3a23c",
   "metadata": {},
   "outputs": [
    {
     "data": {
      "text/plain": [
       "[('Chapman', 'Graham'),\n",
       " ('Cleese', 'John'),\n",
       " ('Idle', 'James'),\n",
       " ('Jones', 'Terry'),\n",
       " ('Pallin', 'Michael'),\n",
       " ('Hwa', 'Chloe')]"
      ]
     },
     "execution_count": 29,
     "metadata": {},
     "output_type": "execute_result"
    }
   ],
   "source": [
    "[(k, v) for k, v in pythons.items()]"
   ]
  },
  {
   "cell_type": "code",
   "execution_count": 30,
   "id": "0697df18-1135-419b-a428-ebfbe0219ba4",
   "metadata": {},
   "outputs": [
    {
     "data": {
      "text/plain": [
       "['Graham', 'John', 'James', 'Terry', 'Michael', 'Chloe']"
      ]
     },
     "execution_count": 30,
     "metadata": {},
     "output_type": "execute_result"
    }
   ],
   "source": [
    "[k[1] for k in pythons.items()]#items를 쓰면 0은 키값, 1은 value가 될 수 있다"
   ]
  },
  {
   "cell_type": "code",
   "execution_count": 31,
   "id": "0a114106-d852-4707-83bb-b0c06b2924b5",
   "metadata": {},
   "outputs": [
    {
     "data": {
      "text/plain": [
       "['Chapman', 'Cleese', 'Idle', 'Jones', 'Pallin', 'Hwa']"
      ]
     },
     "execution_count": 31,
     "metadata": {},
     "output_type": "execute_result"
    }
   ],
   "source": [
    "[k for k in pythons] #keys 키만 나옴."
   ]
  },
  {
   "cell_type": "markdown",
   "id": "465bbc21-b4c8-49df-ad48-189b544d1df2",
   "metadata": {
    "tags": []
   },
   "source": [
    "### **Quiz**\n",
    "- animal: num_leg 딕셔너리 만들기"
   ]
  },
  {
   "cell_type": "code",
   "execution_count": 35,
   "id": "00776432-a35a-4fb2-b6b5-aee919a97557",
   "metadata": {},
   "outputs": [],
   "source": [
    "animal = 'cat snake monkey ant spider'.split()\n",
    "legs = 4,0,2,4,8\n",
    "num_leg = {'cat': 4, 'snake': 0, 'monkey': 2, 'ant': 4, 'spider': 8}"
   ]
  },
  {
   "cell_type": "code",
   "execution_count": 36,
   "id": "0e1161e2-2e3d-45a4-a3c3-fbd2ae73b7ea",
   "metadata": {},
   "outputs": [
    {
     "name": "stdout",
     "output_type": "stream",
     "text": [
      "cat = 4\n",
      "snake = 0\n",
      "monkey = 2\n",
      "ant = 4\n",
      "spider = 8\n"
     ]
    }
   ],
   "source": [
    "for k, v in num_leg.items():#list comprehension\n",
    "    print(f'{k} = {v}')"
   ]
  },
  {
   "cell_type": "code",
   "execution_count": 37,
   "id": "3506f629-ede4-4629-a392-6be8c52d8158",
   "metadata": {},
   "outputs": [
    {
     "data": {
      "text/plain": [
       "{'cat': [8], 'snake': [8], 'monkey': [8], 'ant': [8], 'spider': [8]}"
      ]
     },
     "execution_count": 37,
     "metadata": {},
     "output_type": "execute_result"
    }
   ],
   "source": [
    "num_leg = {}\n",
    "for k in animal:\n",
    "    for v in legs:\n",
    "        num_leg[k] = [v]\n",
    "num_leg"
   ]
  },
  {
   "cell_type": "markdown",
   "id": "ff83b9bf-f04c-4e5d-8cf1-331559ff3d00",
   "metadata": {},
   "source": [
    "### **Quiz**\n",
    "- pythons에서 성:이름, 성 첫글자만,이름은 글자 개수로 이뤄진 **튜플(성, 이름) 리스트로 반환**하기\n",
    "- dict comprehension 쓰지 말기\n",
    "- 풀이 : 순회하고 각 요소를 반환한다.\n",
    "           [(), ()]"
   ]
  },
  {
   "cell_type": "code",
   "execution_count": 66,
   "id": "5bd92bf1-0298-4af2-81d0-fa10ba1dca29",
   "metadata": {},
   "outputs": [
    {
     "data": {
      "text/plain": [
       "[('C', 6), ('C', 4), ('I', 5), ('J', 5), ('P', 7), ('H', 5)]"
      ]
     },
     "execution_count": 66,
     "metadata": {},
     "output_type": "execute_result"
    }
   ],
   "source": [
    "[(k[0][0], len(k[1])) for k in pythons.items()]"
   ]
  },
  {
   "cell_type": "code",
   "execution_count": 68,
   "id": "a85ac3ed-bc29-4533-9dbe-620c19a7949b",
   "metadata": {},
   "outputs": [
    {
     "data": {
      "text/plain": [
       "[('C', 6), ('C', 4), ('I', 5), ('J', 5), ('P', 7), ('H', 5)]"
      ]
     },
     "execution_count": 68,
     "metadata": {},
     "output_type": "execute_result"
    }
   ],
   "source": [
    "[(key[0], len(value)) for key, value in pythons.items()] # 다른 예쁜 버전"
   ]
  },
  {
   "cell_type": "markdown",
   "id": "fa8b7a4b-3a57-4183-ade1-03591a97436b",
   "metadata": {},
   "source": [
    "## **Dict 추가, 삭제**\n",
    "- 딕셔너리에 딕셔너리 추가 : `dict이름.update(추가할 것)` (리스트의 extend처럼)\n",
    "- 딕셔너리 앞쪽에 추가 : (python3에서) `**` 딕셔너리 이름 앞에 붙여주면 됨.\n",
    "- 삭제\n",
    "    - `del` : 없는 걸 삭제하려고 하면 예외 발생\n",
    "    - `.pop(' ', 반환값 설정)` : 지정한 요소 찾고 삭제, 반환값 설정 안 하면 없는 거 찾을 때 예외 발생\n",
    "- 전체 삭제: `.clear()`  "
   ]
  },
  {
   "cell_type": "code",
   "execution_count": 39,
   "id": "ceb9f55a-efb8-415e-9413-40a5b4f2cb8a",
   "metadata": {},
   "outputs": [
    {
     "data": {
      "text/plain": [
       "{'Chapman': 'Graham',\n",
       " 'Cleese': 'John',\n",
       " 'Idle': 'James',\n",
       " 'Jones': 'Terry',\n",
       " 'Pallin': 'Michael',\n",
       " 'Hwa': 'Chloe'}"
      ]
     },
     "execution_count": 39,
     "metadata": {},
     "output_type": "execute_result"
    }
   ],
   "source": [
    "pythons"
   ]
  },
  {
   "cell_type": "code",
   "execution_count": 40,
   "id": "e31a62d4-9b2c-43af-9a5f-be3857d979bb",
   "metadata": {},
   "outputs": [
    {
     "data": {
      "text/plain": [
       "{'Marx': 'Groucho', 'Howard': 'Moe'}"
      ]
     },
     "execution_count": 40,
     "metadata": {},
     "output_type": "execute_result"
    }
   ],
   "source": [
    "others = {\n",
    "        'Marx':'Groucho',\n",
    "        'Howard':'Moe'\n",
    "}\n",
    "others"
   ]
  },
  {
   "cell_type": "code",
   "execution_count": 41,
   "id": "fc85b3f2-6c03-4c61-acb2-e9e32c8ea2ff",
   "metadata": {},
   "outputs": [],
   "source": [
    "pythons.update(others)"
   ]
  },
  {
   "cell_type": "code",
   "execution_count": 42,
   "id": "41f579ff-20d7-49fc-a0fe-256170d49336",
   "metadata": {},
   "outputs": [
    {
     "data": {
      "text/plain": [
       "{'Chapman': 'Graham',\n",
       " 'Cleese': 'John',\n",
       " 'Idle': 'James',\n",
       " 'Jones': 'Terry',\n",
       " 'Pallin': 'Michael',\n",
       " 'Hwa': 'Chloe',\n",
       " 'Marx': 'Groucho',\n",
       " 'Howard': 'Moe'}"
      ]
     },
     "execution_count": 42,
     "metadata": {},
     "output_type": "execute_result"
    }
   ],
   "source": [
    "pythons"
   ]
  },
  {
   "cell_type": "code",
   "execution_count": 43,
   "id": "a8cf3226-cf4a-4cf9-a074-0746e263043a",
   "metadata": {},
   "outputs": [
    {
     "data": {
      "text/plain": [
       "{'Marx': 'Groucho',\n",
       " 'Howard': 'Moe',\n",
       " 'Chapman': 'Graham',\n",
       " 'Cleese': 'John',\n",
       " 'Idle': 'James',\n",
       " 'Jones': 'Terry',\n",
       " 'Pallin': 'Michael',\n",
       " 'Hwa': 'Chloe'}"
      ]
     },
     "execution_count": 43,
     "metadata": {},
     "output_type": "execute_result"
    }
   ],
   "source": [
    "#py 3에서 가능, 딕셔너리 앞에 추가하기\n",
    "{**others, **pythons}"
   ]
  },
  {
   "cell_type": "code",
   "execution_count": 44,
   "id": "8516e871-30cb-473b-a3ab-c5f63f873f2c",
   "metadata": {},
   "outputs": [],
   "source": [
    "#삭제, 없는 걸 삭제하려고 하면 에러 발생\n",
    "del pythons['Hwa']"
   ]
  },
  {
   "cell_type": "code",
   "execution_count": 79,
   "id": "677b13c2-59fe-48eb-86cb-827b7f67d35b",
   "metadata": {},
   "outputs": [
    {
     "data": {
      "text/plain": [
       "{'Chapman': 'Graham',\n",
       " 'Cleese': 'John',\n",
       " 'Idle': 'James',\n",
       " 'Jones': 'Terry',\n",
       " 'Pallin': 'Michael',\n",
       " 'Marx': 'Groucho',\n",
       " 'Howard': 'Moe'}"
      ]
     },
     "execution_count": 79,
     "metadata": {},
     "output_type": "execute_result"
    }
   ],
   "source": [
    "pythons"
   ]
  },
  {
   "cell_type": "code",
   "execution_count": 80,
   "id": "c022f327-62b6-4e07-9e38-bb25da57af13",
   "metadata": {},
   "outputs": [
    {
     "data": {
      "text/plain": [
       "'Groucho'"
      ]
     },
     "execution_count": 80,
     "metadata": {},
     "output_type": "execute_result"
    }
   ],
   "source": [
    "pythons.pop('Marx')#값 반환하고 사라지고 없는 값 삭제했을 때의 반환값 설정 가능, but 설정 안 하면 예외 발생은 함."
   ]
  },
  {
   "cell_type": "code",
   "execution_count": 83,
   "id": "aa81d6c2-8b09-4a4e-bfed-dd9a5ddc674c",
   "metadata": {},
   "outputs": [
    {
     "data": {
      "text/plain": [
       "0"
      ]
     },
     "execution_count": 83,
     "metadata": {},
     "output_type": "execute_result"
    }
   ],
   "source": [
    "pythons.pop('Lee', 0) #get과 다르게 없으면 예외는 안함"
   ]
  },
  {
   "cell_type": "code",
   "execution_count": 84,
   "id": "a16291ca-6f4e-4b20-89e6-25353f715f0c",
   "metadata": {},
   "outputs": [],
   "source": [
    "# 전체 삭제\n",
    "pythons.clear()\n",
    "pythons = {}"
   ]
  },
  {
   "cell_type": "code",
   "execution_count": 85,
   "id": "7668ba2d-3324-4989-b579-0719fbc67f66",
   "metadata": {},
   "outputs": [
    {
     "data": {
      "text/plain": [
       "{}"
      ]
     },
     "execution_count": 85,
     "metadata": {},
     "output_type": "execute_result"
    }
   ],
   "source": [
    "pythons"
   ]
  },
  {
   "cell_type": "markdown",
   "id": "1718d74c-b4d2-4dce-8417-4e64f46f8dce",
   "metadata": {},
   "source": [
    "## **Dict 복제**\n",
    "- 할당 : b = a\n",
    "- 얕은 복사: c = a.copy()\n",
    "    - 얕은 복사는 2차원 이상일 때 하나의 값을 바꾸면 다 같아진다.\n",
    "- 깊은 복사\n",
    "    - `import copy`\n",
    "    - `copy.deepcopy()`"
   ]
  },
  {
   "cell_type": "code",
   "execution_count": 88,
   "id": "5daa5225-a5ef-4106-b7f5-53cb15bc3791",
   "metadata": {},
   "outputs": [
    {
     "data": {
      "text/plain": [
       "({1: 45, 2: 2, 3: 3}, {1: 45, 2: 2, 3: 3})"
      ]
     },
     "execution_count": 88,
     "metadata": {},
     "output_type": "execute_result"
    }
   ],
   "source": [
    "a = {1:1, 2:2, 3:3}\n",
    "b =a # b에 a를 할당\n",
    "a[1]= 45 #a 값 바꾸기\n",
    "a, b # 같은 주소값 공유하므로 함께 바뀜/\n"
   ]
  },
  {
   "cell_type": "code",
   "execution_count": 89,
   "id": "0f0607ff-205b-4de8-8b39-b3a3e8320045",
   "metadata": {},
   "outputs": [
    {
     "data": {
      "text/plain": [
       "({1: 45, 2: 22, 3: 3}, {1: 45, 2: 2, 3: 3})"
      ]
     },
     "execution_count": 89,
     "metadata": {},
     "output_type": "execute_result"
    }
   ],
   "source": [
    "c = a.copy()\n",
    "a[2] =22\n",
    "a,c"
   ]
  },
  {
   "cell_type": "code",
   "execution_count": 91,
   "id": "7d398b47-57f3-4b99-9c56-8a975122fa53",
   "metadata": {},
   "outputs": [
    {
     "data": {
      "text/plain": [
       "({1: [100, 2, 3], 2: [2, 3, 4]}, {1: [100, 2, 3], 2: [2, 3, 4]})"
      ]
     },
     "execution_count": 91,
     "metadata": {},
     "output_type": "execute_result"
    }
   ],
   "source": [
    "a = {1: [1,2,3], 2:[2,3,4]}\n",
    "d = a.copy()#2차원 이상일때 얕은 복사는 다 똑같아짐.\n",
    "a[1][0] = 100\n",
    "a, d"
   ]
  },
  {
   "cell_type": "code",
   "execution_count": 92,
   "id": "1df3aa33-89d8-4ddd-87d1-9f116dd9ef58",
   "metadata": {},
   "outputs": [
    {
     "data": {
      "text/plain": [
       "({1: [100, 999, 3], 2: [2, 3, 4]}, {1: [100, 2, 3], 2: [2, 3, 4]})"
      ]
     },
     "execution_count": 92,
     "metadata": {},
     "output_type": "execute_result"
    }
   ],
   "source": [
    "import copy\n",
    "e = copy.deepcopy(a)\n",
    "a[1][1] = 999\n",
    "a, e"
   ]
  },
  {
   "cell_type": "markdown",
   "id": "93eb95ff-bf46-44ab-af92-c5e8c65f118d",
   "metadata": {},
   "source": [
    "## **Dict 비교**\n",
    "    - **같다, 다르다**만 된다."
   ]
  },
  {
   "cell_type": "code",
   "execution_count": 95,
   "id": "76f11bb1-1e9b-414b-9659-64ce2955e672",
   "metadata": {},
   "outputs": [
    {
     "data": {
      "text/plain": [
       "False"
      ]
     },
     "execution_count": 95,
     "metadata": {},
     "output_type": "execute_result"
    }
   ],
   "source": [
    "a != b"
   ]
  },
  {
   "cell_type": "markdown",
   "id": "fc2f361c-8e7d-4a89-b746-7ef9efd4a241",
   "metadata": {
    "tags": []
   },
   "source": [
    "## **Quiz**\n",
    "1. 두 리스트로 하나의 딕셔너리 생성\n",
    "2. 명왕성 = pluto 추가하기\n",
    "3. '성'으로 끝나지 않는 키 삭제하기(순회하면서 '성'이 아닌 거 삭제)\n",
    "4. sorted를 이용해서 값 정렬하기<br>\n",
    "    i) key 기준<br>\n",
    "    ii) value 기준"
   ]
  },
  {
   "cell_type": "code",
   "execution_count": 48,
   "id": "54457ffc-d69c-4c2e-b7aa-44503866b4ba",
   "metadata": {},
   "outputs": [],
   "source": [
    "solar_kor = '태양 수성 금성 지구 화성 목성 토성 천왕성 해왕성'.split()\n",
    "solar_eng = 'sum mercury venus earth mars jupiter saturn uranus neptune'.split()"
   ]
  },
  {
   "cell_type": "code",
   "execution_count": 50,
   "id": "d53a0df4-7b80-4005-aa5c-546908be129c",
   "metadata": {},
   "outputs": [
    {
     "data": {
      "text/plain": [
       "{'수성': 'mercury',\n",
       " '금성': 'venus',\n",
       " '화성': 'mars',\n",
       " '목성': 'jupiter',\n",
       " '토성': 'saturn',\n",
       " '천왕성': 'uranus',\n",
       " '해왕성': 'neptune'}"
      ]
     },
     "execution_count": 50,
     "metadata": {},
     "output_type": "execute_result"
    }
   ],
   "source": [
    "kor_eng = {}\n",
    "for i in range(len(solar_kor)):\n",
    "    kor_eng[solar_kor[i]] = solar_eng[i]\n",
    "#kor_eng\n",
    "for planet in list(kor_eng.keys()):\n",
    "    if not planet.endswith('성'):\n",
    "        del kor_eng[planet]\n",
    "        \n",
    "kor_eng"
   ]
  },
  {
   "cell_type": "code",
   "execution_count": 51,
   "id": "b2f12548-b8bb-463e-959c-92dfda827e9a",
   "metadata": {},
   "outputs": [
    {
     "data": {
      "text/plain": [
       "{'태양': 'sum',\n",
       " '수성': 'mercury',\n",
       " '금성': 'venus',\n",
       " '지구': 'earth',\n",
       " '화성': 'mars',\n",
       " '목성': 'jupiter',\n",
       " '토성': 'saturn',\n",
       " '천왕성': 'uranus',\n",
       " '해왕성': 'neptune'}"
      ]
     },
     "execution_count": 51,
     "metadata": {},
     "output_type": "execute_result"
    }
   ],
   "source": [
    "#풀이\n",
    "system = {}\n",
    "for k, v in zip(solar_kor, solar_eng):\n",
    "    system[k] = v\n",
    "    \n",
    "system"
   ]
  },
  {
   "cell_type": "code",
   "execution_count": 54,
   "id": "2d116932-18b9-44e8-abbd-21e0a339efe5",
   "metadata": {},
   "outputs": [
    {
     "data": {
      "text/plain": [
       "{'수성': 'mercury',\n",
       " '금성': 'venus',\n",
       " '화성': 'mars',\n",
       " '목성': 'jupiter',\n",
       " '토성': 'saturn',\n",
       " '천왕성': 'uranus',\n",
       " '해왕성': 'neptune'}"
      ]
     },
     "execution_count": 54,
     "metadata": {},
     "output_type": "execute_result"
    }
   ],
   "source": [
    "dict([(k, system[k]) for k in system if k.endswith('성')]) #리스트는 따로 설정 안 해도 키값을 기준으로 돈다."
   ]
  },
  {
   "cell_type": "code",
   "execution_count": 55,
   "id": "45f0fb9a-6972-415a-891f-13b530cdaa45",
   "metadata": {},
   "outputs": [
    {
     "data": {
      "text/plain": [
       "{'수성': 'mercury',\n",
       " '금성': 'venus',\n",
       " '화성': 'mars',\n",
       " '목성': 'jupiter',\n",
       " '토성': 'saturn',\n",
       " '천왕성': 'uranus',\n",
       " '해왕성': 'neptune'}"
      ]
     },
     "execution_count": 55,
     "metadata": {},
     "output_type": "execute_result"
    }
   ],
   "source": [
    "dict([(k, v) for k, v in system.items() if k.endswith('성')])"
   ]
  },
  {
   "cell_type": "markdown",
   "id": "92639003-8fd6-4ebe-92bf-e8069d744045",
   "metadata": {
    "tags": []
   },
   "source": [
    "## **딕셔너리 컴프리헨션**"
   ]
  },
  {
   "cell_type": "code",
   "execution_count": 121,
   "id": "04ad9fef-349b-4d24-80c3-02a1b54689e2",
   "metadata": {},
   "outputs": [
    {
     "data": {
      "text/plain": [
       "{'a': 1, 'p': 2, 'l': 1, 'e': 1}"
      ]
     },
     "execution_count": 121,
     "metadata": {},
     "output_type": "execute_result"
    }
   ],
   "source": [
    "letter = 'apple'\n",
    "#a: 1, p: 2, ...\n",
    "{ch: letter.count(ch) for ch in letter}"
   ]
  },
  {
   "cell_type": "markdown",
   "id": "383a4b97-343f-4b2f-a63f-eea9c3021743",
   "metadata": {},
   "source": [
    "## **Quiz**\n",
    "- 단어의 모음 세기\n",
    "- word 순회\n",
    "- vowels 순회"
   ]
  },
  {
   "cell_type": "code",
   "execution_count": 57,
   "id": "1fc0c43b-090d-4b50-82df-a9cff4446c48",
   "metadata": {},
   "outputs": [],
   "source": [
    "vowels = 'aeiou'\n",
    "word = 'onomatopoeia'"
   ]
  },
  {
   "cell_type": "code",
   "execution_count": 58,
   "id": "e2110857-87fd-45dd-b6cc-7e5702cc2bc2",
   "metadata": {},
   "outputs": [
    {
     "data": {
      "text/plain": [
       "{'a': 2, 'e': 1, 'i': 1, 'o': 4, 'u': 0}"
      ]
     },
     "execution_count": 58,
     "metadata": {},
     "output_type": "execute_result"
    }
   ],
   "source": [
    "{vowel: word.count(vowel) for vowel in vowels}"
   ]
  },
  {
   "cell_type": "code",
   "execution_count": 62,
   "id": "d99bd8e5-bc1e-49b7-9f15-e9d11648188e",
   "metadata": {},
   "outputs": [
    {
     "data": {
      "text/plain": [
       "{'o': 4, 'e': 1, 'a': 2, 'i': 1}"
      ]
     },
     "execution_count": 62,
     "metadata": {},
     "output_type": "execute_result"
    }
   ],
   "source": [
    "{w: word.count(w) for w in set(word) if w in vowels} # 중복 제거해주기"
   ]
  },
  {
   "cell_type": "markdown",
   "id": "a829598a-6f14-4c30-af91-81fc697378dd",
   "metadata": {},
   "source": [
    "## **딕셔너리 sorting**"
   ]
  },
  {
   "cell_type": "code",
   "execution_count": 63,
   "id": "bcc0e745-72e5-4dba-9b08-4e9c32a38c8d",
   "metadata": {},
   "outputs": [
    {
     "data": {
      "text/plain": [
       "{'태양': 'sum',\n",
       " '수성': 'mercury',\n",
       " '금성': 'venus',\n",
       " '지구': 'earth',\n",
       " '화성': 'mars',\n",
       " '목성': 'jupiter',\n",
       " '토성': 'saturn',\n",
       " '천왕성': 'uranus',\n",
       " '해왕성': 'neptune'}"
      ]
     },
     "execution_count": 63,
     "metadata": {},
     "output_type": "execute_result"
    }
   ],
   "source": [
    "system"
   ]
  },
  {
   "cell_type": "code",
   "execution_count": 65,
   "id": "c6dd2bb9-0e0d-4bf2-95f2-c92c6fd329cd",
   "metadata": {},
   "outputs": [
    {
     "data": {
      "text/plain": [
       "['금성', '목성', '수성', '지구', '천왕성', '태양', '토성', '해왕성', '화성']"
      ]
     },
     "execution_count": 65,
     "metadata": {},
     "output_type": "execute_result"
    }
   ],
   "source": [
    "sorted(system) # 키만 나옴, 딕셔너리에는 순서가 없으므로 오름차순/내림차순으로 정렬해줌."
   ]
  },
  {
   "cell_type": "code",
   "execution_count": 72,
   "id": "211ed1f0-ea24-43dd-8e85-f407485ff00b",
   "metadata": {},
   "outputs": [],
   "source": [
    "def fx(x): # 이렇게 너무 간단한 함수는 람다함수 사용하면 좋다.\n",
    "    return x[1]"
   ]
  },
  {
   "cell_type": "code",
   "execution_count": 71,
   "id": "fd1e009b-600f-4d18-9f7e-0b2a3c0978e8",
   "metadata": {},
   "outputs": [
    {
     "data": {
      "text/plain": [
       "[('지구', 'earth'),\n",
       " ('목성', 'jupiter'),\n",
       " ('화성', 'mars'),\n",
       " ('수성', 'mercury'),\n",
       " ('해왕성', 'neptune'),\n",
       " ('토성', 'saturn'),\n",
       " ('태양', 'sum'),\n",
       " ('천왕성', 'uranus'),\n",
       " ('금성', 'venus')]"
      ]
     },
     "execution_count": 71,
     "metadata": {},
     "output_type": "execute_result"
    }
   ],
   "source": [
    "sorted(system.items(), key = fx) # 키랑 값 모든 걸 정렬, 키나 값에 대한 조건 따로 걸어주고 싶을 때 설정."
   ]
  },
  {
   "cell_type": "markdown",
   "id": "ddca2889-7e0c-4ba1-8c18-b92eb3fae456",
   "metadata": {},
   "source": [
    "#### **람다 함수**\n",
    "- 익명 함수\n",
    "- lambda"
   ]
  },
  {
   "cell_type": "code",
   "execution_count": 74,
   "id": "177d6c2a-eb96-4c9b-aafb-b46e421f3f6c",
   "metadata": {},
   "outputs": [
    {
     "data": {
      "text/plain": [
       "[('금성', 'venus'),\n",
       " ('목성', 'jupiter'),\n",
       " ('수성', 'mercury'),\n",
       " ('지구', 'earth'),\n",
       " ('천왕성', 'uranus'),\n",
       " ('태양', 'sum'),\n",
       " ('토성', 'saturn'),\n",
       " ('해왕성', 'neptune'),\n",
       " ('화성', 'mars')]"
      ]
     },
     "execution_count": 74,
     "metadata": {},
     "output_type": "execute_result"
    }
   ],
   "source": [
    "#람다 함수 사용 예시\n",
    "sorted(system.items(), key=lambda x: x[0])"
   ]
  },
  {
   "cell_type": "markdown",
   "id": "3e2221a5-e7e2-4971-bec7-f8abd6e2c5af",
   "metadata": {},
   "source": [
    "## **Set**\n",
    "- \"중복이 없다\"\n",
    "- 집합 -> 교집합, 합집합, 차집합, ...\n",
    "- bag, 인덱싱 없음.\n",
    "- 추가 : `add()`\n",
    "- 삭제 : `remove()`"
   ]
  },
  {
   "cell_type": "code",
   "execution_count": 125,
   "id": "20b9b422-eea0-4938-ad09-bc68fd46297e",
   "metadata": {},
   "outputs": [
    {
     "data": {
      "text/plain": [
       "set()"
      ]
     },
     "execution_count": 125,
     "metadata": {},
     "output_type": "execute_result"
    }
   ],
   "source": [
    "empty = set()\n",
    "empty"
   ]
  },
  {
   "cell_type": "code",
   "execution_count": 126,
   "id": "a1bf333f-5ced-41cc-ab92-50688fd02d6d",
   "metadata": {},
   "outputs": [
    {
     "data": {
      "text/plain": [
       "{1, 2, 3}"
      ]
     },
     "execution_count": 126,
     "metadata": {},
     "output_type": "execute_result"
    }
   ],
   "source": [
    "a = {1, 2, 3}\n",
    "a"
   ]
  },
  {
   "cell_type": "code",
   "execution_count": 75,
   "id": "3b82a3bc-3d01-4c7f-86c2-6ee1adc12163",
   "metadata": {},
   "outputs": [
    {
     "data": {
      "text/plain": [
       "{1, 2, 3}"
      ]
     },
     "execution_count": 75,
     "metadata": {},
     "output_type": "execute_result"
    }
   ],
   "source": [
    "a = set((1, 2, 3)) # set(1, 2, 3)은 안에가 sequence이기 때문에 묶어줘야 함. 튜플이나 리스트로.\n",
    "# 선언, 형 변환과 동일 개념. 중복이 없다.\n",
    "a"
   ]
  },
  {
   "cell_type": "code",
   "execution_count": 130,
   "id": "695d7d66-eb75-4314-93dd-857ce7d316c4",
   "metadata": {},
   "outputs": [
    {
     "data": {
      "text/plain": [
       "{1, 2, 3}"
      ]
     },
     "execution_count": 130,
     "metadata": {},
     "output_type": "execute_result"
    }
   ],
   "source": [
    "# 추가\n",
    "a.add(3)\n",
    "a"
   ]
  },
  {
   "cell_type": "code",
   "execution_count": 131,
   "id": "40f1f854-d568-41cd-b42a-dbb7d0637fb5",
   "metadata": {},
   "outputs": [
    {
     "data": {
      "text/plain": [
       "{1, 2, 3, 4}"
      ]
     },
     "execution_count": 131,
     "metadata": {},
     "output_type": "execute_result"
    }
   ],
   "source": [
    "a.add(4)\n",
    "a"
   ]
  },
  {
   "cell_type": "code",
   "execution_count": 132,
   "id": "22007078-9fd6-48d3-abd2-d63d0419b9da",
   "metadata": {},
   "outputs": [
    {
     "data": {
      "text/plain": [
       "{1, 2, 3}"
      ]
     },
     "execution_count": 132,
     "metadata": {},
     "output_type": "execute_result"
    }
   ],
   "source": [
    "#삭제\n",
    "a.remove(4)\n",
    "a"
   ]
  },
  {
   "cell_type": "markdown",
   "id": "3115bdf1-1cff-411c-a1d6-427b2788d6fa",
   "metadata": {},
   "source": [
    "## **Quiz**\n",
    "- vodka 포함된 술 출력하기\n",
    "- vodka는 있지만 cream, vermouth 없는 술 출력하기"
   ]
  },
  {
   "cell_type": "code",
   "execution_count": 77,
   "id": "e716cdf1-4c83-41a1-92bb-ce383c7dd88b",
   "metadata": {},
   "outputs": [],
   "source": [
    "#멤버십 연산자\n",
    "drinks = {\n",
    "    'martini': {'vodka','vermouth'},\n",
    "    'black russian': {'vodka', 'kahlua'},\n",
    "    'white russian': {'cream', 'kahlua', 'vodkha'},\n",
    "    'manhattan': {'rye','vermouth', 'bitters'},\n",
    "    'screwdriver':{'orange juice', 'vodka'}\n",
    "}"
   ]
  },
  {
   "cell_type": "code",
   "execution_count": 78,
   "id": "cee4bfdd-6b48-4aa9-97fc-270356d9a378",
   "metadata": {},
   "outputs": [
    {
     "data": {
      "text/plain": [
       "set()"
      ]
     },
     "execution_count": 78,
     "metadata": {},
     "output_type": "execute_result"
    }
   ],
   "source": [
    "vodka_drink = set()\n",
    "for drink in drinks:\n",
    "    if 'vodka' in drink:\n",
    "        vodka_drink.add(drink)\n",
    "vodka_drink"
   ]
  },
  {
   "cell_type": "markdown",
   "id": "dba9a721-b79a-474a-9c9e-d27c4375048c",
   "metadata": {},
   "source": [
    "## **집합**\n",
    "1. 교집합 | intersection\n",
    "- `a.intersection(b)`\n",
    "- a & b\n",
    "\n",
    "2. 합집합 | union\n",
    "- `a.union(b)`\n",
    "- a | b\n",
    "\n",
    "3. 차집합 | difference\n",
    "- `a.difference(b)`\n",
    "- a - b, b - a"
   ]
  },
  {
   "cell_type": "code",
   "execution_count": 80,
   "id": "89add9e0-511d-4726-89f1-ed113cf08a10",
   "metadata": {},
   "outputs": [
    {
     "name": "stdout",
     "output_type": "stream",
     "text": [
      "martini\n",
      "black russian\n",
      "screwdriver\n",
      "black russian\n",
      "screwdriver\n"
     ]
    }
   ],
   "source": [
    "#풀이 1\n",
    "#1\n",
    "for k,v in drinks.items():\n",
    "    if'vodka' in v:\n",
    "        print(k)\n",
    "#2      \n",
    "for k, v in drinks.items():\n",
    "    if 'vodka' in v and not ('cream' in v or 'vermouth' in v):\n",
    "        print(k)"
   ]
  },
  {
   "cell_type": "code",
   "execution_count": 89,
   "id": "3872ef5d-5746-4cf0-acba-d97aa3036af4",
   "metadata": {},
   "outputs": [
    {
     "name": "stdout",
     "output_type": "stream",
     "text": [
      "black russian\n",
      "screwdriver\n"
     ]
    }
   ],
   "source": [
    "# set을 활용해서 바꾸기\n",
    "for k,v in drinks.items():\n",
    "    #if v & {'vodka'} and not v & {'cream', 'vermouth'}:\n",
    "    if 'vodka' in v and not v & {'cream', 'vermouth'}:\n",
    "       print(k)"
   ]
  },
  {
   "cell_type": "markdown",
   "id": "7d61adc5-f50b-4a96-88d4-020cb1bdfc06",
   "metadata": {},
   "source": [
    "## **set 컴프리헨션**"
   ]
  },
  {
   "cell_type": "code",
   "execution_count": 90,
   "id": "8eb7e271-353f-4778-bb26-4602936bb022",
   "metadata": {},
   "outputs": [
    {
     "data": {
      "text/plain": [
       "{0, 1, 2, 3, 4}"
      ]
     },
     "execution_count": 90,
     "metadata": {},
     "output_type": "execute_result"
    }
   ],
   "source": [
    "{s for s in range(5)}"
   ]
  },
  {
   "cell_type": "markdown",
   "id": "45b9e37e-5647-4808-9f45-e4dfaf933524",
   "metadata": {},
   "source": [
    "## **frozenset**\n",
    "- 가변객체 => 불변객체로!"
   ]
  },
  {
   "cell_type": "code",
   "execution_count": 91,
   "id": "d6306ea1-b7ee-4ce2-bcd4-d33401ad517d",
   "metadata": {},
   "outputs": [
    {
     "data": {
      "text/plain": [
       "frozenset({1, 2})"
      ]
     },
     "execution_count": 91,
     "metadata": {},
     "output_type": "execute_result"
    }
   ],
   "source": [
    "set([1, 2])\n",
    "frozenset([1, 2])"
   ]
  },
  {
   "cell_type": "code",
   "execution_count": 81,
   "id": "0e30306b-ec77-4d82-bafa-c3c82ca10ed0",
   "metadata": {},
   "outputs": [],
   "source": [
    "a = {1, 2, 3}\n",
    "b = {2, 3, 4}"
   ]
  },
  {
   "cell_type": "markdown",
   "id": "c5fc3c3e-67dd-4045-a4b2-303ed5f360a4",
   "metadata": {},
   "source": [
    "### [과제]Project\n",
    "- 디버깅 툴\n",
    "- 테스크 해결\n",
    "- 수업 30분 랜덤 코드 설명 => 성의 없거나 못하거나 그러면 점수 0\n",
    "- 제출: 수요일 자정까지"
   ]
  },
  {
   "cell_type": "code",
   "execution_count": null,
   "id": "9343ac0a-4a8d-4948-8e2d-596b8cad21c9",
   "metadata": {},
   "outputs": [],
   "source": [
    "디버깅 코드\n",
    "!pip install pylint\n",
    "!pylint example.py\n",
    "\n",
    "!pip install pydocstyle\n",
    "!pydocstyle example.py"
   ]
  }
 ],
 "metadata": {
  "kernelspec": {
   "display_name": "Python 3 (ipykernel)",
   "language": "python",
   "name": "python3"
  },
  "language_info": {
   "codemirror_mode": {
    "name": "ipython",
    "version": 3
   },
   "file_extension": ".py",
   "mimetype": "text/x-python",
   "name": "python",
   "nbconvert_exporter": "python",
   "pygments_lexer": "ipython3",
   "version": "3.9.7"
  }
 },
 "nbformat": 4,
 "nbformat_minor": 5
}
