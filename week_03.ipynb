{
 "cells": [
  {
   "cell_type": "markdown",
   "id": "82408b74-6c14-44b9-ad7d-032eeb6d0bda",
   "metadata": {},
   "source": [
    "# **Week 03**"
   ]
  },
  {
   "cell_type": "markdown",
   "id": "350dccd1-183d-4709-9625-1e4d12e9d205",
   "metadata": {},
   "source": [
    "## **중첩조건문 (Nested Conditional) - 지양하기**\n",
    "- 조건이 여러 개일 때 들여쓰기로 구분해서 if 블록 안에 또 if 블록 만드는 경우\n",
    "\n",
    "    - 예: if ...\n",
    "            if ....\n",
    "                if ...\n",
    "\n",
    "- 가독성이 떨어짐."
   ]
  },
  {
   "cell_type": "code",
   "execution_count": 16,
   "id": "a246cb4c-af3d-4f63-a969-0c2d41f7c6ae",
   "metadata": {},
   "outputs": [
    {
     "name": "stdout",
     "output_type": "stream",
     "text": [
      "Block B\n"
     ]
    }
   ],
   "source": [
    "x = 0\n",
    "y = 4\n",
    "\n",
    "if x == y:\n",
    "    print(\"Block A\")\n",
    "else:\n",
    "    if x < y:\n",
    "        print(\"Block B\")\n",
    "    else:\n",
    "        print(\"Block C\")"
   ]
  },
  {
   "cell_type": "markdown",
   "id": "3ff66a20-1aac-4c1d-853d-8baf5910b866",
   "metadata": {},
   "source": [
    "### **깔끔한 방법 1 : elif 사용**"
   ]
  },
  {
   "cell_type": "code",
   "execution_count": 17,
   "id": "c6e59ad3-39fd-4452-8e78-4c0579950092",
   "metadata": {},
   "outputs": [
    {
     "ename": "IndentationError",
     "evalue": "expected an indented block (Temp/ipykernel_10012/608132131.py, line 3)",
     "output_type": "error",
     "traceback": [
      "\u001b[1;36m  File \u001b[1;32m\"C:\\Users\\aliya\\AppData\\Local\\Temp/ipykernel_10012/608132131.py\"\u001b[1;36m, line \u001b[1;32m3\u001b[0m\n\u001b[1;33m    elif x < y:\u001b[0m\n\u001b[1;37m    ^\u001b[0m\n\u001b[1;31mIndentationError\u001b[0m\u001b[1;31m:\u001b[0m expected an indented block\n"
     ]
    }
   ],
   "source": [
    "if x == y:\n",
    "    # A\n",
    "elif x < y:\n",
    "    # B\n",
    "else:\n",
    "    # C"
   ]
  },
  {
   "cell_type": "markdown",
   "id": "f18c4dcd-141d-4abd-a8d4-8790fd39cf10",
   "metadata": {},
   "source": [
    "### **깔끔한 방법 2 : 논리연산자 사용**"
   ]
  },
  {
   "cell_type": "code",
   "execution_count": 19,
   "id": "dba2ec9a-997a-4b01-a5ab-fdc0295613c4",
   "metadata": {},
   "outputs": [
    {
     "ename": "IndentationError",
     "evalue": "expected an indented block (Temp/ipykernel_10012/1359329803.py, line 3)",
     "output_type": "error",
     "traceback": [
      "\u001b[1;36m  File \u001b[1;32m\"C:\\Users\\aliya\\AppData\\Local\\Temp/ipykernel_10012/1359329803.py\"\u001b[1;36m, line \u001b[1;32m3\u001b[0m\n\u001b[1;33m    else:\u001b[0m\n\u001b[1;37m    ^\u001b[0m\n\u001b[1;31mIndentationError\u001b[0m\u001b[1;31m:\u001b[0m expected an indented block\n"
     ]
    }
   ],
   "source": [
    "if x > 0 and x < 10:\n",
    "    # A\n",
    "else:\n",
    "    # B"
   ]
  },
  {
   "cell_type": "markdown",
   "id": "6eaeb7ab-288e-4e9c-b7c5-114a045b0819",
   "metadata": {},
   "source": [
    "### **파이썬만 가능한 방법**\n",
    "- 연산자 한꺼번에 쓰기"
   ]
  },
  {
   "cell_type": "code",
   "execution_count": 21,
   "id": "40563bce-6467-4a9d-a1f4-003eda98a16a",
   "metadata": {},
   "outputs": [
    {
     "ename": "IndentationError",
     "evalue": "expected an indented block (Temp/ipykernel_10012/3985380326.py, line 3)",
     "output_type": "error",
     "traceback": [
      "\u001b[1;36m  File \u001b[1;32m\"C:\\Users\\aliya\\AppData\\Local\\Temp/ipykernel_10012/3985380326.py\"\u001b[1;36m, line \u001b[1;32m3\u001b[0m\n\u001b[1;33m    else:\u001b[0m\n\u001b[1;37m    ^\u001b[0m\n\u001b[1;31mIndentationError\u001b[0m\u001b[1;31m:\u001b[0m expected an indented block\n"
     ]
    }
   ],
   "source": [
    "if 0 < x < 10:\n",
    "    # block A\n",
    "else:\n",
    "    # block B"
   ]
  },
  {
   "cell_type": "markdown",
   "id": "c208d22a-551b-408b-b2a9-b0a5f1c82c6f",
   "metadata": {},
   "source": [
    "## **논리연산자**\n",
    "- 비교연산 조건 여러 번 사용\n",
    "    - 예 : x > 0, x < 10\n",
    "    \n",
    "- 종류 : **and, or, not**\n",
    "    - A **and** B: A 그리고 B. A, B **둘 다 참일 때** True\n",
    "    - A **or** B: A 혹은 B. A, B **둘 중 하나만 참이면** True\n",
    "    - **not** A: A가 **참이면 False. 거짓이면 True** (~)"
   ]
  },
  {
   "cell_type": "markdown",
   "id": "77533f8d-7ed2-4afc-bded-7cd1644d7b72",
   "metadata": {},
   "source": [
    "## **True/False**\n",
    "- 표기 : **A = True (A가 참이면..)**\n",
    "- 아무것도 안쓰면 True 의미"
   ]
  },
  {
   "cell_type": "code",
   "execution_count": 22,
   "id": "3eade93c-44cc-4567-92de-81425cbbb9a6",
   "metadata": {},
   "outputs": [
    {
     "ename": "NameError",
     "evalue": "name 'a' is not defined",
     "output_type": "error",
     "traceback": [
      "\u001b[1;31m---------------------------------------------------------------------------\u001b[0m",
      "\u001b[1;31mNameError\u001b[0m                                 Traceback (most recent call last)",
      "\u001b[1;32m~\\AppData\\Local\\Temp/ipykernel_10012/1277941653.py\u001b[0m in \u001b[0;36m<module>\u001b[1;34m\u001b[0m\n\u001b[1;32m----> 1\u001b[1;33m \u001b[1;32mif\u001b[0m \u001b[0ma\u001b[0m \u001b[1;33m==\u001b[0m \u001b[1;32mTrue\u001b[0m\u001b[1;33m:\u001b[0m \u001b[1;31m#(X)\u001b[0m\u001b[1;33m\u001b[0m\u001b[1;33m\u001b[0m\u001b[0m\n\u001b[0m\u001b[0;32m      2\u001b[0m     \u001b[0mprint\u001b[0m\u001b[1;33m(\u001b[0m\u001b[1;33m)\u001b[0m\u001b[1;33m\u001b[0m\u001b[1;33m\u001b[0m\u001b[0m\n",
      "\u001b[1;31mNameError\u001b[0m: name 'a' is not defined"
     ]
    }
   ],
   "source": [
    "if a == True: #(X)\n",
    "    print()"
   ]
  },
  {
   "cell_type": "code",
   "execution_count": 23,
   "id": "626f7eaf-c162-4590-a979-0d5200090ffb",
   "metadata": {},
   "outputs": [
    {
     "ename": "NameError",
     "evalue": "name 'a' is not defined",
     "output_type": "error",
     "traceback": [
      "\u001b[1;31m---------------------------------------------------------------------------\u001b[0m",
      "\u001b[1;31mNameError\u001b[0m                                 Traceback (most recent call last)",
      "\u001b[1;32m~\\AppData\\Local\\Temp/ipykernel_10012/631401776.py\u001b[0m in \u001b[0;36m<module>\u001b[1;34m\u001b[0m\n\u001b[1;32m----> 1\u001b[1;33m \u001b[1;32mif\u001b[0m \u001b[0ma\u001b[0m\u001b[1;33m:\u001b[0m \u001b[1;31m# (O)\u001b[0m\u001b[1;33m\u001b[0m\u001b[1;33m\u001b[0m\u001b[0m\n\u001b[0m\u001b[0;32m      2\u001b[0m     \u001b[0mprint\u001b[0m\u001b[1;33m(\u001b[0m\u001b[1;33m)\u001b[0m\u001b[1;33m\u001b[0m\u001b[1;33m\u001b[0m\u001b[0m\n",
      "\u001b[1;31mNameError\u001b[0m: name 'a' is not defined"
     ]
    }
   ],
   "source": [
    "if a: # (O)\n",
    "    print()"
   ]
  },
  {
   "cell_type": "markdown",
   "id": "51c87e5e-5d5b-47a0-867b-3630d1df4a9e",
   "metadata": {
    "tags": []
   },
   "source": [
    "## **In - 포함 여부**\n",
    "- memgership operator, 요소가 안에 포함되어 있는지 확인\n",
    "- 형식 : **A in B = A가 B에 포함되어 있나**"
   ]
  },
  {
   "cell_type": "code",
   "execution_count": 24,
   "id": "9670704f-969b-4a1b-af96-897b1b45eda1",
   "metadata": {},
   "outputs": [
    {
     "name": "stdout",
     "output_type": "stream",
     "text": [
      "자음\n"
     ]
    }
   ],
   "source": [
    "# ex1. 모음인지 아닌지 판단하라 (a, e, i, o, u)\n",
    "letter = 'k'\n",
    "\n",
    "#if letter == 'a' or letter == 'e' ... 대신\n",
    "\n",
    "if letter in ['a', 'e', 'i', 'o', 'u']:\n",
    "    print(\"모음\")\n",
    "else: print(\"자음\")"
   ]
  },
  {
   "cell_type": "code",
   "execution_count": 27,
   "id": "f2e759e9-104e-4153-abf9-b50863eac81c",
   "metadata": {},
   "outputs": [
    {
     "name": "stdout",
     "output_type": "stream",
     "text": [
      "모음 없음\n",
      "yes\n"
     ]
    }
   ],
   "source": [
    "# ex2. 단어에 모음 있나 없나\n",
    "\n",
    "#틀린 내 풀이\n",
    "word = 'apple'\n",
    "if word in ['a', 'e', 'i', 'o', 'u']: # 반대로 써야 함. 그런데 리스트를 그대로 왼쪽에 쓰면 하나씩이 아니라 리스트 전체가 string에 있는지 찾아보므로 틀림.\n",
    "    print(\"모음 있음\")\n",
    "else:\n",
    "    print(\"모음 없음\")\n",
    "    \n",
    "# 맞는 풀이\n",
    "if 'a' or 'e' 'i' 'o' 'u' in word:\n",
    "    print(\"yes\")"
   ]
  },
  {
   "cell_type": "markdown",
   "id": "0455a5df-d402-4d5f-9183-4b307d0cb0a1",
   "metadata": {
    "tags": []
   },
   "source": [
    "## **코끼리 연산자 (Walrus Operator)**\n",
    "- 형식 : **:=**\n",
    "- **할당 + 테스트 동시에** 하는 기능\n",
    "\n",
    "- 예시🔽"
   ]
  },
  {
   "cell_type": "code",
   "execution_count": 32,
   "id": "86b4e373-799a-4470-b659-177527f5c6fb",
   "metadata": {},
   "outputs": [],
   "source": [
    "tweet_limit = 200\n",
    "tweet_string = 'blah' * 50"
   ]
  },
  {
   "cell_type": "code",
   "execution_count": 39,
   "id": "d68b4a7d-3a09-4f4a-8ce8-0bfe58bc066f",
   "metadata": {},
   "outputs": [
    {
     "name": "stdout",
     "output_type": "stream",
     "text": [
      "불가능하다\n"
     ]
    }
   ],
   "source": [
    "diff = tweet_limit - len(tweet_string)\n",
    "if diff > 0:\n",
    "    print(\"가능하다\")\n",
    "else:\n",
    "    print(\"불가능하다\")"
   ]
  },
  {
   "cell_type": "code",
   "execution_count": 40,
   "id": "8f9db3a1-ac75-4a62-82dc-2678cd4834e3",
   "metadata": {},
   "outputs": [
    {
     "name": "stdout",
     "output_type": "stream",
     "text": [
      "no\n"
     ]
    }
   ],
   "source": [
    "if diff := tweet_limit - len(tweet_string) > 0:\n",
    "    print(\"yes\")\n",
    "else: print('no')"
   ]
  },
  {
   "cell_type": "markdown",
   "id": "d32e0c1a-69c8-4104-8778-bb82322cea94",
   "metadata": {},
   "source": [
    "## **QUIZ 1**\n",
    "- 윤년을 구해보자.\n",
    "    - 연도 입력받는다.\n",
    "    - 해당 연도가 4로 나눠지면 윤년\n",
    "    - 100으로 나눠지면 안 된다.\n",
    "    - 400으로 나눠지면 윤년\n",
    "- 출력: {}년은 윤년입니다. / ~ 아닙니다."
   ]
  },
  {
   "cell_type": "code",
   "execution_count": 35,
   "id": "f5db655e-91d9-4f6c-9b68-cfde2de3e13a",
   "metadata": {},
   "outputs": [
    {
     "name": "stdin",
     "output_type": "stream",
     "text": [
      "연도를 입력하세요. 2018\n"
     ]
    },
    {
     "name": "stdout",
     "output_type": "stream",
     "text": [
      "2018년은 윤년이 아닙니다.\n"
     ]
    }
   ],
   "source": [
    "# 내 답안\n",
    "year = int(input(\"연도를 입력하세요.\"))\n",
    "\n",
    "if year % 4 == 0 and year % 400 == 0:\n",
    "    print(f\"{year}년은 윤년입니다.\")\n",
    "else:\n",
    "    print(f\"{year}년은 윤년이 아닙니다.\")"
   ]
  },
  {
   "cell_type": "code",
   "execution_count": 42,
   "id": "f6463d1c-e85f-429b-af25-20bc824694e3",
   "metadata": {},
   "outputs": [
    {
     "name": "stdin",
     "output_type": "stream",
     "text": [
      "연도를 입력하세요. 2018\n"
     ]
    },
    {
     "name": "stdout",
     "output_type": "stream",
     "text": [
      "2018년은 윤년이 아닙니다.\n"
     ]
    }
   ],
   "source": [
    "#다른 풀이\n",
    "year = int(input(\"연도를 입력하세요.\"))\n",
    "\n",
    "if ((year % 4 == 0) and (year % 100 != 0)) or (year % 400 == 0):\n",
    "    print(f\"{year}년은 윤년입니다.\")\n",
    "else:\n",
    "    print(f\"{year}년은 윤년이 아닙니다.\")"
   ]
  },
  {
   "cell_type": "markdown",
   "id": "4137964d-0934-4339-918c-a27c1bb66115",
   "metadata": {},
   "source": [
    "------------"
   ]
  },
  {
   "cell_type": "markdown",
   "id": "4dbae212-4970-4570-ae1c-6a021a9aefe0",
   "metadata": {
    "tags": []
   },
   "source": [
    "\n",
    "## **String 문자열**\n",
    "\n",
    "1. 불변적(immutable) : 변경 불가(잘라내서 더하거나 복제하는 건 가능)\n",
    "2. 따옴표로 선언(' or \")\n",
    "3. 주석 쓸 때는 ''' or \"\"\"\n",
    "4. 형변환 string으로 할 때 : str()"
   ]
  },
  {
   "cell_type": "markdown",
   "id": "19128b6b-8cf9-492e-bb1f-69e4e391c747",
   "metadata": {},
   "source": [
    "### **Escape Character**\n",
    "- 있는 그대로 인식되지 않는 특수한 문자열에 대해 **그대로 인식하라**는 의미\n",
    "- '\\\\'(역슬래시)를 문자열 앞에 붙여준다.\n",
    "\n",
    "- \\n : 개행\n",
    "- \\t : tab\n",
    "- \\b : backspace\n",
    "- \\', \\\" : 따옴표를 문자 그대로 인식\n",
    "..."
   ]
  },
  {
   "cell_type": "markdown",
   "id": "65fbaaa4-966b-4886-a041-99a9c4846d96",
   "metadata": {},
   "source": [
    "### **문자열의 연산**\n",
    "1. 더하기(\"+\") concatenation : 공백 없이 문자열 붙여줌\n",
    "2. 곱셈(\"* \") : 복제"
   ]
  },
  {
   "cell_type": "markdown",
   "id": "36b5677e-79d5-4f96-a1f3-f32fc2829929",
   "metadata": {},
   "source": [
    "### **문자열 추출 Slicing**"
   ]
  },
  {
   "cell_type": "markdown",
   "id": "a7d17fba-f203-44af-bdc4-68a80ea8121b",
   "metadata": {},
   "source": [
    "- 추출 : 문자열 일부 떼어내기\n",
    "- 추출 방법 : **[오프셋 지정]**\n",
    "- **오프셋**\n",
    "    - 형식 **[시작:끝:스텝]**\n",
    "    - 0부터 세기 시작!\n",
    "    - 스텝(얼마나 건너뛰는지) 기본값은 1\n",
    "    - **0부터** 시작!\n",
    "    - 예: 0123\n",
    "          jack\n",
    "         -4 -1\n",
    "    - 음수표현 가능. 뒤에서부터 세어서 -1부터 시작.\n",
    "    - 시작은 포함, 끝은 미포함. (**시작 이상 - 끝 미만**)"
   ]
  },
  {
   "cell_type": "markdown",
   "id": "6eff2312-6414-455d-a23e-53460e9b9f5c",
   "metadata": {},
   "source": [
    "### **Slicing 문법**"
   ]
  },
  {
   "cell_type": "markdown",
   "id": "398b3621-c712-4912-a467-8c4c285f193e",
   "metadata": {},
   "source": [
    "- **[: n] or [0 : n]**: 처음부터 n - 1 까지\n",
    "- **[:]** : 처음부터 끝까지\n",
    "- **[::-1]** : 모든 글자 거꾸로 출력"
   ]
  },
  {
   "cell_type": "markdown",
   "id": "08fe2a4b-cbf3-4330-93f5-e6e15121ffe1",
   "metadata": {},
   "source": [
    "#### NLTK(Natural Language Toolkit)\n",
    "- 자연어 분석용 패키지(교육용) : 이걸 활용해 \n",
    "- 내장함수, 기능들이 들어가 있음.\n",
    "    - 예: 토크나이즈, 파싱, 태깅, ..."
   ]
  },
  {
   "cell_type": "code",
   "execution_count": 2,
   "id": "79db3c5c-da60-4934-82db-09068b3e8e49",
   "metadata": {},
   "outputs": [],
   "source": [
    "#!pip install nltk : nltk 설치"
   ]
  },
  {
   "cell_type": "code",
   "execution_count": 3,
   "id": "988ef581-39b2-4362-8e94-1bf7120cb8a8",
   "metadata": {},
   "outputs": [
    {
     "data": {
      "text/plain": [
       "True"
      ]
     },
     "execution_count": 3,
     "metadata": {},
     "output_type": "execute_result"
    }
   ],
   "source": [
    "import nltk # nltk 가져오기\n",
    "nltk.download('book', quiet=True) # nltk에 접근하려면 점(.) 사용, 부분다운 받으려면 괄호 안에 따로 다운받을 부분 적기\n",
    "#quiet=True는 복잡하게 뜨는 애들 안 뜨게 해줌\n"
   ]
  },
  {
   "cell_type": "code",
   "execution_count": 4,
   "id": "5961b7e1-8411-4e21-b979-10a7acda1a93",
   "metadata": {},
   "outputs": [],
   "source": [
    "#from nltk import book # nltk에서 book을 가져온다"
   ]
  },
  {
   "cell_type": "code",
   "execution_count": 7,
   "id": "8b979398-9d10-4912-a0d0-c4e94c693b66",
   "metadata": {},
   "outputs": [
    {
     "name": "stdout",
     "output_type": "stream",
     "text": [
      "*** Introductory Examples for the NLTK Book ***\n",
      "Loading text1, ..., text9 and sent1, ..., sent9\n",
      "Type the name of the text or sentence to view it.\n",
      "Type: 'texts()' or 'sents()' to list the materials.\n",
      "text1: Moby Dick by Herman Melville 1851\n",
      "text2: Sense and Sensibility by Jane Austen 1811\n",
      "text3: The Book of Genesis\n",
      "text4: Inaugural Address Corpus\n",
      "text5: Chat Corpus\n",
      "text6: Monty Python and the Holy Grail\n",
      "text7: Wall Street Journal\n",
      "text8: Personals Corpus\n",
      "text9: The Man Who Was Thursday by G . K . Chesterton 1908\n"
     ]
    }
   ],
   "source": [
    "from nltk import book"
   ]
  },
  {
   "cell_type": "markdown",
   "id": "ab8eef45-e692-4858-97a8-277bf9c9bfd1",
   "metadata": {},
   "source": [
    "- **토큰** : 프로그래밍에서 단어 단위.\n",
    "    - 예:  hello world에서 hello와 world\n",
    "    - I'm not a coward. 에서 단어를 I'm / I, 'm / I, am 등으로 나눌 수 있는데 이걸 어떻게 나눌 건지 정한 게 토큰."
   ]
  },
  {
   "cell_type": "code",
   "execution_count": 8,
   "id": "e31352ca-e61e-49c5-850a-79e4f132c324",
   "metadata": {},
   "outputs": [
    {
     "data": {
      "text/plain": [
       "['[',\n",
       " 'Moby',\n",
       " 'Dick',\n",
       " 'by',\n",
       " 'Herman',\n",
       " 'Melville',\n",
       " '1851',\n",
       " ']',\n",
       " 'ETYMOLOGY',\n",
       " '.']"
      ]
     },
     "execution_count": 8,
     "metadata": {},
     "output_type": "execute_result"
    }
   ],
   "source": [
    "moby = book.text1\n",
    "moby.tokens[:10] # 토큰 10개만 가져오기"
   ]
  },
  {
   "cell_type": "markdown",
   "id": "9ca8f1b3-4387-4e02-8806-6db7f2c48f4c",
   "metadata": {},
   "source": [
    "- **len()** : 길이 재기\n",
    "- **set()** : 중복 사라짐. 함수가 아닌 자료형을 변환한 것.\n",
    "- **len(set())** : 중복 없이 몇 단어인지 길이 재기"
   ]
  },
  {
   "cell_type": "markdown",
   "id": "1f6afbe8-1f18-4197-b9c1-6350ead68cf7",
   "metadata": {},
   "source": [
    "## **list**\n",
    "    - 형태: ['a', a, True]\n",
    "    - 순서 O, 중복 허용\n",
    "    - 형변환 방법 : list()\n",
    "\n",
    "## **set**\n",
    "    -형태: {'a', 2, True}\n",
    "    - 순서 X(인덱싱 안됨), 중복 불가\n",
    "    - 형변환 방법: set()\n",
    "    - 수학의 집합 개념과 비슷"
   ]
  },
  {
   "cell_type": "code",
   "execution_count": 10,
   "id": "1b3354ce-879f-436f-8192-210d005d838d",
   "metadata": {},
   "outputs": [
    {
     "data": {
      "text/plain": [
       "['kia', 'hyundai', 'renault', 'benz', 'benz', 'kia']"
      ]
     },
     "execution_count": 10,
     "metadata": {},
     "output_type": "execute_result"
    }
   ],
   "source": [
    "cars = ['kia', 'hyundai', 'renault', 'benz', 'benz', 'kia']\n",
    "cars"
   ]
  },
  {
   "cell_type": "code",
   "execution_count": 11,
   "id": "0a305c8f-bcd8-46d3-9a26-cc0907a6f48d",
   "metadata": {},
   "outputs": [
    {
     "data": {
      "text/plain": [
       "{'benz', 'hyundai', 'kia', 'renault'}"
      ]
     },
     "execution_count": 11,
     "metadata": {},
     "output_type": "execute_result"
    }
   ],
   "source": [
    "set(cars) # 중복 사라짐"
   ]
  },
  {
   "cell_type": "markdown",
   "id": "26145b86-0274-41b3-9d6c-ac81e1a57a2b",
   "metadata": {},
   "source": [
    "#### **Lexical Diversity**\n",
    "- 얼마나 다양한 걸 썼는지\n",
    "- **len(set()) / len()**"
   ]
  },
  {
   "cell_type": "markdown",
   "id": "a84a8c7e-ad6e-4a80-a84d-10b71d5e1dc7",
   "metadata": {},
   "source": [
    "### **정렬**"
   ]
  },
  {
   "cell_type": "markdown",
   "id": "3e11d55a-d7dd-472d-b23f-cd75d08a94ff",
   "metadata": {},
   "source": [
    "- **sorted()** : 오름차순\n",
    "- **sorted(정렬할 거, reverse=True)** : 내림차순\n",
    "- 정렬 순서 : 문장 부호 - 숫자 - 대문자 - 소문자"
   ]
  },
  {
   "cell_type": "code",
   "execution_count": 13,
   "id": "e7ab8b62-89ee-4753-80ff-e0e07492b18c",
   "metadata": {},
   "outputs": [
    {
     "data": {
      "text/plain": [
       "['renault', 'kia', 'kia', 'hyundai', 'benz', 'benz']"
      ]
     },
     "execution_count": 13,
     "metadata": {},
     "output_type": "execute_result"
    }
   ],
   "source": [
    "sorted(cars, reverse=True)"
   ]
  },
  {
   "cell_type": "code",
   "execution_count": 14,
   "id": "3c45bb7b-fbca-4b63-8c3e-10ddd4c63b2f",
   "metadata": {},
   "outputs": [
    {
     "data": {
      "text/plain": [
       "['!', '!', '!', '!', '!', '!', '!', '!', '!', '!']"
      ]
     },
     "execution_count": 14,
     "metadata": {},
     "output_type": "execute_result"
    }
   ],
   "source": [
    "sorted(moby)[:10]"
   ]
  },
  {
   "cell_type": "markdown",
   "id": "b1d6b89b-b2d3-4cf1-86c3-14dba3f8ae12",
   "metadata": {},
   "source": [
    "## **Quiz 2**\n",
    "- text6 가져와서 토큰을 변수에 담는다.\n",
    "- 중복 없는 단어 셋으로 저장하고 내림차순으로 정렬하라.\n",
    "    -(조건문)앞에서 10개 단어 출력\n",
    "    -단어에 z가 있으면 대문자로 바꾸시오\n",
    "    -z가 없는데 길이가 4개 이상이면 끝 글자를 대문자로 바꾸기\n",
    "    \n",
    "## **Quiz 3(스트링 관련)**\n",
    "- 주민번호, 휴대폰번호, 이메일 주소 입력 받는다.\n",
    "- 주민번호, 휴대폰번호는 숫잠나 입력받는다(하이픈 없이)\n",
    "- 이메일주소는 아이디만 입력받는다.(@~~ 없이)\n",
    "    - 1. \"당신은 {}년 {}월 {}일 출생의 {남성/여성}입니다.\"\n",
    "    - 2. 휴대폰 번호: 하이픈으로 연결하기(000-0000-0000)\n",
    "    - 3. 이메일주소: 뒤에 @gmail.com 붙여주기"
   ]
  },
  {
   "cell_type": "code",
   "execution_count": null,
   "id": "d00d7cef-61aa-4795-b979-bdee40b99981",
   "metadata": {},
   "outputs": [],
   "source": []
  }
 ],
 "metadata": {
  "kernelspec": {
   "display_name": "Python 3 (ipykernel)",
   "language": "python",
   "name": "python3"
  },
  "language_info": {
   "codemirror_mode": {
    "name": "ipython",
    "version": 3
   },
   "file_extension": ".py",
   "mimetype": "text/x-python",
   "name": "python",
   "nbconvert_exporter": "python",
   "pygments_lexer": "ipython3",
   "version": "3.9.7"
  }
 },
 "nbformat": 4,
 "nbformat_minor": 5
}
