{
 "cells": [
  {
   "cell_type": "markdown",
   "id": "fee3a264-4bd2-4350-825c-61b27b00c124",
   "metadata": {},
   "source": [
    "# **Week 11** 객체 (이어서)\n",
    "* * *"
   ]
  },
  {
   "cell_type": "markdown",
   "id": "38cb581b-1d84-4d96-93d7-43de467c7086",
   "metadata": {},
   "source": [
    "### **상속 (inheritance)**\n",
    "- **B가 A를 상속한다** : A를 재사용할 때\n",
    "    - A의 대부분을 쓰고 나머지를 추가, 변경하고 싶을 때\n",
    "    - 다 붙여서 넣기 싫을 떄 사용\n",
    "    - 부모의 모든 속성을 그대로 가져와서 쓰겠다는 뜻<br>\n",
    "    - 반복되는 부분을 쓰지 않고 가져와서 물려받겠다는 의미.<br><br>\n",
    "\n",
    "- A <- B (B가 A를 상속할 때) 명칭\n",
    "    - A : **\"부모 클래스, 슈퍼 클래스, 베이스 크래스\"**\n",
    "    - B : **\"자식 클래스, 서브 클래스, derived class\"**<br><br>\n",
    "- 자식 클래스는 부모 클래스를 구체화한다.\n",
    "- **is-a** 관계: Car is-a Vehicle(포함된다.)"
   ]
  },
  {
   "cell_type": "code",
   "execution_count": 1,
   "id": "b86142e6-f33a-4caa-b2bb-2b39b591f48e",
   "metadata": {},
   "outputs": [],
   "source": [
    "class Vehicle:\n",
    "    def __init__(self, speed):\n",
    "        self.speed = speed\n",
    "        \n",
    "    def go(self):\n",
    "        print(f'{self.speed}의 속도로 달린다.')\n",
    "        \n",
    "#child\n",
    "class Car(Vehicle):\n",
    "    pass"
   ]
  },
  {
   "cell_type": "code",
   "execution_count": 2,
   "id": "2aead305-8801-424b-a8c2-342ebe28debb",
   "metadata": {},
   "outputs": [
    {
     "name": "stdout",
     "output_type": "stream",
     "text": [
      "2km/h의 속도로 달린다.\n"
     ]
    }
   ],
   "source": [
    "car = Car('2km/h')\n",
    "car.go()#상속예시"
   ]
  },
  {
   "cell_type": "markdown",
   "id": "ba096b1f-5ebb-40ed-9d37-be197e5b8385",
   "metadata": {},
   "source": [
    "### **변수 추가, 변경**"
   ]
  },
  {
   "cell_type": "code",
   "execution_count": 3,
   "id": "f8df4dbd-2430-4177-80b8-061cb0bfd527",
   "metadata": {},
   "outputs": [],
   "source": [
    "class Car(Vehicle):\n",
    "    def __init__(self, speed, brand):\n",
    "        # speed == 부모\n",
    "        super().__init__(speed)\n",
    "        \n",
    "        # brand == 자식\n",
    "        self.brand = brand #자식의 고유한 특성이 된다."
   ]
  },
  {
   "cell_type": "code",
   "execution_count": 4,
   "id": "f24ec048-510d-45a1-9213-cf339a2bc176",
   "metadata": {},
   "outputs": [
    {
     "data": {
      "text/plain": [
       "'kia'"
      ]
     },
     "execution_count": 4,
     "metadata": {},
     "output_type": "execute_result"
    }
   ],
   "source": [
    "car2 = Car('20km/h', 'kia')\n",
    "car2.brand"
   ]
  },
  {
   "cell_type": "code",
   "execution_count": 12,
   "id": "ce903b7e-2991-4dab-a159-2c4acb7b1534",
   "metadata": {},
   "outputs": [
    {
     "ename": "AttributeError",
     "evalue": "'Vehicle' object has no attribute 'brand'",
     "output_type": "error",
     "traceback": [
      "\u001b[1;31m---------------------------------------------------------------------------\u001b[0m",
      "\u001b[1;31mAttributeError\u001b[0m                            Traceback (most recent call last)",
      "\u001b[1;32m~\\AppData\\Local\\Temp/ipykernel_22484/2184005269.py\u001b[0m in \u001b[0;36m<module>\u001b[1;34m\u001b[0m\n\u001b[0;32m      1\u001b[0m \u001b[0mv\u001b[0m \u001b[1;33m=\u001b[0m \u001b[0mVehicle\u001b[0m\u001b[1;33m(\u001b[0m\u001b[1;34m'33km/h'\u001b[0m\u001b[1;33m)\u001b[0m\u001b[1;33m\u001b[0m\u001b[1;33m\u001b[0m\u001b[0m\n\u001b[1;32m----> 2\u001b[1;33m \u001b[0mv\u001b[0m\u001b[1;33m.\u001b[0m\u001b[0mbrand\u001b[0m\u001b[1;33m\u001b[0m\u001b[1;33m\u001b[0m\u001b[0m\n\u001b[0m",
      "\u001b[1;31mAttributeError\u001b[0m: 'Vehicle' object has no attribute 'brand'"
     ]
    }
   ],
   "source": [
    "v = Vehicle('33km/h')\n",
    "v.brand"
   ]
  },
  {
   "cell_type": "markdown",
   "id": "20e9cf23-ef40-4316-bd7f-3cb31deee7cf",
   "metadata": {},
   "source": [
    "### **메소드 추가, 변경**\n",
    "- override 하면 부모의 메서드가 잊힌다."
   ]
  },
  {
   "cell_type": "code",
   "execution_count": 31,
   "id": "fec3835d-6901-45c4-920c-f69cf3b780c1",
   "metadata": {},
   "outputs": [],
   "source": [
    "class Car(Vehicle):\n",
    "    def __init__(self, speed, brand):\n",
    "        # speed == 부모\n",
    "        super().__init__(speed) #Vehicle().speed\n",
    "        self.brand = brand\n",
    "    \n",
    "    #오버라이드(override): 재정의\n",
    "    def go(self):\n",
    "        super().go() #부모의 go도 함께 가져가고 싶다면\n",
    "        print(f'차종 {self.brand}의 속도 {self.speed}')\n",
    "        \n",
    "    # 메소드 추가\n",
    "    def stop():\n",
    "        pass"
   ]
  },
  {
   "cell_type": "code",
   "execution_count": 32,
   "id": "952a2ac8-045c-40cf-a90c-0494231349ec",
   "metadata": {},
   "outputs": [
    {
     "name": "stdout",
     "output_type": "stream",
     "text": [
      "33km/h의 속도로 달린다.\n",
      "차종 mini의 속도 33km/h\n"
     ]
    }
   ],
   "source": [
    "car3 = Car('33km/h', 'mini')\n",
    "car3.go()"
   ]
  },
  {
   "cell_type": "markdown",
   "id": "89afbfc3-71f6-4628-a4b7-115960129716",
   "metadata": {},
   "source": [
    "### 실습"
   ]
  },
  {
   "cell_type": "code",
   "execution_count": null,
   "id": "d5fc436e-0f77-4170-bcae-a0adfb2f3339",
   "metadata": {},
   "outputs": [],
   "source": []
  },
  {
   "cell_type": "code",
   "execution_count": 5,
   "id": "06e7a36f-aef3-4d5b-95fc-207e52e9c8bb",
   "metadata": {},
   "outputs": [],
   "source": [
    "class Person:\n",
    "    def __init__(self, name):\n",
    "        self.name = name #pablo\n",
    "        \n",
    "#------------------------------\n",
    "class Doctor(Person): #Dr.pablo\n",
    "    def __init__(self, name):\n",
    "        super().__init__('Dr.' + name)#정답 코드\n",
    "\n",
    "class Male(Doctor): #Mr. Pablo\n",
    "    def __init__(self, name):\n",
    "        super().__init__('Mr. ' + name)\n",
    "        \n",
    "class Female(Doctor): #Mrs.Pablo\n",
    "    def __init__(self, name):\n",
    "        super().__init__('Mrs. ' + name)\n",
    "\n"
   ]
  },
  {
   "cell_type": "code",
   "execution_count": 7,
   "id": "e4f34b17-c1b4-4f20-9b7d-4b5523929789",
   "metadata": {},
   "outputs": [
    {
     "data": {
      "text/plain": [
       "'Dr.Pablo'"
      ]
     },
     "execution_count": 7,
     "metadata": {},
     "output_type": "execute_result"
    }
   ],
   "source": [
    "full_name = Doctor('Pablo')\n",
    "full_name.name"
   ]
  },
  {
   "cell_type": "markdown",
   "id": "1da01fd1-a63a-4feb-8111-57094a1e3070",
   "metadata": {},
   "source": [
    "### 다중상속\n",
    "## **Method Resolution Order (MRO)**\n",
    "- Animal <- Horse <- Donkey\n",
    "    - Mule (Donkey > Horse)\n",
    "    - Hinny (Horse > Donkey)"
   ]
  },
  {
   "cell_type": "code",
   "execution_count": 25,
   "id": "8c0d6878-1614-4299-bfaf-51bc86ba36cb",
   "metadata": {},
   "outputs": [],
   "source": [
    "class Animal:\n",
    "    def says(self):\n",
    "        return '동물이 운다.'\n",
    "    \n",
    "#자식\n",
    "class Horse(Animal):\n",
    "    def says(self):\n",
    "        return '히히힝'\n",
    "\n",
    "class Donkey(Animal):\n",
    "    def says(self):\n",
    "        return '히이호'\n",
    "    \n",
    "#손주\n",
    "class Mule(Donkey, Horse):\n",
    "    pass\n",
    "\n",
    "class Hinny(Horse, Donkey):\n",
    "    pass"
   ]
  },
  {
   "cell_type": "code",
   "execution_count": 9,
   "id": "2e0e6a8d-1145-4f0a-a5d0-ce888aa7e1fb",
   "metadata": {},
   "outputs": [
    {
     "data": {
      "text/plain": [
       "'히이호'"
      ]
     },
     "execution_count": 9,
     "metadata": {},
     "output_type": "execute_result"
    }
   ],
   "source": [
    "m = Mule()\n",
    "m.says()"
   ]
  },
  {
   "cell_type": "code",
   "execution_count": 10,
   "id": "1b06aa82-2bde-4bf1-b0a5-a6925cf3c0b3",
   "metadata": {},
   "outputs": [
    {
     "data": {
      "text/plain": [
       "'히히힝'"
      ]
     },
     "execution_count": 10,
     "metadata": {},
     "output_type": "execute_result"
    }
   ],
   "source": [
    "Hinny().says() #다중 상속은 가까운 것부터 타주게 먼저 써줄 것."
   ]
  },
  {
   "cell_type": "code",
   "execution_count": 11,
   "id": "edad6183-0ca2-4ec7-b8a4-a9b9835c6d60",
   "metadata": {},
   "outputs": [
    {
     "data": {
      "text/plain": [
       "[__main__.Mule, __main__.Donkey, __main__.Horse, __main__.Animal, object]"
      ]
     },
     "execution_count": 11,
     "metadata": {},
     "output_type": "execute_result"
    }
   ],
   "source": [
    "Mule.mro() #  뭐가 제일 가까운지 불분명하면 mro 사용"
   ]
  },
  {
   "cell_type": "markdown",
   "id": "47692824-090b-465a-b3e3-312d294186f4",
   "metadata": {},
   "source": [
    "### **다형성**"
   ]
  },
  {
   "cell_type": "markdown",
   "id": "d0dd19c2-fedd-4023-8ff2-a389e886bd10",
   "metadata": {},
   "source": [
    "- 다른 객체라 할지라도 같은 메소드를 가진다면 같은 기능을 할 수 있다.\n",
    "- 형태는 다르지만 기능은 같다."
   ]
  },
  {
   "cell_type": "code",
   "execution_count": 30,
   "id": "cb36e0f6-0702-4d95-b3f0-59268616831c",
   "metadata": {},
   "outputs": [
    {
     "name": "stdout",
     "output_type": "stream",
     "text": [
      "히이호\n",
      "히이호\n",
      "동물이 운다.\n"
     ]
    }
   ],
   "source": [
    "for animal in [Mule(), Donkey(), Animal()]:\n",
    "    print(animal.says())"
   ]
  },
  {
   "cell_type": "markdown",
   "id": "d49e53e2-e1dc-4585-bde7-88caee5cc4b4",
   "metadata": {},
   "source": [
    "### **메서드 타입**\n",
    "#### **1. 인스턴스 메서드**\n",
    "   - self가 첫 인자\n",
    "   - 객체 생성 -> 사용 가능\n",
    "    \n",
    "#### **2. 클래스 메서드**\n",
    "   - 객체 생성하지 않아도 사용 가능\n",
    "   - 인스턴스가 아닌 **클래스**에 접근하는 메서드\n",
    "   - **@classmethod** 라는 데코레이터 사용\n",
    "   - 예약어: **cls**\n",
    "   - 함수(cls)가 첫 인자\n",
    "   - class Person, cls == Person\n",
    "    \n",
    "#### **3. 정적 메서드**\n",
    "   - 객체 생성하지 않고 접근 가능\n",
    "   - 클래스랑 전혀 상관 없기 때문에 접근 가능한 것\n",
    "   - 내용, 기능이 비슷해서 클래스 내에 묶어 두는 것.\n",
    "    \n",
    "#### **4. 추상 메서드**\n",
    "   - 추상 클래스: abstract **이름만 존재하는 클래스**\n",
    "   - 설계도 역할. 부모 클래스에서 개괄적인 설명만 적은 것. 자식 클래스에서 오버라이드 해야 함.\n",
    "   - 상속하는 자식클래스 => 반드시 구현해야 하는 메소드를 재정의.(재정의 안 하면 오류 출력.)\n",
    "   - 가독성이 좋음(협업 시 유용)"
   ]
  },
  {
   "cell_type": "code",
   "execution_count": 31,
   "id": "5de3bc4f-920a-4f32-adfa-e58a6f06438d",
   "metadata": {},
   "outputs": [
    {
     "data": {
      "text/plain": [
       "'히이호'"
      ]
     },
     "execution_count": 31,
     "metadata": {},
     "output_type": "execute_result"
    }
   ],
   "source": [
    "#1. 인스턴스 메서드\n",
    "a = Mule() # 객체 생성\n",
    "a.says()"
   ]
  },
  {
   "cell_type": "code",
   "execution_count": 13,
   "id": "81d34651-ff63-44c1-892f-6ad43664c7c3",
   "metadata": {},
   "outputs": [
    {
     "ename": "TypeError",
     "evalue": "says() missing 1 required positional argument: 'self'",
     "output_type": "error",
     "traceback": [
      "\u001b[1;31m---------------------------------------------------------------------------\u001b[0m",
      "\u001b[1;31mTypeError\u001b[0m                                 Traceback (most recent call last)",
      "\u001b[1;32m~\\AppData\\Local\\Temp/ipykernel_23984/1178907548.py\u001b[0m in \u001b[0;36m<module>\u001b[1;34m\u001b[0m\n\u001b[1;32m----> 1\u001b[1;33m \u001b[0mMule\u001b[0m\u001b[1;33m.\u001b[0m\u001b[0msays\u001b[0m\u001b[1;33m(\u001b[0m\u001b[1;33m)\u001b[0m\u001b[1;33m\u001b[0m\u001b[1;33m\u001b[0m\u001b[0m\n\u001b[0m",
      "\u001b[1;31mTypeError\u001b[0m: says() missing 1 required positional argument: 'self'"
     ]
    }
   ],
   "source": [
    "Mule.says()"
   ]
  },
  {
   "cell_type": "code",
   "execution_count": 15,
   "id": "233a2227-d804-45db-9499-e892485e16e4",
   "metadata": {},
   "outputs": [],
   "source": [
    "#2. 클래스 메서드\n",
    "class A:\n",
    "    cnt = 0\n",
    "    \n",
    "    @classmethod\n",
    "    def move(cls):#class에 접근하니까 cls\n",
    "        return cls.cnt"
   ]
  },
  {
   "cell_type": "code",
   "execution_count": 115,
   "id": "718cd029-6c65-474e-b6b1-db1ffd67ea05",
   "metadata": {},
   "outputs": [
    {
     "data": {
      "text/plain": [
       "0"
      ]
     },
     "execution_count": 115,
     "metadata": {},
     "output_type": "execute_result"
    }
   ],
   "source": [
    "A().move()"
   ]
  },
  {
   "cell_type": "code",
   "execution_count": 28,
   "id": "0eb5f929-fc12-4a35-82f6-095db31c4f47",
   "metadata": {},
   "outputs": [],
   "source": [
    "class Person:\n",
    "    def __init__(self, name, age):\n",
    "        self.name = name\n",
    "        self.age = age\n",
    "    \n",
    "    @classmethod\n",
    "    def tuple_object(cls,args): #cls -> Person을 탄다. + 튜플로 인자 받아서 객체 생성하는 메서드\n",
    "        return cls(args[0], args[1]) # Person()\n",
    "         \n",
    "name = 'kim'\n",
    "age = 24\n",
    "p = Person(name, age)\n",
    "\n",
    "info = name, age #튜플로 받음\n",
    "p = Person.tuple_object(info) #p객체 생성하지 않고 메서드에 접근."
   ]
  },
  {
   "cell_type": "code",
   "execution_count": 29,
   "id": "4fa2a594-0a90-4096-95f5-e737ef2a2ee3",
   "metadata": {},
   "outputs": [
    {
     "data": {
      "text/plain": [
       "('kim', 24)"
      ]
     },
     "execution_count": 29,
     "metadata": {},
     "output_type": "execute_result"
    }
   ],
   "source": [
    "p.name, p.age"
   ]
  },
  {
   "cell_type": "code",
   "execution_count": 26,
   "id": "c9c1c3fa-944a-4764-b47c-4cdd161bdba9",
   "metadata": {},
   "outputs": [
    {
     "data": {
      "text/plain": [
       "'객체 수: 3'"
      ]
     },
     "execution_count": 26,
     "metadata": {},
     "output_type": "execute_result"
    }
   ],
   "source": [
    "class A:\n",
    "    #붕어빵 몇 개 찍었는지(예: 객체 5개 만들었으면 5개인지 나왔으면. 클래스에 접근하면 알 수 있음.)\n",
    "    cnt = 0\n",
    "\n",
    "    def __init__(self):\n",
    "        A.cnt += 1 #예외 : 초기화할 때 클래스 변수에 접근하려면 객체명을 사용해야 한다.\n",
    "        \n",
    "    @classmethod\n",
    "    def count(cls):\n",
    "        #cls.cnt += 1\n",
    "        return f'객체 수: {cls.cnt}'\n",
    "    \n",
    "A()\n",
    "A()\n",
    "A()\n",
    "A.count()"
   ]
  },
  {
   "cell_type": "code",
   "execution_count": 16,
   "id": "7bf4eeab-48f8-4980-8d49-7dbbb544cb16",
   "metadata": {},
   "outputs": [],
   "source": [
    "#3. 정적 메서드\n",
    "class Coyote:\n",
    "    @staticmethod #정적 메소드\n",
    "    def says(): #self 없음(객체와 무관해서)\n",
    "        print('hi')"
   ]
  },
  {
   "cell_type": "code",
   "execution_count": 121,
   "id": "113be6e0-4dfb-4a9f-8ea8-8f25a34e268a",
   "metadata": {},
   "outputs": [
    {
     "name": "stdout",
     "output_type": "stream",
     "text": [
      "hi\n"
     ]
    }
   ],
   "source": [
    "Coyote.says()"
   ]
  },
  {
   "cell_type": "code",
   "execution_count": 23,
   "id": "8709ba69-5f9d-488b-84c8-004e952568be",
   "metadata": {},
   "outputs": [],
   "source": [
    "#4. 추상 메서드\n",
    "from abc import *\n",
    "\n",
    "class Vehicle(metaclass = ABCMeta):\n",
    "    #추상 클래스 설정하는 방법\n",
    "    speed = '속도'\n",
    "    \n",
    "    @abstractmethod #필수 메서드. 자식 메서드가 오버라이드해야 한다.\n",
    "    def go(self):\n",
    "        print('탈 것이 간다.')\n",
    "        \n",
    "    def stop(self):\n",
    "        pass\n",
    "    \n",
    "class Car(Vehicle):\n",
    "    def go(self): # go를 꼭 재정의해야 함\n",
    "        print(\"gogogo\")"
   ]
  },
  {
   "cell_type": "code",
   "execution_count": 24,
   "id": "7e181b0c-daea-4fed-b6d4-1b4d31040107",
   "metadata": {},
   "outputs": [
    {
     "name": "stdout",
     "output_type": "stream",
     "text": [
      "gogogo\n"
     ]
    }
   ],
   "source": [
    "c = Car()\n",
    "c.go()"
   ]
  },
  {
   "cell_type": "markdown",
   "id": "5a8cc76e-1ae3-4f02-afd1-5c0470111046",
   "metadata": {},
   "source": [
    "### **매직메소드**\n",
    "- `__init__` : special method\n",
    "- object 클래스 메서드를 재정의 하는 것\n",
    "    - `__str__` : 인스턴스를 string으로 출력(이름, 메모리주소)\n",
    "    - `__repr__` : 사용자가 이해할 수 있게 객체를 출력"
   ]
  },
  {
   "cell_type": "code",
   "execution_count": 32,
   "id": "b0a1d96c-e559-4d70-b0f9-6ad47ef685bf",
   "metadata": {},
   "outputs": [],
   "source": [
    "#사용자가 이해하기 어렵게 출력됨.\n",
    "class Person:\n",
    "    def __init__(self, name):\n",
    "        self.name = name"
   ]
  },
  {
   "cell_type": "code",
   "execution_count": 33,
   "id": "8ec3ea8c-26a7-4926-8c72-7c110d9a44b7",
   "metadata": {},
   "outputs": [
    {
     "data": {
      "text/plain": [
       "<__main__.Person at 0x265b0fb77f0>"
      ]
     },
     "execution_count": 33,
     "metadata": {},
     "output_type": "execute_result"
    }
   ],
   "source": [
    "p1 = Person('kate')\n",
    "p1"
   ]
  },
  {
   "cell_type": "code",
   "execution_count": 35,
   "id": "8b59c389-faa6-4fa4-a12d-22cfdc95fd71",
   "metadata": {},
   "outputs": [],
   "source": [
    "#매직메소드 이용해 사용자가 이해하기 쉽게 출력하기\n",
    "class Person:\n",
    "    def __init__(self, name):\n",
    "        self.name = name\n",
    "    \n",
    "    def __str__(self):\n",
    "        return self.name\n",
    "    \n",
    "    def __repr__(self):\n",
    "        return f'Person({self.name})'"
   ]
  },
  {
   "cell_type": "code",
   "execution_count": 36,
   "id": "cb3db934-88fc-4dbc-96ac-5740ecb84b8f",
   "metadata": {},
   "outputs": [
    {
     "data": {
      "text/plain": [
       "Person(kate)"
      ]
     },
     "execution_count": 36,
     "metadata": {},
     "output_type": "execute_result"
    }
   ],
   "source": [
    "p2 = Person('kate')\n",
    "p2"
   ]
  },
  {
   "cell_type": "markdown",
   "id": "ce1d87fa-3fb8-429e-812c-a382d90b84e4",
   "metadata": {},
   "source": [
    "### **namedtuple, dataclass**\n",
    "#### **1) namedtuple**\n",
    "- 변수만 있는 클래스 설정 시 더 효율적으로 사용하는 수단\n",
    "- 딕셔너리 키와 유사한 기능\n",
    "    - 메모리 사용이 덜함\n",
    "    - 인덱스&이름으로 접근\n",
    "    \n",
    "- 불변 객체"
   ]
  },
  {
   "cell_type": "code",
   "execution_count": 38,
   "id": "448ee826-80b5-4ede-b729-5268d8846146",
   "metadata": {},
   "outputs": [
    {
     "data": {
      "text/plain": [
       "('yu', 24)"
      ]
     },
     "execution_count": 38,
     "metadata": {},
     "output_type": "execute_result"
    }
   ],
   "source": [
    "from collections import namedtuple\n",
    "\n",
    "Person = namedtuple('Person', 'name age')\n",
    "a = Person('yu', 24)\n",
    "a.name, a.age"
   ]
  },
  {
   "cell_type": "code",
   "execution_count": 42,
   "id": "293a2c66-fe97-44b4-afc0-6d6ce5bf1731",
   "metadata": {},
   "outputs": [
    {
     "data": {
      "text/plain": [
       "('kim', 24)"
      ]
     },
     "execution_count": 42,
     "metadata": {},
     "output_type": "execute_result"
    }
   ],
   "source": [
    "b = a._replace(name = 'kim')\n",
    "b.name, b.age"
   ]
  },
  {
   "cell_type": "markdown",
   "id": "816035db-d516-446c-8a16-69a2040bad30",
   "metadata": {},
   "source": [
    "#### **2) dataclass**\n",
    "- init, repr 등과 같은 메소드 자동 생성"
   ]
  },
  {
   "cell_type": "code",
   "execution_count": 43,
   "id": "77ef7be4-25eb-43d5-a5b2-54312a497e9f",
   "metadata": {},
   "outputs": [
    {
     "data": {
      "text/plain": [
       "('yu', 24)"
      ]
     },
     "execution_count": 43,
     "metadata": {},
     "output_type": "execute_result"
    }
   ],
   "source": [
    "from dataclasses import dataclass\n",
    "\n",
    "@dataclass\n",
    "class Person:\n",
    "    name: str\n",
    "    age: int\n",
    "a = Person('yu', 24)\n",
    "a.name, a.age"
   ]
  }
 ],
 "metadata": {
  "kernelspec": {
   "display_name": "Python 3 (ipykernel)",
   "language": "python",
   "name": "python3"
  },
  "language_info": {
   "codemirror_mode": {
    "name": "ipython",
    "version": 3
   },
   "file_extension": ".py",
   "mimetype": "text/x-python",
   "name": "python",
   "nbconvert_exporter": "python",
   "pygments_lexer": "ipython3",
   "version": "3.9.7"
  }
 },
 "nbformat": 4,
 "nbformat_minor": 5
}
