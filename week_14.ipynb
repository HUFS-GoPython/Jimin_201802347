{
 "cells": [
  {
   "cell_type": "markdown",
   "id": "7ce735d3-4d31-4f25-8328-be9be65e8ca4",
   "metadata": {},
   "source": [
    "# Week 14\n",
    "* * *\n",
    "### 함수 II\n",
    "- 일급 객체\n",
    "- 중첩 함수\n",
    "- 익명 함수\n",
    "- 제너레이터\n",
    "- 재귀 함수"
   ]
  },
  {
   "cell_type": "markdown",
   "id": "426c48ea-58f2-4699-94dd-346f81a610c3",
   "metadata": {},
   "source": [
    "### **일급 객체**\n",
    "- first class object, first class citizen\n",
    "- 파이썬에서는 **함수도 일급 객체**다.\n",
    "- 일급 객체의 조건(세 가지 조건 충족하면 일급 객체)\n",
    "    - **함수의 인자로 전달된다.**<br>\n",
    "        <code>def fx(func):</code><br><br>\n",
    "        \n",
    "    - **함수의 반환값이 된다.**<br>\n",
    "        def fx():\n",
    "            return func\n",
    "            \n",
    "    - **수정, 할당이 된다.**<br>\n",
    "        <code>var = fx()</code>"
   ]
  },
  {
   "cell_type": "code",
   "execution_count": 1,
   "id": "264c00fe-911b-48b8-9411-9ac81f4ae66c",
   "metadata": {},
   "outputs": [
    {
     "name": "stdout",
     "output_type": "stream",
     "text": [
      "42\n"
     ]
    }
   ],
   "source": [
    "def answer():\n",
    "    print(42)\n",
    "\n",
    "def run_sth(func):\n",
    "    func() # func vs. func() 괄호 있으면 실행해라라는 뜻\n",
    "\n",
    "run_sth(answer)"
   ]
  },
  {
   "cell_type": "code",
   "execution_count": 2,
   "id": "94cc9e80-28dc-4596-bdb7-5ecfe389d55e",
   "metadata": {},
   "outputs": [
    {
     "name": "stdout",
     "output_type": "stream",
     "text": [
      "8\n"
     ]
    }
   ],
   "source": [
    "def add_args(arg1, arg2):\n",
    "    print(arg1 + arg2)\n",
    "    \n",
    "def run_sth2(func, *args):\n",
    "    func(*args)\n",
    "    \n",
    "run_sth2(add_args, 3, 5)"
   ]
  },
  {
   "cell_type": "markdown",
   "id": "957ee39c-96a4-4945-86fa-a290a57a7fe7",
   "metadata": {},
   "source": [
    "### **중첩함수**\n",
    "- 내부함수, 외부함수\n",
    "- 함수 내에서 또 다른 함수를 정의하는 것\n",
    "- 캡슐화의 한 종류(내부함수 캡슐화한 것)\n",
    "    - 메모리 절약(외부함수를 메모리에서 지워도 내부함수가 돌아가게 할 수 있다.)\n",
    "    - 내용에 맞게 변수 바인더리 줄 수 있는 역할(변수가 섞여서 불필요학 충돌하는 것을 방지)\n",
    "    - 목적에 맞게 변수를 그룹화할 수 있음. 관리, 책임 명확히 할 수 있어 좋음."
   ]
  },
  {
   "cell_type": "code",
   "execution_count": 3,
   "id": "4e3c8964-287a-4769-8c84-6f4bb7fb9ccb",
   "metadata": {},
   "outputs": [
    {
     "data": {
      "text/plain": [
       "3"
      ]
     },
     "execution_count": 3,
     "metadata": {},
     "output_type": "execute_result"
    }
   ],
   "source": [
    "def outer(a, b):\n",
    "    def inner(c, d):\n",
    "        return c + d\n",
    "    return inner(a, b)\n",
    "\n",
    "outer(1, 2)"
   ]
  },
  {
   "cell_type": "code",
   "execution_count": 4,
   "id": "956d8ba2-2021-46b2-a102-d3cd34f12b6f",
   "metadata": {},
   "outputs": [
    {
     "ename": "NameError",
     "evalue": "name 'inner' is not defined",
     "output_type": "error",
     "traceback": [
      "\u001b[1;31m---------------------------------------------------------------------------\u001b[0m",
      "\u001b[1;31mNameError\u001b[0m                                 Traceback (most recent call last)",
      "\u001b[1;32m~\\AppData\\Local\\Temp/ipykernel_23156/2663691403.py\u001b[0m in \u001b[0;36m<module>\u001b[1;34m\u001b[0m\n\u001b[1;32m----> 1\u001b[1;33m \u001b[0minner\u001b[0m\u001b[1;33m(\u001b[0m\u001b[1;36m1\u001b[0m\u001b[1;33m,\u001b[0m \u001b[1;36m2\u001b[0m\u001b[1;33m)\u001b[0m\u001b[1;33m\u001b[0m\u001b[1;33m\u001b[0m\u001b[0m\n\u001b[0m",
      "\u001b[1;31mNameError\u001b[0m: name 'inner' is not defined"
     ]
    }
   ],
   "source": [
    "inner(1, 2) #안에 있는 건 밖에서 못 건드린다"
   ]
  },
  {
   "cell_type": "code",
   "execution_count": 5,
   "id": "a48b1459-4a38-42ea-96af-561072c4743a",
   "metadata": {},
   "outputs": [],
   "source": [
    "def knight(saying):\n",
    "    def inner():\n",
    "        return f'We are the knights who say: {saying}'\n",
    "    return inner\n",
    "\n",
    "a = knight('hi')\n",
    "b = knight('안녕')"
   ]
  },
  {
   "cell_type": "markdown",
   "id": "0c82ea2e-b3d7-42a0-bef7-45d524305731",
   "metadata": {},
   "source": [
    "- 외부함수의 인자를 \"참조\"할 수 있다.\n",
    "- 수정/활용은 안됨"
   ]
  },
  {
   "cell_type": "code",
   "execution_count": 8,
   "id": "7e81ad4e-a158-4e4a-8903-98946ee8ad1e",
   "metadata": {},
   "outputs": [
    {
     "data": {
      "text/plain": [
       "'We are the knights who say: hi'"
      ]
     },
     "execution_count": 8,
     "metadata": {},
     "output_type": "execute_result"
    }
   ],
   "source": [
    "a()"
   ]
  },
  {
   "cell_type": "code",
   "execution_count": 9,
   "id": "f6e42bb4-e434-4b8c-bdff-bd64e28e9c0c",
   "metadata": {},
   "outputs": [
    {
     "data": {
      "text/plain": [
       "'We are the knights who say: 안녕'"
      ]
     },
     "execution_count": 9,
     "metadata": {},
     "output_type": "execute_result"
    }
   ],
   "source": [
    "b()"
   ]
  },
  {
   "cell_type": "markdown",
   "id": "d8dc9b83-82b9-4222-ad21-3d261d93524b",
   "metadata": {},
   "source": [
    "### **클로저 : closure**\n",
    "- 조건\n",
    "    1. 중첩함수일 것\n",
    "    2. 내부함수가 외부함수의 상태값을 참조할 것\n",
    "    3. 외부함수의 리턴값이 내부함수일 것\n",
    "- 클로저 : 외부함수의 상태값을 기억하는 함수. 호출 시 사용 가능."
   ]
  },
  {
   "cell_type": "code",
   "execution_count": 15,
   "id": "792a262b-0284-4bec-8ec1-462f97e453ad",
   "metadata": {},
   "outputs": [],
   "source": [
    "def multiply(x):\n",
    "    def inner(y): #1.\n",
    "        return x * y #2.\n",
    "    return inner #3."
   ]
  },
  {
   "cell_type": "code",
   "execution_count": 16,
   "id": "166b05d3-2688-4602-9037-94c4b475ad05",
   "metadata": {},
   "outputs": [],
   "source": [
    "m = multiply(5)\n",
    "n = multiply(6)"
   ]
  },
  {
   "cell_type": "code",
   "execution_count": 17,
   "id": "b5edcd4f-2dd6-4cff-8c2b-d91c0843990b",
   "metadata": {},
   "outputs": [
    {
     "data": {
      "text/plain": [
       "(<function __main__.multiply.<locals>.inner(y)>,\n",
       " <function __main__.multiply.<locals>.inner(y)>)"
      ]
     },
     "execution_count": 17,
     "metadata": {},
     "output_type": "execute_result"
    }
   ],
   "source": [
    "m, n #둘 다 함수다"
   ]
  },
  {
   "cell_type": "code",
   "execution_count": 18,
   "id": "2fa39c83-2d5e-4a3f-8800-c0faa082e8f0",
   "metadata": {},
   "outputs": [
    {
     "data": {
      "text/plain": [
       "50"
      ]
     },
     "execution_count": 18,
     "metadata": {},
     "output_type": "execute_result"
    }
   ],
   "source": [
    "m(10)"
   ]
  },
  {
   "cell_type": "code",
   "execution_count": 19,
   "id": "09bd5442-082b-476a-a4fc-b1152f5eeb68",
   "metadata": {},
   "outputs": [
    {
     "data": {
      "text/plain": [
       "60"
      ]
     },
     "execution_count": 19,
     "metadata": {},
     "output_type": "execute_result"
    }
   ],
   "source": [
    "n(10)"
   ]
  },
  {
   "cell_type": "code",
   "execution_count": 20,
   "id": "f8914fec-3cc5-4620-8a55-c62f7bf9d50b",
   "metadata": {},
   "outputs": [],
   "source": [
    "del(multiply)"
   ]
  },
  {
   "cell_type": "code",
   "execution_count": 21,
   "id": "c1c6d308-844b-4a32-884f-92a0cda07686",
   "metadata": {},
   "outputs": [
    {
     "ename": "NameError",
     "evalue": "name 'multiply' is not defined",
     "output_type": "error",
     "traceback": [
      "\u001b[1;31m---------------------------------------------------------------------------\u001b[0m",
      "\u001b[1;31mNameError\u001b[0m                                 Traceback (most recent call last)",
      "\u001b[1;32m~\\AppData\\Local\\Temp/ipykernel_23156/330517852.py\u001b[0m in \u001b[0;36m<module>\u001b[1;34m\u001b[0m\n\u001b[1;32m----> 1\u001b[1;33m \u001b[0mmultiply\u001b[0m\u001b[1;33m\u001b[0m\u001b[1;33m\u001b[0m\u001b[0m\n\u001b[0m",
      "\u001b[1;31mNameError\u001b[0m: name 'multiply' is not defined"
     ]
    }
   ],
   "source": [
    "multiply"
   ]
  },
  {
   "cell_type": "code",
   "execution_count": 23,
   "id": "e37a9aca-1fa5-4737-8e18-838b4913c73c",
   "metadata": {},
   "outputs": [
    {
     "data": {
      "text/plain": [
       "40"
      ]
     },
     "execution_count": 23,
     "metadata": {},
     "output_type": "execute_result"
    }
   ],
   "source": [
    "m(8) # 지워도 계속 돌아간다. 외부함수로 인해 만들어진 객체는 따로 기억한다. 메모리의 효율적 사용."
   ]
  },
  {
   "cell_type": "code",
   "execution_count": 37,
   "id": "8089da5b-8536-49a6-98c1-fa09565947e4",
   "metadata": {},
   "outputs": [
    {
     "data": {
      "text/plain": [
       "36"
      ]
     },
     "execution_count": 37,
     "metadata": {},
     "output_type": "execute_result"
    }
   ],
   "source": [
    "def add(a, b):\n",
    "    return a + b\n",
    "\n",
    "# 리턴값 * 리턴값(8*8)\n",
    "def square(func):\n",
    "    def inner(a, b):\n",
    "        result = func(a, b)\n",
    "        return result * result\n",
    "    return inner\n",
    "\n",
    "fx = square(add)\n",
    "fx(4, 5)\n",
    "fx(3, 3)"
   ]
  },
  {
   "cell_type": "markdown",
   "id": "5245a763-40c1-4395-b11f-89108624f2aa",
   "metadata": {},
   "source": [
    "### **데코레이터**\n",
    "- 메인 함수에 또 다른 함수를 취해 반환할 수 있게 함\n",
    "- 재사용성 높음\n",
    "- 가독성, 직관성 좋다"
   ]
  },
  {
   "cell_type": "code",
   "execution_count": 39,
   "id": "1839708a-e159-4939-96fa-33ea1aa81384",
   "metadata": {},
   "outputs": [
    {
     "data": {
      "text/plain": [
       "81"
      ]
     },
     "execution_count": 39,
     "metadata": {},
     "output_type": "execute_result"
    }
   ],
   "source": [
    "@square\n",
    "def plus(a, b):\n",
    "    return a + b\n",
    "\n",
    "plus(4, 5)"
   ]
  },
  {
   "cell_type": "markdown",
   "id": "ef986c96-5636-47c4-ad6b-3ea01ef05171",
   "metadata": {},
   "source": [
    "### **scope | 범위**\n",
    "- 전역: global\n",
    "- 지역: local\n",
    "- nonlocal"
   ]
  },
  {
   "cell_type": "code",
   "execution_count": 47,
   "id": "a393c399-74d8-48cc-a69d-343cfa3a5f10",
   "metadata": {},
   "outputs": [],
   "source": [
    "a = 1 #global\n",
    "def add(a, b):\n",
    "    x = 2 #local\n",
    "    return a + b\n",
    "\n",
    "# 리턴값 * 리턴값(8*8)\n",
    "def square(func):\n",
    "    def inner(a, b):#nonlocal\n",
    "        result = func(a, b)\n",
    "        return result * result\n",
    "    return inner"
   ]
  },
  {
   "cell_type": "code",
   "execution_count": 46,
   "id": "45a0fa2d-21c5-4d29-8e93-f24a16be3159",
   "metadata": {},
   "outputs": [
    {
     "data": {
      "text/plain": [
       "999"
      ]
     },
     "execution_count": 46,
     "metadata": {},
     "output_type": "execute_result"
    }
   ],
   "source": [
    "a = 3 #global\n",
    "\n",
    "def outer(c):\n",
    "    b = 5 #local\n",
    "    def inner():\n",
    "        c = 999 #nonlocal\n",
    "        #c += 1 => variable을 선언한 적이 없다고 뜨므로 nonlocal c 라고 선언해줘야 한다.\n",
    "        return c # 이 c는 전의 c와 아예 다른 c임\n",
    "    return inner()\n",
    "\n",
    "outer(9)"
   ]
  },
  {
   "cell_type": "markdown",
   "id": "8cf9a5d4-4e01-4bd0-854f-cdbd32da5182",
   "metadata": {
    "tags": []
   },
   "source": [
    "### **실습**\n",
    "\n",
    "- fx1: speed, limit 받아서 내 속도가 제한속도를 위반하는지 t/f로\n",
    "- fx2: 클로저, 초과할 경우 얼마나 초과하는지 프린트하는 함수\n",
    "- 실행은 데코레이터로 fx1 실행하면 되도록"
   ]
  },
  {
   "cell_type": "code",
   "execution_count": 76,
   "id": "1d31df98-53a2-4c4f-bbee-d5901abced78",
   "metadata": {},
   "outputs": [],
   "source": [
    "def fx1(func):\n",
    "    def fx2(a, b):\n",
    "        result = func(a, b)\n",
    "        if result > 0:\n",
    "            print(a - b)\n",
    "            return True\n",
    "        else:\n",
    "            return False\n",
    "    return fx2"
   ]
  },
  {
   "cell_type": "code",
   "execution_count": 82,
   "id": "2f7e012e-9933-4141-bcd4-0633f270c437",
   "metadata": {},
   "outputs": [
    {
     "name": "stdout",
     "output_type": "stream",
     "text": [
      "140\n"
     ]
    },
    {
     "data": {
      "text/plain": [
       "'t'"
      ]
     },
     "execution_count": 82,
     "metadata": {},
     "output_type": "execute_result"
    }
   ],
   "source": [
    "@fx1\n",
    "def compare(speed, limit):\n",
    "    return speed - limit\n",
    "\n",
    "compare(240, 100)"
   ]
  },
  {
   "cell_type": "markdown",
   "id": "75554c01-ae6d-42a9-8369-b35730900936",
   "metadata": {},
   "source": [
    "### **익명함수 | lambda**\n",
    "- 이름이 없다.\n",
    "- 예약어가 없다.\n",
    "def is_speeding():\n",
    "    return\n",
    "-람다는 def, return 없음, 이름은 선택\n",
    "- 사용이유: 함수의 꽃은 재사용. 근데 어떤 함수를 재사용할 일이 없다면 람다 사용.\n",
    "- 단순한 용도의 함수가 필요할 경우 사용\n",
    "- 잦은 사용은 권하지 않음\n",
    "- lambda x : <x를 요리할 코드>"
   ]
  },
  {
   "cell_type": "code",
   "execution_count": 83,
   "id": "e7fb42fd-fad9-4849-9697-b4301e34616d",
   "metadata": {},
   "outputs": [
    {
     "data": {
      "text/plain": [
       "3"
      ]
     },
     "execution_count": 83,
     "metadata": {},
     "output_type": "execute_result"
    }
   ],
   "source": [
    "(lambda x: x + 1)(2)"
   ]
  },
  {
   "cell_type": "code",
   "execution_count": 86,
   "id": "3e143389-5953-4963-9acb-4188cb47c641",
   "metadata": {},
   "outputs": [
    {
     "data": {
      "text/plain": [
       "3"
      ]
     },
     "execution_count": 86,
     "metadata": {},
     "output_type": "execute_result"
    }
   ],
   "source": [
    "def add_one(x):\n",
    "    return x + 1\n",
    "add_one(2)"
   ]
  },
  {
   "cell_type": "code",
   "execution_count": 87,
   "id": "fd946906-6073-4b18-a927-088930d2de78",
   "metadata": {},
   "outputs": [
    {
     "data": {
      "text/plain": [
       "4"
      ]
     },
     "execution_count": 87,
     "metadata": {},
     "output_type": "execute_result"
    }
   ],
   "source": [
    "f = lambda x: x + 1\n",
    "f(3)"
   ]
  },
  {
   "cell_type": "code",
   "execution_count": 88,
   "id": "23179d44-f7cd-4eee-adfb-b8114e4ae829",
   "metadata": {},
   "outputs": [
    {
     "data": {
      "text/plain": [
       "8"
      ]
     },
     "execution_count": 88,
     "metadata": {},
     "output_type": "execute_result"
    }
   ],
   "source": [
    "#변수 여러 개 쓰고 싶다면 쉼표로\n",
    "f = lambda x, y: x + y\n",
    "f(3, 5)"
   ]
  },
  {
   "cell_type": "markdown",
   "id": "ddd628e0-bbfc-4f11-ade9-dddd012edc75",
   "metadata": {},
   "source": [
    "### **실습**\n",
    "- 단어가 들어왔을 때 첫글자 대문자로 바꾸고 단어 끝에 !를 붙이도록 람다 만들기\n",
    "- 예: hello => Hello!"
   ]
  },
  {
   "cell_type": "code",
   "execution_count": 94,
   "id": "f08af5fe-83d2-45a6-8561-c37a67127227",
   "metadata": {},
   "outputs": [
    {
     "data": {
      "text/plain": [
       "'Byebyebye!'"
      ]
     },
     "execution_count": 94,
     "metadata": {},
     "output_type": "execute_result"
    }
   ],
   "source": [
    "change = lambda x : x.capitalize() + '!'\n",
    "change('byebyebye')"
   ]
  },
  {
   "cell_type": "markdown",
   "id": "409ec84f-ad0c-419f-8800-99fd5b6f541f",
   "metadata": {},
   "source": [
    "### **제너레이터**\n",
    "- return -> yield\n",
    "- 시퀀스를 순회할 때 시퀀스를 생성하는 객체.\n",
    "- 한 번 사용되고 사라진다. => 메모리 효율이 좋다.\n"
   ]
  },
  {
   "cell_type": "code",
   "execution_count": null,
   "id": "035de4aa-eccc-4880-bf9a-8ccc72fd9f61",
   "metadata": {},
   "outputs": [],
   "source": [
    "a = [1, 2, 3] #제너레이터는 이거를 1, 2, 3 각각 하나씩 꺼내준다."
   ]
  },
  {
   "cell_type": "code",
   "execution_count": 96,
   "id": "fab8c1b5-23bb-4ebd-923e-8f781b13eb55",
   "metadata": {},
   "outputs": [
    {
     "data": {
      "text/plain": [
       "<generator object print_number at 0x000002B66CACAE40>"
      ]
     },
     "execution_count": 96,
     "metadata": {},
     "output_type": "execute_result"
    }
   ],
   "source": [
    "def print_number(num):\n",
    "    for i in range(num):\n",
    "        yield i\n",
    "        \n",
    "print_number(10)"
   ]
  },
  {
   "cell_type": "code",
   "execution_count": 97,
   "id": "5f09cc9d-8add-40b7-89d0-96619672eb47",
   "metadata": {},
   "outputs": [
    {
     "name": "stdout",
     "output_type": "stream",
     "text": [
      "0\n",
      "1\n",
      "2\n",
      "3\n",
      "4\n",
      "5\n",
      "6\n",
      "7\n",
      "8\n",
      "9\n"
     ]
    }
   ],
   "source": [
    "fx = print_number(10)\n",
    "\n",
    "for i in fx:\n",
    "    print(i)"
   ]
  },
  {
   "cell_type": "code",
   "execution_count": 99,
   "id": "a24c7a5a-6f73-45fa-bc86-40bc3153b62a",
   "metadata": {},
   "outputs": [],
   "source": [
    "for i in fx:\n",
    "    print(i) # 한 번 사용했기 때문에 이미 사라짐"
   ]
  },
  {
   "cell_type": "markdown",
   "id": "e4f65b6e-3aee-464b-be88-1f486aaa3344",
   "metadata": {
    "jupyter": {
     "source_hidden": true
    },
    "tags": []
   },
   "source": [
    "### 실습\n",
    "range() 구현하기\n",
    "- 제너레이터 사용\n",
    "- def my_range(start, end, step):\n",
    "    yield\n",
    "    \n",
    "ranger = my_range(a, b, c)\n"
   ]
  },
  {
   "cell_type": "code",
   "execution_count": 134,
   "id": "fcb00aa6-61ea-4568-8147-b608ccd1b407",
   "metadata": {},
   "outputs": [
    {
     "name": "stdout",
     "output_type": "stream",
     "text": [
      "3\n",
      "7\n",
      "11\n",
      "15\n",
      "19\n"
     ]
    }
   ],
   "source": [
    "def my_range(a, b, c):\n",
    "    i = a\n",
    "    while i <= b:\n",
    "        print(i)\n",
    "        i += c\n",
    "    yield i\n",
    "\n",
    "fx = my_range(3, 17, 4)\n",
    "\n",
    "for j in fx:\n",
    "    print(j)"
   ]
  },
  {
   "cell_type": "markdown",
   "id": "74f3c7d4-b3c1-4353-97eb-4454e0b926dd",
   "metadata": {},
   "source": [
    "### **재귀함수**\n",
    "- 너무 깊으면 예외 발생 => 주의\n",
    "- 자기 자신을 호출하는 함수\n",
    "- [[1, 2, 3], [[[1, 1]], 4, 5]] -> [1, 2, 3, 1, 1, 4, 5]"
   ]
  },
  {
   "cell_type": "code",
   "execution_count": 139,
   "id": "94a789ff-3c31-4750-92b3-4e31bf901c92",
   "metadata": {},
   "outputs": [],
   "source": [
    "def flatten(sent):\n",
    "    for word in sent:\n",
    "        if isinstance(word, list):\n",
    "            #true\n",
    "            #for sub_word in flatten(word):\n",
    "            #    yield sub_word\n",
    "            yield from flatten(word)\n",
    "        else:\n",
    "            #false\n",
    "            yield word\n",
    "            "
   ]
  },
  {
   "cell_type": "code",
   "execution_count": 140,
   "id": "490c587c-b628-40e9-835b-17a3c52d410a",
   "metadata": {},
   "outputs": [
    {
     "data": {
      "text/plain": [
       "False"
      ]
     },
     "execution_count": 140,
     "metadata": {},
     "output_type": "execute_result"
    }
   ],
   "source": [
    "isinstance('h', int)"
   ]
  },
  {
   "cell_type": "code",
   "execution_count": 141,
   "id": "d30102c6-5cfe-451e-945d-58f74e3c581d",
   "metadata": {},
   "outputs": [
    {
     "data": {
      "text/plain": [
       "<generator object flatten at 0x000002B66DE5F6D0>"
      ]
     },
     "execution_count": 141,
     "metadata": {},
     "output_type": "execute_result"
    }
   ],
   "source": [
    "a = [[1,2, 3], [[[1, 1]], 4, 5]]\n",
    "flatten(a)"
   ]
  },
  {
   "cell_type": "markdown",
   "id": "c4d60098-10d3-4a86-b77f-a538cf247c86",
   "metadata": {},
   "source": [
    "### **예외 처리 | exception handling**\n",
    "- 목적: 프로그램 정상 종료\n",
    "- 예외 발생 시, 사용자에게 알리고 조치 취함\n",
    "- 소프트랜딩"
   ]
  },
  {
   "cell_type": "code",
   "execution_count": 142,
   "id": "3fdb10bd-0d3e-4616-886b-b1d0b1cd03b6",
   "metadata": {},
   "outputs": [
    {
     "ename": "ZeroDivisionError",
     "evalue": "division by zero",
     "output_type": "error",
     "traceback": [
      "\u001b[1;31m---------------------------------------------------------------------------\u001b[0m",
      "\u001b[1;31mZeroDivisionError\u001b[0m                         Traceback (most recent call last)",
      "\u001b[1;32m~\\AppData\\Local\\Temp/ipykernel_23156/1725448531.py\u001b[0m in \u001b[0;36m<module>\u001b[1;34m\u001b[0m\n\u001b[1;32m----> 1\u001b[1;33m \u001b[1;36m10\u001b[0m \u001b[1;33m/\u001b[0m \u001b[1;36m0\u001b[0m\u001b[1;33m\u001b[0m\u001b[1;33m\u001b[0m\u001b[0m\n\u001b[0m",
      "\u001b[1;31mZeroDivisionError\u001b[0m: division by zero"
     ]
    }
   ],
   "source": [
    "10 / 0"
   ]
  },
  {
   "cell_type": "code",
   "execution_count": 143,
   "id": "055776eb-7c5f-4721-ba43-7dd6934fde73",
   "metadata": {},
   "outputs": [
    {
     "ename": "ValueError",
     "evalue": "invalid literal for int() with base 10: 'sssss'",
     "output_type": "error",
     "traceback": [
      "\u001b[1;31m---------------------------------------------------------------------------\u001b[0m",
      "\u001b[1;31mValueError\u001b[0m                                Traceback (most recent call last)",
      "\u001b[1;32m~\\AppData\\Local\\Temp/ipykernel_23156/4283309709.py\u001b[0m in \u001b[0;36m<module>\u001b[1;34m\u001b[0m\n\u001b[1;32m----> 1\u001b[1;33m \u001b[0mint\u001b[0m\u001b[1;33m(\u001b[0m\u001b[1;34m'sssss'\u001b[0m\u001b[1;33m)\u001b[0m\u001b[1;33m\u001b[0m\u001b[1;33m\u001b[0m\u001b[0m\n\u001b[0m",
      "\u001b[1;31mValueError\u001b[0m: invalid literal for int() with base 10: 'sssss'"
     ]
    }
   ],
   "source": [
    "int('sssss') #변환할 수 없는 문자열을 "
   ]
  },
  {
   "cell_type": "code",
   "execution_count": 144,
   "id": "0f01f1c1-7e75-4dc5-b250-a8a223141c22",
   "metadata": {},
   "outputs": [
    {
     "ename": "NameError",
     "evalue": "name 'hello' is not defined",
     "output_type": "error",
     "traceback": [
      "\u001b[1;31m---------------------------------------------------------------------------\u001b[0m",
      "\u001b[1;31mNameError\u001b[0m                                 Traceback (most recent call last)",
      "\u001b[1;32m~\\AppData\\Local\\Temp/ipykernel_23156/3305111549.py\u001b[0m in \u001b[0;36m<module>\u001b[1;34m\u001b[0m\n\u001b[1;32m----> 1\u001b[1;33m \u001b[0mhello\u001b[0m\u001b[1;33m\u001b[0m\u001b[1;33m\u001b[0m\u001b[0m\n\u001b[0m",
      "\u001b[1;31mNameError\u001b[0m: name 'hello' is not defined"
     ]
    }
   ],
   "source": [
    "hello # 선언되지 않은 변수"
   ]
  },
  {
   "cell_type": "code",
   "execution_count": 145,
   "id": "df01e9da-1aaa-4091-89c6-270f3f6fcfe8",
   "metadata": {},
   "outputs": [
    {
     "ename": "NameError",
     "evalue": "name 'hello' is not defined",
     "output_type": "error",
     "traceback": [
      "\u001b[1;31m---------------------------------------------------------------------------\u001b[0m",
      "\u001b[1;31mNameError\u001b[0m                                 Traceback (most recent call last)",
      "\u001b[1;32m~\\AppData\\Local\\Temp/ipykernel_23156/1315523702.py\u001b[0m in \u001b[0;36m<module>\u001b[1;34m\u001b[0m\n\u001b[1;32m----> 1\u001b[1;33m \u001b[0mhello\u001b[0m \u001b[1;33m+=\u001b[0m \u001b[1;36m1\u001b[0m\u001b[1;33m\u001b[0m\u001b[1;33m\u001b[0m\u001b[0m\n\u001b[0m",
      "\u001b[1;31mNameError\u001b[0m: name 'hello' is not defined"
     ]
    }
   ],
   "source": [
    "hello += 1"
   ]
  },
  {
   "cell_type": "code",
   "execution_count": 146,
   "id": "59d816fd-1337-4b4b-8ef5-be25d9a27ef0",
   "metadata": {},
   "outputs": [
    {
     "ename": "IndexError",
     "evalue": "string index out of range",
     "output_type": "error",
     "traceback": [
      "\u001b[1;31m---------------------------------------------------------------------------\u001b[0m",
      "\u001b[1;31mIndexError\u001b[0m                                Traceback (most recent call last)",
      "\u001b[1;32m~\\AppData\\Local\\Temp/ipykernel_23156/2465795054.py\u001b[0m in \u001b[0;36m<module>\u001b[1;34m\u001b[0m\n\u001b[1;32m----> 1\u001b[1;33m \u001b[1;34m'ssss'\u001b[0m\u001b[1;33m[\u001b[0m\u001b[1;36m10\u001b[0m\u001b[1;33m]\u001b[0m\u001b[1;33m\u001b[0m\u001b[1;33m\u001b[0m\u001b[0m\n\u001b[0m",
      "\u001b[1;31mIndexError\u001b[0m: string index out of range"
     ]
    }
   ],
   "source": [
    "'ssss'[10]"
   ]
  },
  {
   "cell_type": "code",
   "execution_count": 148,
   "id": "ecf6d1a1-c6e4-48b8-ada3-83eec096eb1c",
   "metadata": {},
   "outputs": [
    {
     "name": "stdout",
     "output_type": "stream",
     "text": [
      "0으로 나눌 수 없음\n"
     ]
    }
   ],
   "source": [
    "try:\n",
    "    #<에러 발생될 법한 코드 블럭>\n",
    "    10 / 0\n",
    "except ZeroDivisionError: #<에러 타입>:\n",
    "    #<처리할 방법> \n",
    "    print('0으로 나눌 수 없음')"
   ]
  },
  {
   "cell_type": "code",
   "execution_count": 150,
   "id": "20929f8d-6b0f-4956-a4c3-a0070b59af5f",
   "metadata": {},
   "outputs": [
    {
     "name": "stdout",
     "output_type": "stream",
     "text": [
      "error\n",
      "10.0\n",
      "5.0\n",
      "3.3333333333333335\n",
      "2.5\n",
      "2.0\n",
      "1.6666666666666667\n",
      "1.4285714285714286\n",
      "1.25\n",
      "1.1111111111111112\n"
     ]
    }
   ],
   "source": [
    "for i in range(10):\n",
    "    try:\n",
    "        print(10 / i)\n",
    "    except ZeroDivisionError:\n",
    "        print('error')"
   ]
  },
  {
   "cell_type": "code",
   "execution_count": 152,
   "id": "c34de580-94cf-4dde-b3e5-47e53bf3dbea",
   "metadata": {},
   "outputs": [
    {
     "name": "stdin",
     "output_type": "stream",
     "text": [
      "인덱스를 입력하세요>  qqq\n"
     ]
    },
    {
     "name": "stdout",
     "output_type": "stream",
     "text": [
      "type error\n",
      "invalid literal for int() with base 10: 'qqq'\n"
     ]
    },
    {
     "name": "stdin",
     "output_type": "stream",
     "text": [
      "인덱스를 입력하세요>  0\n"
     ]
    },
    {
     "name": "stdout",
     "output_type": "stream",
     "text": [
      "h\n"
     ]
    },
    {
     "name": "stdin",
     "output_type": "stream",
     "text": [
      "인덱스를 입력하세요>  8\n"
     ]
    },
    {
     "name": "stdout",
     "output_type": "stream",
     "text": [
      "index error\n",
      "string index out of range\n"
     ]
    },
    {
     "name": "stdin",
     "output_type": "stream",
     "text": [
      "인덱스를 입력하세요>  q\n"
     ]
    }
   ],
   "source": [
    "word = 'hello'\n",
    "while True:\n",
    "    index = input('인덱스를 입력하세요> ')\n",
    "    if index == 'q':\n",
    "        break\n",
    "        \n",
    "    try:\n",
    "        print(word[int(index)])\n",
    "    except IndexError as e1:\n",
    "        print('index error')\n",
    "        print(e1)\n",
    "    except ValueError as e2:\n",
    "        print('type error')\n",
    "        print(e2)"
   ]
  },
  {
   "cell_type": "markdown",
   "id": "870c3b7e-f94e-40a4-8e8f-ab31c0767be9",
   "metadata": {},
   "source": [
    "### **2. 예외 발생시키기**\n",
    "프로그램 강제 종료하고자 할 때 사용\n",
    "- raise\n",
    "- assert"
   ]
  },
  {
   "cell_type": "code",
   "execution_count": 153,
   "id": "8b30946b-1a16-4978-ba70-eb9ba841c100",
   "metadata": {},
   "outputs": [
    {
     "ename": "ValueError",
     "evalue": "print ...",
     "output_type": "error",
     "traceback": [
      "\u001b[1;31m---------------------------------------------------------------------------\u001b[0m",
      "\u001b[1;31mValueError\u001b[0m                                Traceback (most recent call last)",
      "\u001b[1;32m~\\AppData\\Local\\Temp/ipykernel_23156/1326601765.py\u001b[0m in \u001b[0;36m<module>\u001b[1;34m\u001b[0m\n\u001b[1;32m----> 1\u001b[1;33m \u001b[1;32mraise\u001b[0m \u001b[0mValueError\u001b[0m\u001b[1;33m(\u001b[0m\u001b[1;34m'print ...'\u001b[0m\u001b[1;33m)\u001b[0m\u001b[1;33m\u001b[0m\u001b[1;33m\u001b[0m\u001b[0m\n\u001b[0m",
      "\u001b[1;31mValueError\u001b[0m: print ..."
     ]
    }
   ],
   "source": [
    "raise ValueError('print ...')"
   ]
  },
  {
   "cell_type": "code",
   "execution_count": null,
   "id": "b79c7bef-a644-43d1-aaac-19d1f2a26821",
   "metadata": {},
   "outputs": [],
   "source": []
  },
  {
   "cell_type": "code",
   "execution_count": 154,
   "id": "0dc87102-d5c9-4f81-ba15-0fc69dd11a7f",
   "metadata": {},
   "outputs": [
    {
     "name": "stdin",
     "output_type": "stream",
     "text": [
      "number>>  d\n"
     ]
    },
    {
     "ename": "ValueError",
     "evalue": "숫자가 아닙니다",
     "output_type": "error",
     "traceback": [
      "\u001b[1;31m---------------------------------------------------------------------------\u001b[0m",
      "\u001b[1;31mValueError\u001b[0m                                Traceback (most recent call last)",
      "\u001b[1;32m~\\AppData\\Local\\Temp/ipykernel_23156/2561809159.py\u001b[0m in \u001b[0;36m<module>\u001b[1;34m\u001b[0m\n\u001b[0;32m      2\u001b[0m     \u001b[0mnum\u001b[0m \u001b[1;33m=\u001b[0m \u001b[0minput\u001b[0m\u001b[1;33m(\u001b[0m\u001b[1;34m'number>> '\u001b[0m\u001b[1;33m)\u001b[0m\u001b[1;33m\u001b[0m\u001b[1;33m\u001b[0m\u001b[0m\n\u001b[0;32m      3\u001b[0m     \u001b[1;32mif\u001b[0m \u001b[1;32mnot\u001b[0m \u001b[0mnum\u001b[0m\u001b[1;33m.\u001b[0m\u001b[0misdigit\u001b[0m\u001b[1;33m(\u001b[0m\u001b[1;33m)\u001b[0m\u001b[1;33m:\u001b[0m\u001b[1;33m\u001b[0m\u001b[1;33m\u001b[0m\u001b[0m\n\u001b[1;32m----> 4\u001b[1;33m         \u001b[1;32mraise\u001b[0m \u001b[0mValueError\u001b[0m\u001b[1;33m(\u001b[0m\u001b[1;34m'숫자가 아닙니다'\u001b[0m\u001b[1;33m)\u001b[0m\u001b[1;33m\u001b[0m\u001b[1;33m\u001b[0m\u001b[0m\n\u001b[0m\u001b[0;32m      5\u001b[0m     \u001b[1;32melse\u001b[0m\u001b[1;33m:\u001b[0m\u001b[1;33m\u001b[0m\u001b[1;33m\u001b[0m\u001b[0m\n\u001b[0;32m      6\u001b[0m         \u001b[0mprint\u001b[0m\u001b[1;33m(\u001b[0m\u001b[0mnum\u001b[0m\u001b[1;33m)\u001b[0m\u001b[1;33m\u001b[0m\u001b[1;33m\u001b[0m\u001b[0m\n",
      "\u001b[1;31mValueError\u001b[0m: 숫자가 아닙니다"
     ]
    }
   ],
   "source": [
    "while True:\n",
    "    num = input('number>> ')\n",
    "    if not num.isdigit():\n",
    "        raise ValueError('숫자가 아닙니다')\n",
    "    else:\n",
    "        print(num)\n",
    "        break"
   ]
  },
  {
   "cell_type": "code",
   "execution_count": 157,
   "id": "0103271a-1256-4baa-b840-ae8a6aa05fe2",
   "metadata": {},
   "outputs": [
    {
     "ename": "SyntaxError",
     "evalue": "invalid syntax (Temp/ipykernel_23156/3222111641.py, line 1)",
     "output_type": "error",
     "traceback": [
      "\u001b[1;36m  File \u001b[1;32m\"C:\\Users\\aliya\\AppData\\Local\\Temp/ipykernel_23156/3222111641.py\"\u001b[1;36m, line \u001b[1;32m1\u001b[0m\n\u001b[1;33m    assert <참인 조건>, '예외메시지' # AssertionError\u001b[0m\n\u001b[1;37m           ^\u001b[0m\n\u001b[1;31mSyntaxError\u001b[0m\u001b[1;31m:\u001b[0m invalid syntax\n"
     ]
    }
   ],
   "source": [
    "assert <참인 조건>, '예외메시지' # AssertionError"
   ]
  },
  {
   "cell_type": "code",
   "execution_count": null,
   "id": "627ee700-dab1-458f-8efe-ee28169522b4",
   "metadata": {},
   "outputs": [],
   "source": [
    "def get_binary(num):\n",
    "    assert isinstance(num, int), '정수 아님' #check 기능\n",
    "    return bin(num)\n",
    "\n",
    "get_binary('ee')"
   ]
  },
  {
   "cell_type": "markdown",
   "id": "c3733b4f-d7d9-4c3c-88cd-b51d420de1c7",
   "metadata": {},
   "source": [
    "### **예외 정의하기**\n",
    "- 사용자 정의 예외\n",
    "- Exception이라는 부모클래스 상속받는다"
   ]
  },
  {
   "cell_type": "code",
   "execution_count": 159,
   "id": "3cbff48c-1c52-4694-aa8f-b696f57907e8",
   "metadata": {},
   "outputs": [],
   "source": [
    "class MyException(Exception):\n",
    "    pass"
   ]
  },
  {
   "cell_type": "code",
   "execution_count": 160,
   "id": "892dc29b-96b2-4970-b514-db2065483170",
   "metadata": {},
   "outputs": [
    {
     "name": "stdout",
     "output_type": "stream",
     "text": [
      "a\n",
      "b\n"
     ]
    },
    {
     "ename": "MyException",
     "evalue": "대문자 안됨!",
     "output_type": "error",
     "traceback": [
      "\u001b[1;31m---------------------------------------------------------------------------\u001b[0m",
      "\u001b[1;31mMyException\u001b[0m                               Traceback (most recent call last)",
      "\u001b[1;32m~\\AppData\\Local\\Temp/ipykernel_23156/2907664186.py\u001b[0m in \u001b[0;36m<module>\u001b[1;34m\u001b[0m\n\u001b[0;32m      1\u001b[0m \u001b[1;32mfor\u001b[0m \u001b[0mword\u001b[0m \u001b[1;32min\u001b[0m \u001b[1;33m[\u001b[0m\u001b[1;34m'a'\u001b[0m\u001b[1;33m,\u001b[0m \u001b[1;34m'b'\u001b[0m\u001b[1;33m,\u001b[0m \u001b[1;34m'C'\u001b[0m\u001b[1;33m]\u001b[0m\u001b[1;33m:\u001b[0m\u001b[1;33m\u001b[0m\u001b[1;33m\u001b[0m\u001b[0m\n\u001b[0;32m      2\u001b[0m     \u001b[1;32mif\u001b[0m \u001b[0mword\u001b[0m\u001b[1;33m.\u001b[0m\u001b[0misupper\u001b[0m\u001b[1;33m(\u001b[0m\u001b[1;33m)\u001b[0m\u001b[1;33m:\u001b[0m\u001b[1;33m\u001b[0m\u001b[1;33m\u001b[0m\u001b[0m\n\u001b[1;32m----> 3\u001b[1;33m         \u001b[1;32mraise\u001b[0m \u001b[0mMyException\u001b[0m\u001b[1;33m(\u001b[0m\u001b[1;34m'대문자 안됨!'\u001b[0m\u001b[1;33m)\u001b[0m\u001b[1;33m\u001b[0m\u001b[1;33m\u001b[0m\u001b[0m\n\u001b[0m\u001b[0;32m      4\u001b[0m     \u001b[1;32melse\u001b[0m\u001b[1;33m:\u001b[0m\u001b[1;33m\u001b[0m\u001b[1;33m\u001b[0m\u001b[0m\n\u001b[0;32m      5\u001b[0m         \u001b[0mprint\u001b[0m\u001b[1;33m(\u001b[0m\u001b[0mword\u001b[0m\u001b[1;33m)\u001b[0m\u001b[1;33m\u001b[0m\u001b[1;33m\u001b[0m\u001b[0m\n",
      "\u001b[1;31mMyException\u001b[0m: 대문자 안됨!"
     ]
    }
   ],
   "source": [
    "for word in ['a', 'b', 'C']:\n",
    "    if word.isupper():\n",
    "        raise MyException('대문자 안됨!')\n",
    "    else:\n",
    "        print(word)"
   ]
  },
  {
   "cell_type": "code",
   "execution_count": 161,
   "id": "0a0ba869-3697-4858-b26d-49d7ded1e472",
   "metadata": {},
   "outputs": [
    {
     "name": "stdout",
     "output_type": "stream",
     "text": [
      "a\n",
      "b\n"
     ]
    },
    {
     "ename": "UppercaseException",
     "evalue": "대문자 안된다구",
     "output_type": "error",
     "traceback": [
      "\u001b[1;31m---------------------------------------------------------------------------\u001b[0m",
      "\u001b[1;31mUppercaseException\u001b[0m                        Traceback (most recent call last)",
      "\u001b[1;32m~\\AppData\\Local\\Temp/ipykernel_23156/583830789.py\u001b[0m in \u001b[0;36m<module>\u001b[1;34m\u001b[0m\n\u001b[0;32m      5\u001b[0m \u001b[1;32mfor\u001b[0m \u001b[0mword\u001b[0m \u001b[1;32min\u001b[0m \u001b[1;33m[\u001b[0m\u001b[1;34m'a'\u001b[0m\u001b[1;33m,\u001b[0m \u001b[1;34m'b'\u001b[0m\u001b[1;33m,\u001b[0m \u001b[1;34m'C'\u001b[0m\u001b[1;33m]\u001b[0m\u001b[1;33m:\u001b[0m\u001b[1;33m\u001b[0m\u001b[1;33m\u001b[0m\u001b[0m\n\u001b[0;32m      6\u001b[0m     \u001b[1;32mif\u001b[0m \u001b[0mword\u001b[0m\u001b[1;33m.\u001b[0m\u001b[0misupper\u001b[0m\u001b[1;33m(\u001b[0m\u001b[1;33m)\u001b[0m\u001b[1;33m:\u001b[0m\u001b[1;33m\u001b[0m\u001b[1;33m\u001b[0m\u001b[0m\n\u001b[1;32m----> 7\u001b[1;33m         \u001b[1;32mraise\u001b[0m \u001b[0mUppercaseException\u001b[0m\u001b[1;33m\u001b[0m\u001b[1;33m\u001b[0m\u001b[0m\n\u001b[0m\u001b[0;32m      8\u001b[0m     \u001b[1;32melse\u001b[0m\u001b[1;33m:\u001b[0m\u001b[1;33m\u001b[0m\u001b[1;33m\u001b[0m\u001b[0m\n\u001b[0;32m      9\u001b[0m         \u001b[0mprint\u001b[0m\u001b[1;33m(\u001b[0m\u001b[0mword\u001b[0m\u001b[1;33m)\u001b[0m\u001b[1;33m\u001b[0m\u001b[1;33m\u001b[0m\u001b[0m\n",
      "\u001b[1;31mUppercaseException\u001b[0m: 대문자 안된다구"
     ]
    }
   ],
   "source": [
    "class UppercaseException(Exception):\n",
    "    def __init__(self):\n",
    "        super().__init__('대문자 안된다구')\n",
    "        \n",
    "for word in ['a', 'b', 'C']:\n",
    "    if word.isupper():\n",
    "        raise UppercaseException\n",
    "    else:\n",
    "        print(word)"
   ]
  }
 ],
 "metadata": {
  "kernelspec": {
   "display_name": "Python 3 (ipykernel)",
   "language": "python",
   "name": "python3"
  },
  "language_info": {
   "codemirror_mode": {
    "name": "ipython",
    "version": 3
   },
   "file_extension": ".py",
   "mimetype": "text/x-python",
   "name": "python",
   "nbconvert_exporter": "python",
   "pygments_lexer": "ipython3",
   "version": "3.9.7"
  }
 },
 "nbformat": 4,
 "nbformat_minor": 5
}
