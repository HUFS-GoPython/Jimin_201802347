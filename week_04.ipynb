{
 "cells": [
  {
   "cell_type": "markdown",
   "id": "79bf1924-6592-46b6-af44-545fff8a799e",
   "metadata": {
    "tags": []
   },
   "source": [
    "# **NLTK를 활용한 문자열과 내장함수**"
   ]
  },
  {
   "cell_type": "markdown",
   "id": "1f2ab800-d70f-4157-b7b3-876c0b3a804a",
   "metadata": {},
   "source": [
    "### **NLTK import 순서 외워자!**\n",
    "import nltk <br>\n",
    "from nltk.book import * <br>\n",
    "nltk.download('book', quiet=True) <br>"
   ]
  },
  {
   "cell_type": "markdown",
   "id": "5b0d0bc4-5c00-487e-b828-e302def0f974",
   "metadata": {
    "tags": []
   },
   "source": [
    "#### **내장함수 part. 1**\n",
    "- **파이썬 관련** 함수들\n",
    "- 내장함수 사용 형식 : 문자열1.메서드이름(문자열2)\n",
    "- **list.method(string)**(자료형이 string인지 잘 확인할 것!)\n",
    "<br><br>\n",
    "- **list.count(string)** : 리스트에 문자열이 몇 개 있는지 세어줌\n",
    "- **str.replace()**: A에서 B로 변경(replace)\n",
    "- **str.strip()**: 탭, 공백 등을 제거해줌(strip)\n",
    "    - lstrip(left strip), rstrip(right strip)\n",
    "- **find(string)**: 찾으려는(find) 문자열의 위치인 오프셋 반환함\n",
    "    -lfind, rfind : \n",
    "    -인덱스 셀 때는 공백 포함해서 count함.\n",
    "    -찾으려는 문자열 위치의 첫번째 값 인덱스를 반환함.\n",
    "    -만족하는 값이 없으면 -1 반환함.\n",
    "- **index(string)** : 문자열 인덱스 반환함. 없는 문자열은 에러 반환."
   ]
  },
  {
   "cell_type": "code",
   "execution_count": 5,
   "id": "3a5d9f39-a466-4d47-86c1-a35ebb3879d2",
   "metadata": {},
   "outputs": [],
   "source": [
    "word = '    \\t  word'\n",
    "word = word.replace('w', 'ch').strip().replace('d', 'D') \n",
    "#결과값이 모두 string이라 여러 함수 이어서 사용 가능"
   ]
  },
  {
   "cell_type": "markdown",
   "id": "0c606f85-0bfe-47ca-9a3e-f9f6f81757ae",
   "metadata": {},
   "source": [
    "#### **내장함수 part.2**\n",
    "- **NLTK와 관련**된 함수들\n",
    "- 형식 : list.method(var)\n",
    "- 자연어처리와 관련된 함수들\n",
    "<br><br>\n",
    "- **concordance()** : 주어진 string의 앞뒤 문맥을 알 수 있음\n",
    "- **similar()** : 주어진 string과 문맥이 비슷하게 쓰인 단어들 \n",
    "- **common_contexts()** : 주어진 스트링들이 어떤 문맥을 공유하는지 알려줌.\n",
    "- **dispersion_plot()** : 그림을 그림(plot). 이 스트링들이 어떤 위치에 있는지 그림으로 보여줌. (에러 나면 pip install matplotlib 해보기)"
   ]
  },
  {
   "cell_type": "markdown",
   "id": "497f9588-433e-4f52-897a-a9c2ed5f5e86",
   "metadata": {},
   "source": [
    "### **Frequency Distribution**\n",
    "- 단어의 빈도수(frequency)를 활용할 수 있는 많은 메소드 제공\n",
    "- 인간 언어의 특징을 컴퓨터가 인식할 때 사용하는 정보들이 전체 단어 수, 특정 단어의 빈도 수 등이기 때문에 유용함"
   ]
  },
  {
   "cell_type": "markdown",
   "id": "3ff030c0-6f1f-48fa-b256-09ef16725685",
   "metadata": {},
   "source": [
    "- **FreqDist()** 라는 class로 만들어져 있음. "
   ]
  },
  {
   "cell_type": "code",
   "execution_count": 14,
   "id": "32831324-3488-49c3-b905-c92f34945268",
   "metadata": {},
   "outputs": [
    {
     "data": {
      "text/plain": [
       "True"
      ]
     },
     "execution_count": 14,
     "metadata": {},
     "output_type": "execute_result"
    }
   ],
   "source": [
    "import nltk\n",
    "from nltk.book import *\n",
    "nltk.download('book', quiet=True)"
   ]
  },
  {
   "cell_type": "code",
   "execution_count": 11,
   "id": "9e9864c1-47e2-4895-b022-77ca6deca9f0",
   "metadata": {},
   "outputs": [
    {
     "ename": "NameError",
     "evalue": "name 'nltk' is not defined",
     "output_type": "error",
     "traceback": [
      "\u001b[1;31m---------------------------------------------------------------------------\u001b[0m",
      "\u001b[1;31mNameError\u001b[0m                                 Traceback (most recent call last)",
      "\u001b[1;32m~\\AppData\\Local\\Temp/ipykernel_10172/3365057329.py\u001b[0m in \u001b[0;36m<module>\u001b[1;34m\u001b[0m\n\u001b[1;32m----> 1\u001b[1;33m \u001b[0mfdist\u001b[0m \u001b[1;33m=\u001b[0m \u001b[0mnltk\u001b[0m\u001b[1;33m.\u001b[0m\u001b[0mFreqDist\u001b[0m\u001b[1;33m(\u001b[0m\u001b[0mtext1\u001b[0m\u001b[1;33m)\u001b[0m \u001b[1;31m# 주로 fdist로 받음\u001b[0m\u001b[1;33m\u001b[0m\u001b[1;33m\u001b[0m\u001b[0m\n\u001b[0m\u001b[0;32m      2\u001b[0m \u001b[0mfdist\u001b[0m \u001b[1;31m#dictionary = key:value # 쌍으로 이루어진 자료형\u001b[0m\u001b[1;33m\u001b[0m\u001b[1;33m\u001b[0m\u001b[0m\n",
      "\u001b[1;31mNameError\u001b[0m: name 'nltk' is not defined"
     ]
    }
   ],
   "source": [
    "fdist = nltk.FreqDist(text1) # 주로 fdist로 받음\n",
    "fdist #dictionary = key:value # 쌍으로 이루어진 자료형"
   ]
  },
  {
   "cell_type": "markdown",
   "id": "92da0504-532f-44a2-b84f-19b4f0e92edb",
   "metadata": {},
   "source": [
    "- **fdist.most_common(n)** : 가장 빈번한 단어 n 개\n",
    "- **fdist['string']** : string의 빈도수\n",
    "- **count('string')**\n",
    "- **fdist.freq('string')** : 전체에서 string 개수의 비율\n",
    "- **fdist.plot(n, cumulative=True)** : 제일 빈번한 것부터 n 개까지 그릴지, 축적시켜서 그릴지 정해주기\n",
    "(기울기 완만할수록 얼마 안 나타나는 단어)\n",
    "- **len(fdist.hapaxes())** : 가장 빈번하지 않은 단어들. 즉, 빈도수 1인 단어들. 중복 안됨, 대소문자 구분됨.\n"
   ]
  },
  {
   "cell_type": "markdown",
   "id": "4686d026-f002-4d9d-8a33-d4e6905cca91",
   "metadata": {},
   "source": [
    "### **List**"
   ]
  },
  {
   "cell_type": "markdown",
   "id": "eabbe4f2-7a25-4584-9465-d25c578e384d",
   "metadata": {},
   "source": [
    "- 프로그래밍에서는 **배열(array)**, 파이썬에서는 **리스트(list)** : 하나의 변수에 여러 값을 할당하는 자료형\n",
    "- **대괄호**로 선언 [ ]\n",
    "    - 예) 'a = [1, 2, 3, 4]'\n",
    "- 내부 요소들은 자료형이 달라도 됨.\n",
    "    - a = [1, True, 'hello']\n",
    "- **순서** 존재. (인덱싱, 슬라이싱 가능)\n",
    "- 빈 리스트 선언 형식 : **list(), []**"
   ]
  },
  {
   "cell_type": "markdown",
   "id": "5e6a3d67-b2db-4edf-bfbf-0ec052da1b7f",
   "metadata": {},
   "source": []
  },
  {
   "cell_type": "markdown",
   "id": "1a700e84-47f3-477a-8551-18b9c5c367c6",
   "metadata": {},
   "source": [
    "### **List Comprehension**\n",
    "- 지능형 리스트\n",
    "- 주어진 리스트를 포함하는 새로운 리스트를 형성하는 것\n",
    "<br><br>\n",
    "\n",
    "- **list + for_loop** 한 줄로 해결하는 방식\n",
    "- 형식 : **[A for A' in B]**\n",
    "   - **B에 있는 A'에서 A를 가진 리스트를 반환**\n",
    "   - B: 기존의 리스트\n",
    "   - A' : B의 자료 형태\n",
    "   - A: 새로운 리스트의 요소들\n",
    "   \n",
    "- 조건 + 리스트 컴프리헨션 : **[A for A' in B if <조건식>]**\n",
    "- 조건 여러 개(논리연산자) : **[A for A' in B if <조건식> and <조건식>, ...]**"
   ]
  },
  {
   "cell_type": "markdown",
   "id": "bdf1822f-5a13-45d0-86a7-9d2d0f4cdc34",
   "metadata": {},
   "source": [
    "### **Quiz1**"
   ]
  },
  {
   "cell_type": "markdown",
   "id": "697229d9-8527-4da8-ae5f-a0715031b99e",
   "metadata": {},
   "source": [
    "text1에서 알파벳 수가 10 이상인 단어 맨 앞 글자만 출력하기"
   ]
  },
  {
   "cell_type": "code",
   "execution_count": 17,
   "id": "5c3565ad-f853-4331-a708-e718587f0de7",
   "metadata": {},
   "outputs": [],
   "source": [
    "#[word[0] for word in text1 if len(word) >= 10] # text1.token.와 동일"
   ]
  },
  {
   "cell_type": "markdown",
   "id": "ad7240ac-138b-4a2b-8317-3a740d36adca",
   "metadata": {},
   "source": [
    "text4에서 'gnt'를 포함하는 단어 반환"
   ]
  },
  {
   "cell_type": "code",
   "execution_count": 19,
   "id": "68db9550-577a-4f72-8519-54db1e560222",
   "metadata": {},
   "outputs": [
    {
     "ename": "NameError",
     "evalue": "name 'a' is not defined",
     "output_type": "error",
     "traceback": [
      "\u001b[1;31m---------------------------------------------------------------------------\u001b[0m",
      "\u001b[1;31mNameError\u001b[0m                                 Traceback (most recent call last)",
      "\u001b[1;32m~\\AppData\\Local\\Temp/ipykernel_10172/211704487.py\u001b[0m in \u001b[0;36m<module>\u001b[1;34m\u001b[0m\n\u001b[0;32m      2\u001b[0m \u001b[1;33m[\u001b[0m\u001b[0mword\u001b[0m\u001b[1;33m.\u001b[0m\u001b[0mlower\u001b[0m\u001b[1;33m(\u001b[0m\u001b[1;33m)\u001b[0m \u001b[1;32mfor\u001b[0m \u001b[0mword\u001b[0m \u001b[1;32min\u001b[0m \u001b[0mset\u001b[0m\u001b[1;33m(\u001b[0m\u001b[0mtext4\u001b[0m\u001b[1;33m)\u001b[0m \u001b[1;32mif\u001b[0m \u001b[1;34m'gnt'\u001b[0m \u001b[1;32min\u001b[0m \u001b[0mword\u001b[0m\u001b[1;33m]\u001b[0m \u001b[1;31m# 중복 없애고 찾기\u001b[0m\u001b[1;33m\u001b[0m\u001b[1;33m\u001b[0m\u001b[0m\n\u001b[0;32m      3\u001b[0m \u001b[0mset\u001b[0m\u001b[1;33m(\u001b[0m\u001b[1;33m[\u001b[0m\u001b[0mword\u001b[0m\u001b[1;33m.\u001b[0m\u001b[0mlower\u001b[0m\u001b[1;33m(\u001b[0m\u001b[1;33m)\u001b[0m \u001b[1;32mfor\u001b[0m \u001b[0mword\u001b[0m \u001b[1;32min\u001b[0m \u001b[0mtext4\u001b[0m \u001b[1;32mif\u001b[0m \u001b[1;34m'gnt'\u001b[0m \u001b[1;32min\u001b[0m \u001b[0mword\u001b[0m\u001b[1;33m]\u001b[0m\u001b[1;33m)\u001b[0m \u001b[1;31m# 찾고 중복 없애기\u001b[0m\u001b[1;33m\u001b[0m\u001b[1;33m\u001b[0m\u001b[0m\n\u001b[1;32m----> 4\u001b[1;33m \u001b[0mlen\u001b[0m\u001b[1;33m(\u001b[0m\u001b[0ma\u001b[0m\u001b[1;33m)\u001b[0m\u001b[1;33m,\u001b[0m \u001b[0mlen\u001b[0m\u001b[1;33m(\u001b[0m\u001b[0mb\u001b[0m\u001b[1;33m)\u001b[0m\u001b[1;33m\u001b[0m\u001b[1;33m\u001b[0m\u001b[0m\n\u001b[0m",
      "\u001b[1;31mNameError\u001b[0m: name 'a' is not defined"
     ]
    }
   ],
   "source": [
    "[word for word in text4 if word.find('gnt') != -1] # 내 답안\n",
    "[word.lower() for word in set(text4) if 'gnt' in word] # 중복 없애고 찾기\n",
    "set([word.lower() for word in text4 if 'gnt' in word]) # 찾고 중복 없애기\n",
    "len(a), len(b)"
   ]
  },
  {
   "cell_type": "markdown",
   "id": "467f919e-3b56-4416-aade-bfa48b33a961",
   "metadata": {
    "tags": []
   },
   "source": [
    "### **조건을 위한 함수: uncased, cased**\n",
    "- 대소문자 구분됨.\n",
    "- **upper()** : 대문자로 바꾸기\n",
    "- **lower()** : 소문자로 바꾸기\n",
    "- **title()**\n",
    "- **capitalize()** : \n",
    "- **swapcase()** : 대문자->소문자, 소문자->대문자로\n",
    "- is~~ 는 진리값 묻는 것(T/F)\n",
    "- **isuuper()** : 이게 대문자인가?\n",
    "- **islower()** : 소문자인가?\n",
    "- **istitle()** : \n",
    "- **endswith(), startswith()**\n",
    "- **isalpha()** : 알파벳인가? (알파벳만 골라내고 싶을때)"
   ]
  },
  {
   "cell_type": "markdown",
   "id": "6a2306fa-fd00-47d5-8ba3-2abb0976a676",
   "metadata": {},
   "source": [
    "### **Quiz2**\n",
    "text1에서 'ableness'로 끝나는 단어 반환"
   ]
  },
  {
   "cell_type": "code",
   "execution_count": 20,
   "id": "7a40201c-25dd-4d4f-ab7c-3c59c1316239",
   "metadata": {},
   "outputs": [
    {
     "data": {
      "text/plain": [
       "['uncomfortableness',\n",
       " 'comfortableness',\n",
       " 'intolerableness',\n",
       " 'immutableness',\n",
       " 'indomitableness',\n",
       " 'reasonableness',\n",
       " 'indispensableness',\n",
       " 'indomitableness',\n",
       " 'honourableness',\n",
       " 'palpableness']"
      ]
     },
     "execution_count": 20,
     "metadata": {},
     "output_type": "execute_result"
    }
   ],
   "source": [
    "[word for word in text1 if word.endswith('ableness')]"
   ]
  },
  {
   "cell_type": "markdown",
   "id": "95a0d491-c740-42a2-8c01-dcb90005f058",
   "metadata": {},
   "source": [
    "### **Quiz3**"
   ]
  },
  {
   "cell_type": "markdown",
   "id": "962aded5-3193-4f8e-8b92-8a1c84c9cf7b",
   "metadata": {},
   "source": [
    "text 4에서 알파벳인 단어 중 길이가 4개 이상이고, 빈도수 5 이상인 단어의 길이 반환"
   ]
  },
  {
   "cell_type": "code",
   "execution_count": 28,
   "id": "7b1fe482-590b-47f8-ba63-c47ef4a97b38",
   "metadata": {},
   "outputs": [],
   "source": [
    "#[len(word) for word in text4 if word.isalpha() and len(word) >= 4 and text4.count(word) >= 5]\n",
    "# 비효율적\n",
    "# 더 좋은 풀이 :\n",
    "#[len(word) for word in text4 if word.isalpha() and len(word) >=4 and fdist[word] >= 5]"
   ]
  },
  {
   "cell_type": "markdown",
   "id": "d51fd8fb-ce07-4048-bc8d-6121d738eaa3",
   "metadata": {},
   "source": [
    "### **리스트와 스트링 오가는 함수들**\n",
    "- **str.split(sep)** : 스플릿 함수. sep 기본값은 공백. **str-> list**\n",
    "- **join()** : 조인 함수. **list -> string**"
   ]
  },
  {
   "cell_type": "code",
   "execution_count": 23,
   "id": "628a4e7e-5a90-4afb-8152-e66ff6c5a791",
   "metadata": {},
   "outputs": [
    {
     "data": {
      "text/plain": [
       "['I', ' am', ' thirsty']"
      ]
     },
     "execution_count": 23,
     "metadata": {},
     "output_type": "execute_result"
    }
   ],
   "source": [
    "sent = 'I, am, thirsty'\n",
    "['I', 'am', 'thirsty'] # tokens\n",
    "\n",
    "sent.split(',') # strip()"
   ]
  },
  {
   "cell_type": "markdown",
   "id": "a1284c9a-348d-4e07-bbda-4545cb72629d",
   "metadata": {},
   "source": [
    "### **반복문**"
   ]
  },
  {
   "cell_type": "markdown",
   "id": "000116b3-4f7f-4c68-8014-da0265873e6d",
   "metadata": {},
   "source": [
    "- [word **for word in text1**] : 진한 부분에 해당하는 게 반복문\n",
    "- 자료구조를 순회\n",
    "- 정해진 동작을 반복적으로 수행\n",
    "<br><br>\n",
    "- **시작조건, 종료조건, 수행명령**으로 구성됨\n",
    "- 형식 :\n",
    "    **for 요소 in 반복 범위**: \n",
    "                수행명령\n",
    "<br>\n",
    "- 반복문의 두 종류 **for, while**\n",
    "- 들여쓰기, 블록으로 논리구조 구성\n",
    "- 무한루프 유의"
   ]
  },
  {
   "cell_type": "markdown",
   "id": "9e922380-1059-411c-aa37-893f7b937d26",
   "metadata": {},
   "source": [
    "- 숫자반복: **range(start, end, step)**, 0부터 시작"
   ]
  },
  {
   "cell_type": "code",
   "execution_count": 26,
   "id": "5e08d0f6-2832-43e0-ae2b-705240958070",
   "metadata": {},
   "outputs": [
    {
     "name": "stdout",
     "output_type": "stream",
     "text": [
      "1\n",
      "3\n",
      "5\n",
      "7\n",
      "9\n"
     ]
    }
   ],
   "source": [
    "for i in range(1, 10, 2):\n",
    "    print(i)"
   ]
  },
  {
   "cell_type": "markdown",
   "id": "9e0a917f-7cd5-4389-9eb4-0619f7c4ccc6",
   "metadata": {},
   "source": [
    "### **출력 포매팅 방법**\n",
    "- 1번,3번 많이 씀. 2번은 좀 옛날 방식.\n",
    "1. **f'str... {var}'**\n",
    "    - f, F 둘 다 가능\n",
    "2. **%**\n",
    "    - '... %s' %var\n",
    "3. **'...{}'.format{var}**"
   ]
  },
  {
   "cell_type": "code",
   "execution_count": null,
   "id": "17a84833-0b36-49a2-86d8-9411e7f2577f",
   "metadata": {},
   "outputs": [],
   "source": [
    "print(\"My name is \", name)\n",
    "print(f\"My name is {name}\")\n",
    "printf('My name is %s' %name)\n",
    "printf('My name is {}'.format{name})"
   ]
  }
 ],
 "metadata": {
  "kernelspec": {
   "display_name": "Python 3 (ipykernel)",
   "language": "python",
   "name": "python3"
  },
  "language_info": {
   "codemirror_mode": {
    "name": "ipython",
    "version": 3
   },
   "file_extension": ".py",
   "mimetype": "text/x-python",
   "name": "python",
   "nbconvert_exporter": "python",
   "pygments_lexer": "ipython3",
   "version": "3.9.7"
  }
 },
 "nbformat": 4,
 "nbformat_minor": 5
}
