{
 "cells": [
  {
   "cell_type": "markdown",
   "id": "5711a17e-29b2-4fb1-982f-c9f58bba1b40",
   "metadata": {},
   "source": [
    "# **Week 10. 객체와 클래스**\n",
    "---\n",
    "- 파이썬 => **객체지향프로그램**\n",
    "- **객체** : 속성과 행동을 갖는 개념으로, 실존하는 물체도 포함\n",
    "    - 예: 자동차, 강아지, 꽃, ... 즉, thing으로 생각할 수 있다.\n",
    "    - **속성**(`변수`로 표현): 브랜드, 색, 속도, 모델, ...\n",
    "        - 이름, 종, 색, 몸무게, ...\n",
    "    - **행동**(`메소드(함수)` 로 표현): 가다, 서다, 회전, 주차, ...\n",
    "        - 짖다, 물다, 먹다, ..."
   ]
  },
  {
   "cell_type": "markdown",
   "id": "53d9d214-f251-4c2b-8c58-62f220015af6",
   "metadata": {},
   "source": [
    "#### **객체 예시**\n",
    "**고객이 편의점에서 과자를 샀다.**\n",
    "\n",
    "1) `고객` (사람)\n",
    "- 이름\n",
    "- 돈\n",
    "- 물건을 사다(행동)\n",
    "- 돈을 내다(행동)\n",
    "\n",
    "2) `편의점`\n",
    "- 이름\n",
    "- 재고\n",
    "- 수입\n",
    "- 물건 등록(행동)\n",
    "\n",
    "3) `과자` (물건)\n",
    "- 이름\n",
    "- 브랜드\n",
    "- 가격\n",
    "\n",
    "=> 상호작용으로 코드 구성.<br>\n",
    "+) 행동은 항상 필요한 것은 아님."
   ]
  },
  {
   "cell_type": "markdown",
   "id": "7c160a15-21ac-473d-a961-913f3c10518f",
   "metadata": {},
   "source": [
    "#### **클래스 선언하기**\n",
    "**1) 클래스 이름**<br>\n",
    "    - 첫글자 대문자<br>\n",
    "    - 카멜 표기법 선호<br>\n",
    "        - nice car -> Nice_car(x)<br>\n",
    "        - NiceCar (o)<br><br>\n",
    "        \n",
    "**2) 정의부와 선언부**<br>\n",
    "    - 정의부 : 붕어빵 틀<br>\n",
    "    - 선언부 : 붕어빵<br>\n"
   ]
  },
  {
   "cell_type": "code",
   "execution_count": 1,
   "id": "804109b7-c535-4e42-b266-c5b1fc03ee39",
   "metadata": {},
   "outputs": [
    {
     "data": {
      "text/plain": [
       "<__main__.Car at 0x252629557f0>"
      ]
     },
     "execution_count": 1,
     "metadata": {},
     "output_type": "execute_result"
    }
   ],
   "source": [
    "#정의부\n",
    "class Car: #객체\n",
    "    pass\n",
    "\n",
    "#선언부\n",
    "my_car = Car()\n",
    "my_car # instance == 붕어빵"
   ]
  },
  {
   "cell_type": "code",
   "execution_count": 3,
   "id": "a67b2061-32a4-415b-b123-e93468e5b386",
   "metadata": {},
   "outputs": [
    {
     "data": {
      "text/plain": [
       "'bmw'"
      ]
     },
     "execution_count": 3,
     "metadata": {},
     "output_type": "execute_result"
    }
   ],
   "source": [
    "# 정의부에 없는 내용 생성 가능\n",
    "my_car.name = 'bmw'\n",
    "my_car.color = 'white'\n",
    "\n",
    "my_car.name #접근이 용이"
   ]
  },
  {
   "cell_type": "markdown",
   "id": "bd4fc532-170e-4f37-b250-2cd9e4de36f1",
   "metadata": {},
   "source": [
    "#### **정의부 속성 정의하기**"
   ]
  },
  {
   "cell_type": "code",
   "execution_count": 4,
   "id": "8da1758d-3beb-4171-b686-9f2eacab63de",
   "metadata": {},
   "outputs": [
    {
     "data": {
      "text/plain": [
       "'Bmw'"
      ]
     },
     "execution_count": 4,
     "metadata": {},
     "output_type": "execute_result"
    }
   ],
   "source": [
    "class Car:\n",
    "    name = 'Bmw'\n",
    "your_car = Car()\n",
    "your_car.name"
   ]
  },
  {
   "cell_type": "markdown",
   "id": "6cc73676-e8c3-48fd-8d47-63e5ab2e56b8",
   "metadata": {},
   "source": [
    "#### **정의부, 선언부 응용**"
   ]
  },
  {
   "cell_type": "code",
   "execution_count": 29,
   "id": "95e0d9a4-2693-4e66-ac38-b720b8ceee32",
   "metadata": {},
   "outputs": [],
   "source": [
    "# 모델, 색 추가\n",
    "class Car2:\n",
    "    def __init__(self, name, model=None, color='black'):#속성을 초기화하는 함수\n",
    "                                                        # 객체 만들 때 들어오는 값으로 이름을 설정하고 싶을 때 사용\n",
    "                                                        # model 생성할 때 안 넣어도 되게 설정하기=> None 설정\n",
    "                                                            #->속성 없애는 것과는 다름\n",
    "        self.name = name #self == instance: 인스턴스 자기 자신\n",
    "        self.model = model\n",
    "        self.color = color\n",
    "        \n",
    "    def drive(self):\n",
    "        # {브랜드이름}가 출발합니다.\n",
    "        print(f'{self.name}가 출발합니다.')\n",
    "    \n",
    "    def stop(self):\n",
    "        print('차가 섭니다')\n",
    "        \n",
    "    def change_color(self, color):\n",
    "        #gray로 바꾼다.\n",
    "        self.color = color\n",
    "        \n",
    "        #3. color를 받아서 그걸로 지정하게\n",
    "        #4. color 들어오면 그 값으로 설정, 아니면 'black'으로    "
   ]
  },
  {
   "cell_type": "code",
   "execution_count": 24,
   "id": "72a37ecd-a5b4-4fe2-a5dc-aba63b5fd392",
   "metadata": {},
   "outputs": [
    {
     "data": {
      "text/plain": [
       "('Hyundai', '234', 'Yellow')"
      ]
     },
     "execution_count": 24,
     "metadata": {},
     "output_type": "execute_result"
    }
   ],
   "source": [
    "# 객체 속성 초기화하기\n",
    "car1 = Car2('Hyundai', '234', 'Yellow')\n",
    "car1.name, car1.model, car1.color"
   ]
  },
  {
   "cell_type": "code",
   "execution_count": 25,
   "id": "553cceff-3c86-49a4-b58e-976dfaa61bc5",
   "metadata": {},
   "outputs": [
    {
     "name": "stdout",
     "output_type": "stream",
     "text": [
      "Hyundai가 출발합니다.\n"
     ]
    }
   ],
   "source": [
    "car1.drive()"
   ]
  },
  {
   "cell_type": "code",
   "execution_count": 26,
   "id": "3e1966bb-32cc-4dad-a2a3-99075f44232e",
   "metadata": {},
   "outputs": [
    {
     "name": "stdout",
     "output_type": "stream",
     "text": [
      "차가 섭니다\n"
     ]
    }
   ],
   "source": [
    "car1.stop()"
   ]
  },
  {
   "cell_type": "code",
   "execution_count": 27,
   "id": "e526fb2c-6b30-4cfb-ae82-1ef501809a7f",
   "metadata": {},
   "outputs": [
    {
     "name": "stdout",
     "output_type": "stream",
     "text": [
      "Yellow\n",
      "gray\n"
     ]
    }
   ],
   "source": [
    "#색깔 회색으로 바꾸기\n",
    "print(car1.color)\n",
    "car1.change_color('gray')\n",
    "print(car1.color)"
   ]
  },
  {
   "cell_type": "code",
   "execution_count": 28,
   "id": "b1111a34-2482-4536-ba9f-63a094a21520",
   "metadata": {},
   "outputs": [
    {
     "data": {
      "text/plain": [
       "'black'"
      ]
     },
     "execution_count": 28,
     "metadata": {},
     "output_type": "execute_result"
    }
   ],
   "source": [
    "#색깔 기본값 확인\n",
    "car2 = Car2('BMW', 'Hyundai')\n",
    "car2.color"
   ]
  },
  {
   "cell_type": "code",
   "execution_count": 31,
   "id": "6e85f1b9-9e13-4d34-ad4e-a40f6ec909c1",
   "metadata": {},
   "outputs": [
    {
     "data": {
      "text/plain": [
       "('Hyundai', None, 'black')"
      ]
     },
     "execution_count": 31,
     "metadata": {},
     "output_type": "execute_result"
    }
   ],
   "source": [
    "car3 = Car2('Hyundai')\n",
    "car3.name, car3.model, car3.color"
   ]
  },
  {
   "cell_type": "markdown",
   "id": "de65e0a2-a94c-4e8e-b40f-279b278b2e50",
   "metadata": {},
   "source": [
    "#### **캡슐화, 정보 은닉**\n",
    "- getter, setter\n",
    "- public한 것을 private한 것으로\n",
    "- 외부에서 마음대로 접근해서 변경하는 것을 막기 위해서"
   ]
  },
  {
   "cell_type": "markdown",
   "id": "53e2949f-8447-49e9-bbd3-24c9359f579a",
   "metadata": {},
   "source": [
    "#### **get, set**\n",
    "- getter: 클래스 내 객체 변수 반환\n",
    "- setter: == 변수 설정"
   ]
  },
  {
   "cell_type": "markdown",
   "id": "d70b6f18-ff19-43c4-8e97-5e542c9d2cc8",
   "metadata": {},
   "source": [
    "##### **1. JAVA 방식**"
   ]
  },
  {
   "cell_type": "code",
   "execution_count": 33,
   "id": "ebd797ea-762a-49dc-bada-d01ea68ccae8",
   "metadata": {},
   "outputs": [
    {
     "data": {
      "text/plain": [
       "'name1'"
      ]
     },
     "execution_count": 33,
     "metadata": {},
     "output_type": "execute_result"
    }
   ],
   "source": [
    "class Car:\n",
    "    def __init__(self, input_name):\n",
    "        self.name = input_name\n",
    "        \n",
    "    def get_name(self):\n",
    "        #클래스 변수 반환\n",
    "        return self.name\n",
    "    \n",
    "    def set_name(self, input_name):\n",
    "        self.name = input_name\n",
    "        \n",
    "c = Car('name1')\n",
    "c.get_name()"
   ]
  },
  {
   "cell_type": "code",
   "execution_count": 34,
   "id": "237e230e-31ee-4e75-94f5-eb5a82c150b6",
   "metadata": {},
   "outputs": [
    {
     "data": {
      "text/plain": [
       "'name2'"
      ]
     },
     "execution_count": 34,
     "metadata": {},
     "output_type": "execute_result"
    }
   ],
   "source": [
    "c.set_name('name2') # setter 있다면 __init__ 쓰지 말라는 의미\n",
    "c.get_name()"
   ]
  },
  {
   "cell_type": "markdown",
   "id": "8a3b2752-7914-4c69-aa37-9115637519d8",
   "metadata": {},
   "source": [
    "##### **2. Python 방식**"
   ]
  },
  {
   "cell_type": "code",
   "execution_count": 35,
   "id": "2b4d0795-5ec9-4beb-a507-b4aee43e6db9",
   "metadata": {},
   "outputs": [
    {
     "data": {
      "text/plain": [
       "'name_1'"
      ]
     },
     "execution_count": 35,
     "metadata": {},
     "output_type": "execute_result"
    }
   ],
   "source": [
    "class Car:\n",
    "    def __init__(self, input_name):\n",
    "        self.hidden_name = input_name # __init__으로 name에 접근하는 걸 피하고 싶을 때\n",
    "        \n",
    "    def get_name(self):\n",
    "        #변수 반환\n",
    "        return self.hidden_name\n",
    "    \n",
    "    def set_name(self, input_name):\n",
    "        self.hidden_name = input_name\n",
    "        \n",
    "    name = property(get_name, set_name)\n",
    "    \n",
    "d = Car('name_1')\n",
    "d.name"
   ]
  },
  {
   "cell_type": "markdown",
   "id": "14d1ab14-b1db-450c-bf89-0c872a03ebdb",
   "metadata": {},
   "source": [
    "##### **3. @ decorator 사용**"
   ]
  },
  {
   "cell_type": "code",
   "execution_count": 36,
   "id": "798e3286-49e6-4585-b8fa-7341b8684607",
   "metadata": {},
   "outputs": [],
   "source": [
    "class Car:\n",
    "    def __init__(self, input_name):\n",
    "        self.hidden_name = input_name\n",
    "        \n",
    "    #decorator\n",
    "    #메소드로 속성 만들기\n",
    "    @property\n",
    "    def name(self):\n",
    "        #변수 반환\n",
    "        return self.hidden_name\n",
    "    \n",
    "    @name.setter # @<필드명>.setter\n",
    "    def name(self, input_name):\n",
    "        self.hidden_name = input_name"
   ]
  },
  {
   "cell_type": "code",
   "execution_count": 37,
   "id": "a7c64497-5419-4fa1-a176-c255ccb6015f",
   "metadata": {},
   "outputs": [
    {
     "data": {
      "text/plain": [
       "'name a'"
      ]
     },
     "execution_count": 37,
     "metadata": {},
     "output_type": "execute_result"
    }
   ],
   "source": [
    "e = Car('name a')\n",
    "e.name"
   ]
  },
  {
   "cell_type": "code",
   "execution_count": 38,
   "id": "034f03ac-2f95-4d32-80ca-031f9e5a6304",
   "metadata": {},
   "outputs": [
    {
     "ename": "AttributeError",
     "evalue": "type object 'Car' has no attribute 'hidden_name'",
     "output_type": "error",
     "traceback": [
      "\u001b[1;31m---------------------------------------------------------------------------\u001b[0m",
      "\u001b[1;31mAttributeError\u001b[0m                            Traceback (most recent call last)",
      "\u001b[1;32m~\\AppData\\Local\\Temp/ipykernel_18500/1705715182.py\u001b[0m in \u001b[0;36m<module>\u001b[1;34m\u001b[0m\n\u001b[1;32m----> 1\u001b[1;33m \u001b[0mCar\u001b[0m\u001b[1;33m.\u001b[0m\u001b[0mhidden_name\u001b[0m \u001b[1;31m#외부 접근 방지하기\u001b[0m\u001b[1;33m\u001b[0m\u001b[1;33m\u001b[0m\u001b[0m\n\u001b[0m",
      "\u001b[1;31mAttributeError\u001b[0m: type object 'Car' has no attribute 'hidden_name'"
     ]
    }
   ],
   "source": [
    "Car.hidden_name #외부 접근 방지하기"
   ]
  },
  {
   "cell_type": "code",
   "execution_count": 41,
   "id": "52d17613-36f4-416b-8171-55e60b945197",
   "metadata": {},
   "outputs": [
    {
     "data": {
      "text/plain": [
       "'name a'"
      ]
     },
     "execution_count": 41,
     "metadata": {},
     "output_type": "execute_result"
    }
   ],
   "source": [
    "e.hidden_name # 허점: 개별 객체에 대한 hidden_name 접근이 여전히 가능"
   ]
  },
  {
   "cell_type": "markdown",
   "id": "affd4134-f981-4f5a-8052-fef803fb896c",
   "metadata": {},
   "source": [
    "##### **4. 완전 가려야 할 때 - 완전히 접근 막기**"
   ]
  },
  {
   "cell_type": "code",
   "execution_count": 43,
   "id": "de5e4166-b645-4a3e-9726-9db48fe2deae",
   "metadata": {},
   "outputs": [
    {
     "ename": "AttributeError",
     "evalue": "type object 'Car3' has no attribute '__a'",
     "output_type": "error",
     "traceback": [
      "\u001b[1;31m---------------------------------------------------------------------------\u001b[0m",
      "\u001b[1;31mAttributeError\u001b[0m                            Traceback (most recent call last)",
      "\u001b[1;32m~\\AppData\\Local\\Temp/ipykernel_18500/75736051.py\u001b[0m in \u001b[0;36m<module>\u001b[1;34m\u001b[0m\n\u001b[0;32m      3\u001b[0m \u001b[1;33m\u001b[0m\u001b[0m\n\u001b[0;32m      4\u001b[0m \u001b[0mb\u001b[0m \u001b[1;33m=\u001b[0m \u001b[0mCar3\u001b[0m\u001b[1;33m\u001b[0m\u001b[1;33m\u001b[0m\u001b[0m\n\u001b[1;32m----> 5\u001b[1;33m \u001b[0mb\u001b[0m\u001b[1;33m.\u001b[0m\u001b[0m__a\u001b[0m\u001b[1;33m\u001b[0m\u001b[1;33m\u001b[0m\u001b[0m\n\u001b[0m",
      "\u001b[1;31mAttributeError\u001b[0m: type object 'Car3' has no attribute '__a'"
     ]
    }
   ],
   "source": [
    "class Car3: #언더바 2개 사용하기\n",
    "    __a = 10\n",
    "    \n",
    "b = Car3\n",
    "b.__a"
   ]
  },
  {
   "cell_type": "code",
   "execution_count": 47,
   "id": "3d9011cc-8565-4c57-9d9c-25d5a4d7819e",
   "metadata": {},
   "outputs": [],
   "source": [
    "# 클래스에 접근 못하도록 하기(__사용)\n",
    "\n",
    "class Car:\n",
    "    def __init__(self, input_name):\n",
    "        self.__name = input_name\n",
    "        \n",
    "    @property\n",
    "    def name(self):\n",
    "        return self.__name\n",
    "    \n",
    "    @name.setter\n",
    "    def name(self, input_name):\n",
    "        self.__name = input_name"
   ]
  },
  {
   "cell_type": "code",
   "execution_count": 48,
   "id": "93ce593a-cb92-4ae8-a873-b18438f756b1",
   "metadata": {},
   "outputs": [
    {
     "ename": "AttributeError",
     "evalue": "'Car' object has no attribute '__name'",
     "output_type": "error",
     "traceback": [
      "\u001b[1;31m---------------------------------------------------------------------------\u001b[0m",
      "\u001b[1;31mAttributeError\u001b[0m                            Traceback (most recent call last)",
      "\u001b[1;32m~\\AppData\\Local\\Temp/ipykernel_18500/229484777.py\u001b[0m in \u001b[0;36m<module>\u001b[1;34m\u001b[0m\n\u001b[0;32m      1\u001b[0m \u001b[0mf\u001b[0m \u001b[1;33m=\u001b[0m \u001b[0mCar\u001b[0m\u001b[1;33m(\u001b[0m\u001b[1;34m'name b'\u001b[0m\u001b[1;33m)\u001b[0m\u001b[1;33m\u001b[0m\u001b[1;33m\u001b[0m\u001b[0m\n\u001b[1;32m----> 2\u001b[1;33m \u001b[0mf\u001b[0m\u001b[1;33m.\u001b[0m\u001b[0m__name\u001b[0m\u001b[1;33m\u001b[0m\u001b[1;33m\u001b[0m\u001b[0m\n\u001b[0m",
      "\u001b[1;31mAttributeError\u001b[0m: 'Car' object has no attribute '__name'"
     ]
    }
   ],
   "source": [
    "f = Car('name b')\n",
    "f.__name"
   ]
  },
  {
   "cell_type": "markdown",
   "id": "7b60c2da-ae7a-4c39-bba5-77158e325f95",
   "metadata": {},
   "source": [
    "### 실습\n",
    "- 메모장, 메모 구현하기\n",
    "- 메모장\n",
    "    - 속성 : 제목, 페이지번호, 메모\n",
    "    - 행동 : 메모 추가하다/삭제하다, 페이지번호 확인하다\n",
    "- 메모\n",
    "    - 속성: 글귀\n",
    "    - 행동: 쓰다, 지우다\n",
    "\n",
    "- 사용:\n",
    "    - 메모 쓴다\n",
    "    - 메모장에 추가\n",
    "    - 페이지 번호가 늘어난다\n",
    "    - 메모 삭제\n",
    "    - 페이지 번호 줄어든다.\n",
    "    - 메모장 제목만 은닉시키기\n",
    "    \n",
    "    클래스 2개 만들기"
   ]
  },
  {
   "cell_type": "code",
   "execution_count": 80,
   "id": "64004cae-e228-44c9-a255-281ff6d363d5",
   "metadata": {},
   "outputs": [],
   "source": [
    "class Notebook:\n",
    "    def __init__(self, input_title = None):\n",
    "        self.__title = input_title #페이지 제목 은닉하기\n",
    "        self.page_num = 0\n",
    "        self.note = []\n",
    "        \n",
    "    @property\n",
    "    def title(self):\n",
    "        return self.__title\n",
    "    \n",
    "    @title.setter\n",
    "    def title(self, new_title):\n",
    "        self.__title = new_title\n",
    "        \n",
    "    def add_note(self, note):\n",
    "        if self.page_num < 300:\n",
    "            self.note.append(note)\n",
    "            self.page_num += 1\n",
    "        else:\n",
    "            print(\"메모장 용량이 부족해 메모를 추가할수 없습니다.\")\n",
    "            \n",
    "    def remove_note(self, note):\n",
    "        self.note.remove(note)\n",
    "        self.page_num -= 1\n",
    "        \n",
    "    def get_page_num(self, note):\n",
    "        return self.note.index(note) + 1\n",
    "    \n",
    "    def get_memo(self, page_num):\n",
    "        return self.note[page_num - 1]\n",
    "    \n",
    "class Note:\n",
    "    def __init__(self):\n",
    "        self.note = ''\n",
    "        \n",
    "    def write(self, note):\n",
    "        self.note += (' ' + note)\n",
    "        self.note = self.note.strip()\n",
    "        \n",
    "    def erase(self):\n",
    "        self.note = ''"
   ]
  },
  {
   "cell_type": "code",
   "execution_count": 81,
   "id": "df622c35-893c-4cfb-9c3d-437230150a3d",
   "metadata": {},
   "outputs": [],
   "source": [
    "# 메모 추가하기\n",
    "\n",
    "note1 = '안녕하세요'\n",
    "note2 = '고급파이썬프로그래밍'\n",
    "note3 = 'Carpe Diem'\n",
    "\n",
    "notebook1 = Note()\n",
    "notebook2 = Note()\n",
    "notebook3 = Note()"
   ]
  },
  {
   "cell_type": "code",
   "execution_count": 96,
   "id": "194503eb-be8f-4087-a22d-d6bc6d7d2964",
   "metadata": {},
   "outputs": [],
   "source": [
    "# 메모 쓰기\n",
    "notebook1.write(note1)\n",
    "\n",
    "notebook2.write(note2)\n",
    "\n",
    "notebook3.write(note3)"
   ]
  },
  {
   "cell_type": "code",
   "execution_count": 97,
   "id": "a0161533-b815-4bfa-9427-4849b82f4ab5",
   "metadata": {},
   "outputs": [],
   "source": [
    "#메모장 만들기\n",
    "my_notebook = Notebook()\n",
    "\n",
    "#메모장에 메모 추가\n",
    "my_notebook.add_note(notebook1.note)\n",
    "my_notebook.add_note(notebook2.note)\n",
    "my_notebook.add_note(notebook3.note)"
   ]
  },
  {
   "cell_type": "code",
   "execution_count": 101,
   "id": "d575c2a7-c96b-4450-824e-0cda2c03fc9e",
   "metadata": {},
   "outputs": [
    {
     "name": "stdout",
     "output_type": "stream",
     "text": [
      "3\n"
     ]
    }
   ],
   "source": [
    "#페이지 번호 확인\n",
    "print(my_notebook.get_page_num(notebook3.note))"
   ]
  },
  {
   "cell_type": "code",
   "execution_count": 102,
   "id": "3accdb2e-78b1-4c81-9037-5b78c380f6fe",
   "metadata": {},
   "outputs": [
    {
     "name": "stdout",
     "output_type": "stream",
     "text": [
      "2\n"
     ]
    }
   ],
   "source": [
    "#메모 삭제\n",
    "my_notebook.remove_note(notebook2.note)\n",
    "print(my_notebook.get_page_num(notebook3.note))"
   ]
  },
  {
   "cell_type": "code",
   "execution_count": 103,
   "id": "55bfd9d7-4dc0-4e19-9db0-2d45cdd87286",
   "metadata": {},
   "outputs": [
    {
     "name": "stdout",
     "output_type": "stream",
     "text": [
      "새로운 제목\n"
     ]
    }
   ],
   "source": [
    "# 메모장 제목 getter, setter로 설정하기\n",
    "my_notebook.title = '새로운 제목'\n",
    "print(my_notebook.title)"
   ]
  },
  {
   "cell_type": "code",
   "execution_count": 106,
   "id": "ea170b69-8d7d-4e0c-a60f-4c056d0f62f9",
   "metadata": {},
   "outputs": [
    {
     "data": {
      "text/plain": [
       "'Carpe Diem Carpe Diem'"
      ]
     },
     "execution_count": 106,
     "metadata": {},
     "output_type": "execute_result"
    }
   ],
   "source": [
    "#페이지 번호로 메모 찾기\n",
    "my_notebook.get_memo(2)"
   ]
  }
 ],
 "metadata": {
  "kernelspec": {
   "display_name": "Python 3 (ipykernel)",
   "language": "python",
   "name": "python3"
  },
  "language_info": {
   "codemirror_mode": {
    "name": "ipython",
    "version": 3
   },
   "file_extension": ".py",
   "mimetype": "text/x-python",
   "name": "python",
   "nbconvert_exporter": "python",
   "pygments_lexer": "ipython3",
   "version": "3.9.7"
  }
 },
 "nbformat": 4,
 "nbformat_minor": 5
}
