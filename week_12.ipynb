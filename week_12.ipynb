{
 "cells": [
  {
   "cell_type": "markdown",
   "id": "97c6adbc-045c-4e7e-928f-171d1f6eaf6e",
   "metadata": {},
   "source": [
    "# WEEK 12\n",
    "***"
   ]
  },
  {
   "cell_type": "markdown",
   "id": "0ff75766-8019-48f4-bd33-1369a74d3769",
   "metadata": {},
   "source": [
    "### 1. 매직메소드\n",
    "- special method\n",
    "- str, repr"
   ]
  },
  {
   "cell_type": "code",
   "execution_count": 1,
   "id": "12121dd9-39d1-4fd9-bdd5-f3c0c93c34ee",
   "metadata": {},
   "outputs": [],
   "source": [
    "class Customer:\n",
    "    def __init__(self, name):\n",
    "        self.name = name\n",
    "        \n",
    "        def __str__(self):\n",
    "            # print() 함수로 나온 출력값을 변경하는 것\n",
    "            return self.name\n",
    "        \n",
    "        def __repr__(self):\n",
    "            # 설정 안 하면 __str__와 동일함\n",
    "            # 인스턴스를 출력하는 방식 => 사용자가 이해하려는 객체의 모습을 표현\n",
    "            return f'Customer({self.name})'###Customer(객체이름)\n",
    "            \n",
    "        \n",
    "c = Customer('kim')"
   ]
  },
  {
   "cell_type": "code",
   "execution_count": 2,
   "id": "4a6cc8c1-eb33-4a7f-b54b-84db537fbf24",
   "metadata": {},
   "outputs": [
    {
     "data": {
      "text/plain": [
       "<__main__.Customer at 0x231f17a3130>"
      ]
     },
     "execution_count": 2,
     "metadata": {},
     "output_type": "execute_result"
    }
   ],
   "source": [
    "c"
   ]
  },
  {
   "cell_type": "code",
   "execution_count": 3,
   "id": "0571dfb5-3e74-4377-8024-9d9fab427e89",
   "metadata": {},
   "outputs": [
    {
     "name": "stdout",
     "output_type": "stream",
     "text": [
      "<__main__.Customer object at 0x00000231F17A3130>\n"
     ]
    }
   ],
   "source": [
    "print(c)"
   ]
  },
  {
   "cell_type": "markdown",
   "id": "192ebd17-1f63-49f0-930a-fb9c7a8b0148",
   "metadata": {},
   "source": [
    "### 2. Named Tuple, DataClass\n",
    "- 객체보다 효율적(간단한 속성만 가진 클래스일 경우 활용)\n",
    "- 딕셔너리의 키처럼 사용 가능\n",
    "- 불변객체"
   ]
  },
  {
   "cell_type": "code",
   "execution_count": 16,
   "id": "27f8c911-4cb7-4f31-8edd-622d8108b5ad",
   "metadata": {},
   "outputs": [
    {
     "data": {
      "text/plain": [
       "('lee', 44)"
      ]
     },
     "execution_count": 16,
     "metadata": {},
     "output_type": "execute_result"
    }
   ],
   "source": [
    "from collections import namedtuple #Named Tuple은 collections 라이브러리에 있음\n",
    "\n",
    "Customer = namedtuple('Customer', 'name age')#공백으로 변수 구분\n",
    "a = Customer('lee', 44)\n",
    "a.name, a.age"
   ]
  },
  {
   "cell_type": "code",
   "execution_count": 19,
   "id": "aed27eb5-80f8-4688-b43a-cfee77cb96cb",
   "metadata": {},
   "outputs": [
    {
     "data": {
      "text/plain": [
       "('hong', 88)"
      ]
     },
     "execution_count": 19,
     "metadata": {},
     "output_type": "execute_result"
    }
   ],
   "source": [
    "from dataclasses import dataclass #라이브러리 import\n",
    "#파이썬 3.7 이상에서만 가능함\n",
    "\n",
    "@dataclass\n",
    "class Customer2:\n",
    "    name: str\n",
    "    age: int\n",
    "    \n",
    "b = Customer2('hong', 88)\n",
    "b.name, b.age"
   ]
  },
  {
   "cell_type": "markdown",
   "id": "56df6d42-2bbc-43eb-a788-07fda99db654",
   "metadata": {},
   "source": [
    "## 3. 함수 II\n",
    "- asterisk (stars) : *, **\n",
    "    - 여러 개가 들어왔을 때 하나로 묶어주는 역할 (패킹)\n",
    "    무한대로 받기 가능\n",
    "- 일급객체\n",
    "- 내부함수, 클로저\n",
    "- 익명함수\n",
    "- 제너레이터\n",
    "- 재귀함수"
   ]
  },
  {
   "cell_type": "code",
   "execution_count": 22,
   "id": "4e66d826-854d-4a7e-ae6c-11194149008b",
   "metadata": {},
   "outputs": [
    {
     "name": "stdout",
     "output_type": "stream",
     "text": [
      "1 2 3 4 5 6\n"
     ]
    }
   ],
   "source": [
    "def print_arg(*args): #1. 여러개의 인자 ->패킹\n",
    "    print(*args) #2. 언패킹\n",
    "    \n",
    "print_arg(1, 2, 3, 4, 5, 6)"
   ]
  },
  {
   "cell_type": "code",
   "execution_count": 23,
   "id": "f1ef6f49-7a25-4ad2-8446-60802bc0de5c",
   "metadata": {},
   "outputs": [
    {
     "name": "stdout",
     "output_type": "stream",
     "text": [
      "1 2\n",
      "optional\n"
     ]
    }
   ],
   "source": [
    "def print_more(num1, num2, *args):\n",
    "    print(num1, num2)\n",
    "    print(*args, 'optional')\n",
    "    \n",
    "print_more(1, 2,)"
   ]
  },
  {
   "cell_type": "code",
   "execution_count": 24,
   "id": "f7549f24-5131-45ea-8c26-fc1d24c77c74",
   "metadata": {},
   "outputs": [
    {
     "name": "stdout",
     "output_type": "stream",
     "text": [
      "0 1 2 3 4 5 6 7 8 9\n"
     ]
    }
   ],
   "source": [
    "empty = list(range(10))\n",
    "print(*empty)"
   ]
  },
  {
   "cell_type": "code",
   "execution_count": 25,
   "id": "4bde4c2f-f12f-498e-a172-5e0596665b82",
   "metadata": {},
   "outputs": [
    {
     "name": "stdout",
     "output_type": "stream",
     "text": [
      "(1, 3, 5)\n",
      "(2, 4, 6)\n"
     ]
    }
   ],
   "source": [
    "# 행렬, 테이블 데이터\n",
    "matrix = [\n",
    "    [1, 2],\n",
    "    [3, 4],\n",
    "    [5, 6],\n",
    "]\n",
    "# 1, 3, 5/ 2, 4, 6 (열만 타고 싶다)\n",
    "for item in zip(*matrix):\n",
    "    print(item)"
   ]
  },
  {
   "cell_type": "code",
   "execution_count": 29,
   "id": "1fc405c4-573c-4999-9a98-c1f2c71e2030",
   "metadata": {},
   "outputs": [
    {
     "name": "stdout",
     "output_type": "stream",
     "text": [
      "(1, 3, 5)\n",
      "(2, 4, 6)\n"
     ]
    }
   ],
   "source": [
    "for item in zip([1, 2,], [3, 4], [5, 6]): #zip : 여러 개의 리스트 묶는 기능\n",
    "    print(item)"
   ]
  },
  {
   "cell_type": "code",
   "execution_count": 5,
   "id": "4f6a9534-1ff4-4285-84b0-a45e379890b3",
   "metadata": {},
   "outputs": [
    {
     "ename": "NameError",
     "evalue": "name 'empty' is not defined",
     "output_type": "error",
     "traceback": [
      "\u001b[1;31m---------------------------------------------------------------------------\u001b[0m",
      "\u001b[1;31mNameError\u001b[0m                                 Traceback (most recent call last)",
      "\u001b[1;32m~\\AppData\\Local\\Temp/ipykernel_28596/3573494845.py\u001b[0m in \u001b[0;36m<module>\u001b[1;34m\u001b[0m\n\u001b[0;32m      5\u001b[0m         \u001b[0mprint\u001b[0m\u001b[1;33m(\u001b[0m\u001b[0mitem\u001b[0m\u001b[1;33m)\u001b[0m\u001b[1;33m\u001b[0m\u001b[1;33m\u001b[0m\u001b[0m\n\u001b[0;32m      6\u001b[0m \u001b[1;33m\u001b[0m\u001b[0m\n\u001b[1;32m----> 7\u001b[1;33m \u001b[0mprint_data\u001b[0m\u001b[1;33m(\u001b[0m\u001b[0mempty\u001b[0m\u001b[1;33m,\u001b[0m \u001b[0mstart\u001b[0m\u001b[1;33m=\u001b[0m\u001b[1;36m0\u001b[0m\u001b[1;33m,\u001b[0m \u001b[0mend\u001b[0m\u001b[1;33m=\u001b[0m\u001b[1;36m4\u001b[0m\u001b[1;33m)\u001b[0m\u001b[1;33m\u001b[0m\u001b[1;33m\u001b[0m\u001b[0m\n\u001b[0m\u001b[0;32m      8\u001b[0m \u001b[1;31m#print_data(empty, 0, 1)\u001b[0m\u001b[1;33m\u001b[0m\u001b[1;33m\u001b[0m\u001b[0m\n",
      "\u001b[1;31mNameError\u001b[0m: name 'empty' is not defined"
     ]
    }
   ],
   "source": [
    "#키워드 전용 인수 선언 시 사용\n",
    "#필요한 이유 아래에\n",
    "def print_data(data, *, start, end):\n",
    "    for item in data[start:end]:\n",
    "        print(item)\n",
    "        \n",
    "print_data(empty, start=0, end=4)\n",
    "#print_data(empty, 0, 1)"
   ]
  },
  {
   "cell_type": "markdown",
   "id": "d48392b9-d80e-44d0-9245-d6abbb510d8c",
   "metadata": {},
   "source": [
    "### kargs : **\n",
    "- key arguments"
   ]
  },
  {
   "cell_type": "code",
   "execution_count": 39,
   "id": "53b6c48e-9a73-4d08-a224-49691c313ef7",
   "metadata": {},
   "outputs": [
    {
     "name": "stdout",
     "output_type": "stream",
     "text": [
      "{'wine': 'crianza', 'drink': 'water'}\n"
     ]
    }
   ],
   "source": [
    "def print_kargs(**kargs): #키:값 => 딕셔너리로 반환\n",
    "    kargs['wine'] = 'crianza' # get()\n",
    "    print(kargs)\n",
    "    #print(**kargs)는안됨 -> 언패킹 기능 없음\n",
    "    \n",
    "print_kargs(wine='crianza',drink='water')"
   ]
  },
  {
   "cell_type": "code",
   "execution_count": 40,
   "id": "fc116c6c-b23b-4e85-91c0-e92ed4155656",
   "metadata": {},
   "outputs": [
    {
     "name": "stdout",
     "output_type": "stream",
     "text": [
      "{'wine': 'crianza', 'drink': 'water'}\n",
      "{'wine': 'crianza', 'drink': 'water'}\n",
      "{'wine': 'crianza', 'drink': 'water'}\n"
     ]
    }
   ],
   "source": [
    "for wine in['cabernet', 'crianza', 'shiraz']:\n",
    "    print_kargs(wine=wine, drink='water')"
   ]
  },
  {
   "cell_type": "code",
   "execution_count": 44,
   "id": "b24de106-18d6-4e14-857e-5d01528cb28f",
   "metadata": {},
   "outputs": [
    {
     "name": "stdout",
     "output_type": "stream",
     "text": [
      "1 2\n",
      "18\n",
      "{'num': 4}\n"
     ]
    }
   ],
   "source": [
    "def print_all(num1, num2,*args, **kargs):\n",
    "    print(num1, num2)\n",
    "    print(sum(args))\n",
    "    print(kargs)\n",
    "    \n",
    "print_all(1, 2, 3, 4, 5, 6, num=4)"
   ]
  },
  {
   "cell_type": "code",
   "execution_count": 45,
   "id": "541fa329-1c8d-4959-8582-c7317f57a027",
   "metadata": {},
   "outputs": [],
   "source": [
    "#딕셔너리 조인\n",
    "a = {1: 'a', 2: 'b'}\n",
    "b = {2: 'c', 3: 'd'}\n",
    "c = {**a, **b}"
   ]
  }
 ],
 "metadata": {
  "kernelspec": {
   "display_name": "Python 3 (ipykernel)",
   "language": "python",
   "name": "python3"
  },
  "language_info": {
   "codemirror_mode": {
    "name": "ipython",
    "version": 3
   },
   "file_extension": ".py",
   "mimetype": "text/x-python",
   "name": "python",
   "nbconvert_exporter": "python",
   "pygments_lexer": "ipython3",
   "version": "3.9.7"
  }
 },
 "nbformat": 4,
 "nbformat_minor": 5
}
