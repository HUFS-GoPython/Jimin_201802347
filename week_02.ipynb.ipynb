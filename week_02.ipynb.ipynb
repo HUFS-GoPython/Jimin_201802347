{
 "cells": [
  {
   "cell_type": "markdown",
   "id": "ad7f95ad-9b6f-46d7-a52f-84469e0c6482",
   "metadata": {},
   "source": [
    "# Ch.02 Variables 변수"
   ]
  },
  {
   "cell_type": "markdown",
   "id": "31bbec13-55a8-4372-9fbb-3e987fdb4d3e",
   "metadata": {},
   "source": [
    "### **종류**\n",
    "- **string** 문자열\n",
    "- **float** 실수\n",
    "- **integer** 정수\n",
    "- **boolean** 불"
   ]
  },
  {
   "cell_type": "markdown",
   "id": "ff4bfed0-6148-4b66-8a14-018e57de8c23",
   "metadata": {},
   "source": [
    "### **할당**\n",
    "- **여러 이름을 동시에 할당**할 수 있다.<br>\n",
    "ex) two = deux = dos = 2\n",
    "\n",
    "- 할당 순서는 **오른쪽부터**<br>\n",
    "위의 예시에서는 dos -> deux -> two 순으로"
   ]
  },
  {
   "cell_type": "markdown",
   "id": "4300fb45-b8d1-442a-afcc-75b75413b536",
   "metadata": {},
   "source": [
    "#### **가변 객체/불변 객체**\n",
    "- **객체의 특성 세 가지**<br>\n",
    "    **1. value 값**<br>\n",
    "        :메모리에 기록된 내용. 불변 객체는 값을 바꿀 수 없다.\n",
    "   **2. type 유형**<br>\n",
    "    **3. identity 정체성**<br>\n",
    "        :id() 함수로 알 수 있음.<br>\n",
    "        id란 : **변수는 공간**이므로 컴퓨터에 그 공간이 위치하는 **메모리 주소**가 있는데, 그걸 id로 찾는다.\n",
    "- integer : 가변 객체\n",
    "- string : 불변 객체"
   ]
  },
  {
   "cell_type": "markdown",
   "id": "8148f641-2bd0-4922-abe6-84ec7760c025",
   "metadata": {},
   "source": [
    "### **좋은 변수명이란** ###"
   ]
  },
  {
   "cell_type": "markdown",
   "id": "e27e0158-f9fb-4e33-901a-f1b9a271e6ad",
   "metadata": {},
   "source": [
    "**1. 간결하게** <br>\n",
    "**2. 명확한 의미가 담겨야 함**<br>\n",
    "    *코드에는 의미가 담기고 주석에는 의도가 담긴다.* <br>\n",
    "    (코드를 보고 의미가 바로 이해될 수 있게) <br>\n",
    "예: n <the_number_of_students < num_students 순으로 좋다. <br>\n",
    "*카멜기법: numStudents(주로 자바에서 사용, 파이썬은 언더바 선호)*<br>\n",
    "**특별한 경우가 아니면 대문자 지양**"
   ]
  },
  {
   "cell_type": "markdown",
   "id": "7397f223-172b-433e-bf43-b89bfd6f9d15",
   "metadata": {},
   "source": [
    "### **자료형 변환**\n",
    "- 형식 : **(어떤 자료형으로 변환하려는지)(<변환할 값>)**<br>\n",
    "    ex) int(), float(), bool()<br>\n",
    "    -bool은 어떤 경우에 False인지 위주로 기억할 것."
   ]
  },
  {
   "cell_type": "markdown",
   "id": "ef2b848d-2094-4492-98db-91426fb96b44",
   "metadata": {
    "tags": []
   },
   "source": [
    "#### **<font color=red>!유의사항**</font>\n",
    "**1. float -> int**<br>\n",
    "    정수형을 바뀌기 때문에 소수점 아래는 값이 사라진다. 따라서 연산 결과도 달라질 수 있으니 조심!<br>\n",
    "**2. str -> int/float**<br>\n",
    "    float으로 형변환할 것으로 예상했던 문자열을 int로 바꾸려고 하면 에러 발생."
   ]
  },
  {
   "cell_type": "markdown",
   "id": "28fcf2bb-41ee-4e91-921b-9826fc881ed3",
   "metadata": {},
   "source": [
    "### **input() 함수**"
   ]
  },
  {
   "cell_type": "markdown",
   "id": "d9c63e79-6f3d-4dad-b1e6-d2c1341da077",
   "metadata": {},
   "source": [
    "- 사용자 입력값을 console에서 받는 함수\n",
    "- 입력값은 **string**으로 인식\n",
    "- 입력값을 변수에 담지 않으면 사라짐.\n",
    "    - **입력값 변수에 할당하는 방법**<br>\n",
    "        1. 변수명 = input(<출력하고 싶은 문장>)<br>\n",
    "        ex) age = input('나이가 어떻게 되세요?')<br>\n",
    "        2. print(<출력하고 싶은 문장>)<br>\n",
    "           변수명 = input()<br>\n",
    "        ex) print(\"나이가?\")<br>\n",
    "            age = input()<br>\n",
    "- 숫자로 입력해도 string으로 변환해서 인식\n",
    "- 입력값 형변환 가능<br>\n",
    "예 : int(input('나이가 어떻게 되나요?'))"
   ]
  },
  {
   "cell_type": "markdown",
   "id": "35369560-af61-4e21-afeb-e9e988ed7e8f",
   "metadata": {},
   "source": [
    "### **print() 함수 관련 꿀팁!**"
   ]
  },
  {
   "cell_type": "markdown",
   "id": "e78427a2-9b28-47a5-856f-3eed52d1e1b7",
   "metadata": {},
   "source": [
    "##### 1. print('a' + 'b' + 'c') : 공백없이 'abc'출력(끝에 \\n)\n",
    "##### 2. print('a', 'b', 'c') : 공백 구분자로 'a b c' 출력(끝에 \\n)"
   ]
  },
  {
   "cell_type": "code",
   "execution_count": 7,
   "id": "8e72ecfa-7a7f-4d15-b98b-fbc154425c7b",
   "metadata": {},
   "outputs": [
    {
     "name": "stdout",
     "output_type": "stream",
     "text": [
      "dogcatlion\n",
      "dog cat lion\n"
     ]
    }
   ],
   "source": [
    "dog = 'dog'\n",
    "cat = 'cat'\n",
    "lion = 'lion'\n",
    "\n",
    "print(dog + cat + lion) # space X, \\n 존재\n",
    "print(dog, cat, lion) # space O, \\n 존재"
   ]
  },
  {
   "cell_type": "markdown",
   "id": "c2b20314-bcf3-4fc1-9108-bef8e3b8f0bb",
   "metadata": {},
   "source": [
    "##### 3. 기본값은 공백 구분자에 끝에 \\n 들어간 형태\n",
    "##### 4. sep 구분자, end 끝에 무언가 추가 가능"
   ]
  },
  {
   "cell_type": "code",
   "execution_count": 13,
   "id": "63ba722d-bf02-4be0-a45b-a372024b66ce",
   "metadata": {},
   "outputs": [
    {
     "name": "stdout",
     "output_type": "stream",
     "text": [
      "dog cat lion\n",
      "dog/cat/lion\n",
      "\n",
      "EOL\n"
     ]
    }
   ],
   "source": [
    "print(dog, cat, lion, sep=' ', end='\\n') #default\n",
    "print(dog, cat, lion, sep='/', end='\\n\\n')\n",
    "print('EOL')"
   ]
  },
  {
   "cell_type": "markdown",
   "id": "d5448168-6c2b-4191-b99a-f4e18b5cfd20",
   "metadata": {},
   "source": [
    "##### 5. print(\"출력할 문자열\", 변수명, '마지막에 넣을 문자')\n",
    "##### 6. print(f\"출력할 문자열 {변수명}.\") -> 훨씬 편리!"
   ]
  },
  {
   "cell_type": "code",
   "execution_count": 14,
   "id": "78325003-6d52-4a40-a315-721fc77e65cb",
   "metadata": {},
   "outputs": [
    {
     "name": "stdout",
     "output_type": "stream",
     "text": [
      "My favorite animal is dog .\n",
      "My favorite animal is dog.\n"
     ]
    }
   ],
   "source": [
    "print(\"My favorite animal is\", dog,'.')\n",
    "\n",
    "print(f\"My favorite animal is {dog}.\") "
   ]
  },
  {
   "cell_type": "markdown",
   "id": "44c602ee-741e-4978-8a07-4557fb26e778",
   "metadata": {},
   "source": [
    "##### 7. 코드 줄이 짧으면 세미콜론(;) 이용해서 한 줄로 할당 가능"
   ]
  },
  {
   "cell_type": "code",
   "execution_count": 16,
   "id": "f881f0f5-bf8e-425c-b48b-df32e79ba65a",
   "metadata": {},
   "outputs": [
    {
     "name": "stdout",
     "output_type": "stream",
     "text": [
      "dog\n"
     ]
    }
   ],
   "source": [
    "dog = 'dog'; cat = 'cat'; lion = 'lion';\n",
    "print(dog)"
   ]
  },
  {
   "cell_type": "markdown",
   "id": "bdb11313-bcfe-47a4-a685-00f6b8c54c29",
   "metadata": {},
   "source": [
    "# Quiz"
   ]
  },
  {
   "cell_type": "markdown",
   "id": "35220e5c-6657-4e14-bfd5-ffbb1d4797a8",
   "metadata": {},
   "source": [
    "## 1.\n",
    "##### **섭씨를 입력 받아 화씨로 변환하기**\n",
    "##### **섭씨 * 1.8 + 32 = 화씨**"
   ]
  },
  {
   "cell_type": "code",
   "execution_count": 22,
   "id": "386539c5-e89a-4116-b78b-7fb098aeda25",
   "metadata": {},
   "outputs": [
    {
     "name": "stdin",
     "output_type": "stream",
     "text": [
      "섭씨를 입력하세요. 36.5\n"
     ]
    },
    {
     "name": "stdout",
     "output_type": "stream",
     "text": [
      "섭씨 36.5는 화씨 97.7입니다.\n"
     ]
    }
   ],
   "source": [
    "#내 답안\n",
    "celsius = float(input(\"섭씨를 입력하세요.\"))\n",
    "fahrenheit = celsius * 1.8 + 32\n",
    "print(f\"섭씨 {celsius}는 화씨 {fahrenheit}입니다.\") #변수명은 특별한 경우가 아니면 대문자 지양"
   ]
  },
  {
   "cell_type": "markdown",
   "id": "d8471bf5-4404-4b59-b2ea-f612857ca87e",
   "metadata": {},
   "source": [
    "## 2.\n",
    "#### **- 택배 정보 입력 받고, 총 합계 계산하기**\n",
    "- **출력값:**\n",
    "    - \"==택배 정보==\"\n",
    "    -수취인 성명: <이름>\n",
    "    -수취인 주소: <주소>\n",
    "    -배송비: 3000원\n",
    "    -물건 비용: <가격>원\n",
    "    -총 합계: <가격>원\n",
    "- **물건 비용 = 무게(g) * 5**\n",
    "- **합계 = 배송비 + 물건 비용**"
   ]
  },
  {
   "cell_type": "code",
   "execution_count": 24,
   "id": "bb0cf4b4-cb16-4ba5-a418-0d5a1b5a0c66",
   "metadata": {},
   "outputs": [
    {
     "name": "stdin",
     "output_type": "stream",
     "text": [
      "수취인 성명 :  유지민\n",
      "수취인 주소 :  이문동\n",
      "물건 무게(g) :  3500\n"
     ]
    },
    {
     "name": "stdout",
     "output_type": "stream",
     "text": [
      "=====택배 정보=====\n",
      "수취인 성명: 유지민\n",
      "수취인 주소: 이문동\n",
      "배송비: 3000원\n",
      "물건 비용: 17500원\n",
      "총 합계: 20500원\n"
     ]
    }
   ],
   "source": [
    "#내 답안\n",
    "name = input(\"수취인 성명 : \")\n",
    "address = input(\"수취인 주소 : \")\n",
    "weight = float(input(\"물건 무게(g) : \"))\n",
    "price = int(weight * 5)\n",
    "total = int(3000 + price) #배송비를 변수로 설정했다면 이해하기 더 좋았을 것\n",
    "\n",
    "print(\"=====택배 정보=====\")\n",
    "print(f\"수취인 성명: {name}\")\n",
    "print(f\"수취인 주소: {address}\")\n",
    "print(\"배송비: 3000원\")\n",
    "print(f\"물건 비용: {price}원\")\n",
    "print(f\"총 합계: {total}원\")"
   ]
  },
  {
   "cell_type": "markdown",
   "id": "285936ea-7074-40a2-8d0f-2a1608d27f56",
   "metadata": {},
   "source": [
    "#  Chapter 03. Numbers"
   ]
  },
  {
   "cell_type": "markdown",
   "id": "d1a31798-603b-4445-aa2c-00f1df07761b",
   "metadata": {},
   "source": [
    "## 1. boolean"
   ]
  },
  {
   "cell_type": "markdown",
   "id": "885b526a-c828-43b5-ac11-c57c4943ec6a",
   "metadata": {},
   "source": [
    "- **False인 경우:'', None, 0, ..(비어있는 값이나 0 등)**\n",
    "- **조건식**에서 많이 쓰임.<br>\n",
    "    ex) 만약 이 조건이 True라면, ..."
   ]
  },
  {
   "cell_type": "code",
   "execution_count": 26,
   "id": "80a574c4-2680-4d66-bcd0-964afa27173a",
   "metadata": {},
   "outputs": [
    {
     "data": {
      "text/plain": [
       "True"
      ]
     },
     "execution_count": 26,
     "metadata": {},
     "output_type": "execute_result"
    }
   ],
   "source": [
    "bool(1)"
   ]
  },
  {
   "cell_type": "code",
   "execution_count": 27,
   "id": "598ebb2f-d94e-465b-ba02-12d74cccd03e",
   "metadata": {},
   "outputs": [
    {
     "data": {
      "text/plain": [
       "False"
      ]
     },
     "execution_count": 27,
     "metadata": {},
     "output_type": "execute_result"
    }
   ],
   "source": [
    "bool('')"
   ]
  },
  {
   "cell_type": "markdown",
   "id": "a6c164c8-0d04-40bb-9a05-40a67b7259f0",
   "metadata": {},
   "source": [
    "## 2. integer"
   ]
  },
  {
   "cell_type": "markdown",
   "id": "c29c2ebe-ab8f-443d-ba0a-65593c8c7b48",
   "metadata": {},
   "source": [
    "- 소수점이 없다.\n",
    "- default 양수(음수는 - 붙여줌)\n",
    "- 십진수인 경우 숫자 앞에 0을 붙일 수 없다.\n",
    "- 다른 진수인 경우에는 가능한 경우도 있음.<br>\n",
    "    예: 0bxxx\n",
    "- 숫자는 공백 무시\n",
    "- 숫자 사이 ','는 언더바 사용하기<br>\n",
    "    예: 10,000원 (X)(-> 10, 000 두 개로 인식)\n",
    "        10_000원 (O)"
   ]
  },
  {
   "cell_type": "code",
   "execution_count": 29,
   "id": "3f2a1820-6657-4dd8-834f-89e2277a038b",
   "metadata": {},
   "outputs": [
    {
     "ename": "SyntaxError",
     "evalue": "leading zeros in decimal integer literals are not permitted; use an 0o prefix for octal integers (Temp/ipykernel_15752/1106146124.py, line 1)",
     "output_type": "error",
     "traceback": [
      "\u001b[1;36m  File \u001b[1;32m\"C:\\Users\\aliya\\AppData\\Local\\Temp/ipykernel_15752/1106146124.py\"\u001b[1;36m, line \u001b[1;32m1\u001b[0m\n\u001b[1;33m    a = 05\u001b[0m\n\u001b[1;37m         ^\u001b[0m\n\u001b[1;31mSyntaxError\u001b[0m\u001b[1;31m:\u001b[0m leading zeros in decimal integer literals are not permitted; use an 0o prefix for octal integers\n"
     ]
    }
   ],
   "source": [
    "a = 05"
   ]
  },
  {
   "cell_type": "code",
   "execution_count": 31,
   "id": "f890fbc9-6d20-4358-961c-ebb8177a7623",
   "metadata": {},
   "outputs": [
    {
     "name": "stdout",
     "output_type": "stream",
     "text": [
      "35000\n"
     ]
    }
   ],
   "source": [
    "a = 35_000\n",
    "print(a)"
   ]
  },
  {
   "cell_type": "markdown",
   "id": "eee9dbae-3966-4f8a-9ba6-497355ce405d",
   "metadata": {},
   "source": [
    "## 3. 연산"
   ]
  },
  {
   "cell_type": "markdown",
   "id": "64e66d3f-9fa7-4aea-ac6f-38f7eacfab7f",
   "metadata": {},
   "source": [
    "##### **1) 연산자(operator): +, -, ...**<br>\n",
    "\n",
    "\n",
    "##### **복합 대입 연산자(compound assignmnet operator)**: +=, -=, *=, /=\n",
    "**(!값 초기화한 후에 사용 가능)**\n",
    "#####     <code> a = a - 3</code>\n",
    "#####     (1) a -3 계산\n",
    "#####      (2) 임시변수 temp = a - 3\n",
    "#####      (3) a = a - 3\n",
    "#####      <code>a -= 3</code>\n",
    "##### 예: a-= 3 은 a = a - 3과 동일<br><br>\n",
    "\n",
    "\n",
    "##### **비교 연산자:**\n",
    "##### x < y, x <= y\n",
    "##### x > y, x >= y\n",
    "##### x == y (값)\n",
    "##### x != y (값)\n",
    "##### x is y (값, 메모리주소까지 같아야 한다.)\n",
    "##### x is not y<br><br>\n",
    "\n",
    "##### **논리 연산자: 여러 조건식 비교할 때**\n",
    "##### 예 : 10 < x < 20\n",
    "##### 파이썬에서만 가능한 표현\n",
    "(원래는 x > 10 와 x < 20로 표현)\n",
    "##### and, & : 둘 다 참일 때 True\n",
    "##### or, | : 둘 중 하나만 참이어도 True\n",
    "##### not : 참 -> False, 거짓 -> True를 반환<br><br>\n",
    "\n",
    "##### **2) 피연산자(operand)**: 4, 5, ...\n",
    "##### **3) 수식(expression)**\n",
    "- 덧셈 : x + y\n",
    "- 뺄셈 : x - y\n",
    "-곱셈 : x * y\n",
    "-나눗셈 : x / y\n",
    "    - **유의사항!**\n",
    "        1) 0으로 나눌 수 없음\n",
    "        2) x // y : 나눗셈 한 몫<br>\n",
    "           x % y : 나눗셈 한 나머지\n",
    "- 거듭제곱(exponential) : x ** y\n",
    "- divmod(x, y) : 몫과 나머지를 표현"
   ]
  },
  {
   "cell_type": "code",
   "execution_count": 65,
   "id": "b7888853-6d5d-4d7f-b124-048fd91d3f1f",
   "metadata": {},
   "outputs": [
    {
     "data": {
      "text/plain": [
       "262144"
      ]
     },
     "execution_count": 65,
     "metadata": {},
     "output_type": "execute_result"
    }
   ],
   "source": [
    "x = 4\n",
    "y = 9\n",
    "\n",
    "x ** y"
   ]
  },
  {
   "cell_type": "code",
   "execution_count": 36,
   "id": "6a05f1cd-3ffe-4fe0-81db-36116869a7bb",
   "metadata": {},
   "outputs": [
    {
     "data": {
      "text/plain": [
       "(0, 4, 0.4444444444444444)"
      ]
     },
     "execution_count": 36,
     "metadata": {},
     "output_type": "execute_result"
    }
   ],
   "source": [
    "x // y, x % y, x / y"
   ]
  },
  {
   "cell_type": "code",
   "execution_count": 37,
   "id": "de4f315e-7e74-4c89-97c5-6a21a6aa3955",
   "metadata": {},
   "outputs": [
    {
     "data": {
      "text/plain": [
       "(0, 4)"
      ]
     },
     "execution_count": 37,
     "metadata": {},
     "output_type": "execute_result"
    }
   ],
   "source": [
    "divmod(x, y)"
   ]
  },
  {
   "cell_type": "code",
   "execution_count": 39,
   "id": "bda99750-7ac7-4a4f-ba93-152f828d06ab",
   "metadata": {},
   "outputs": [
    {
     "ename": "NameError",
     "evalue": "name 'u' is not defined",
     "output_type": "error",
     "traceback": [
      "\u001b[1;31m---------------------------------------------------------------------------\u001b[0m",
      "\u001b[1;31mNameError\u001b[0m                                 Traceback (most recent call last)",
      "\u001b[1;32m~\\AppData\\Local\\Temp/ipykernel_15752/3260450730.py\u001b[0m in \u001b[0;36m<module>\u001b[1;34m\u001b[0m\n\u001b[0;32m      1\u001b[0m \u001b[1;31m#복합연산자에서 초기화 필요!\u001b[0m\u001b[1;33m\u001b[0m\u001b[1;33m\u001b[0m\u001b[0m\n\u001b[1;32m----> 2\u001b[1;33m \u001b[0mu\u001b[0m \u001b[1;33m=\u001b[0m \u001b[0mu\u001b[0m \u001b[1;33m+\u001b[0m \u001b[1;36m1\u001b[0m\u001b[1;33m\u001b[0m\u001b[1;33m\u001b[0m\u001b[0m\n\u001b[0m",
      "\u001b[1;31mNameError\u001b[0m: name 'u' is not defined"
     ]
    }
   ],
   "source": [
    "#복합연산자에서 초기화 필요!\n",
    "u = u + 1"
   ]
  },
  {
   "cell_type": "code",
   "execution_count": 40,
   "id": "ad2f697f-269a-4458-80a2-13b77b1ccaf4",
   "metadata": {},
   "outputs": [],
   "source": [
    "u = 1\n",
    "u = u + 1"
   ]
  },
  {
   "cell_type": "code",
   "execution_count": 41,
   "id": "2aaa4158-1d25-4579-8ac4-7f8da2b0db1b",
   "metadata": {},
   "outputs": [
    {
     "data": {
      "text/plain": [
       "2"
      ]
     },
     "execution_count": 41,
     "metadata": {},
     "output_type": "execute_result"
    }
   ],
   "source": [
    "u"
   ]
  },
  {
   "cell_type": "markdown",
   "id": "e31cd9e3-39ab-4dc4-a6e0-21b468a1f2b4",
   "metadata": {},
   "source": [
    "## 4. 지수 표현\n",
    "- e/E 사용\n",
    "- 앞부분 float/int + 뒷부분 int\n",
    "- 양수: 0 앞으로\n",
    "- 음수: 0 뒤로(소수점)\n",
    "- 0을 안 세도 되게 편하라고 지수 표현을 사용함."
   ]
  },
  {
   "cell_type": "code",
   "execution_count": 42,
   "id": "adc0680f-2414-409b-bc9c-1de33d1e14e4",
   "metadata": {},
   "outputs": [
    {
     "data": {
      "text/plain": [
       "1000000.0"
      ]
     },
     "execution_count": 42,
     "metadata": {},
     "output_type": "execute_result"
    }
   ],
   "source": [
    "1.0e6"
   ]
  },
  {
   "cell_type": "markdown",
   "id": "ad8f78b7-be79-44f9-a170-da43f23a2696",
   "metadata": {},
   "source": [
    "#### mini quiz. \n",
    "- 0.000789를 지수로 표현하기"
   ]
  },
  {
   "cell_type": "code",
   "execution_count": 50,
   "id": "464b24c2-b708-46ef-b34f-431e0da4bf91",
   "metadata": {},
   "outputs": [
    {
     "data": {
      "text/plain": [
       "0.000789"
      ]
     },
     "execution_count": 50,
     "metadata": {},
     "output_type": "execute_result"
    }
   ],
   "source": [
    "7.89e-4\n",
    "789e-6"
   ]
  },
  {
   "cell_type": "markdown",
   "id": "467d67a0-ec0d-4222-a08c-b3a4069f3010",
   "metadata": {},
   "source": [
    "# Quiz"
   ]
  },
  {
   "cell_type": "markdown",
   "id": "a109e48a-cfe3-44bc-b681-332af4aa982f",
   "metadata": {},
   "source": [
    "## 1.\n",
    "##### **정수를 입력 받고 3의 배수인지 확인하세요.**\n",
    "##### **= 홀수인지 확인하세요.**"
   ]
  },
  {
   "cell_type": "code",
   "execution_count": 51,
   "id": "ef513c8c-111e-4a17-9aae-75b21400ddd6",
   "metadata": {},
   "outputs": [
    {
     "name": "stdin",
     "output_type": "stream",
     "text": [
      "정수를 입력하세요. 30\n"
     ]
    },
    {
     "name": "stdout",
     "output_type": "stream",
     "text": [
      "30는 3의 배수가 아닙니까? False\n",
      "30는 홀수입니까? False\n"
     ]
    }
   ],
   "source": [
    "#내 답안\n",
    "input_value = int(input(\"정수를 입력하세요.\"))\n",
    "multiple_3 = bool(input_value % 3)\n",
    "odd_num = bool(input_value % 2)\n",
    "\n",
    "print(f\"{input_value}는 3의 배수가 아닙니까? {multiple_3}\")\n",
    "print(f\"{input_value}는 홀수입니까? {odd_num}\")"
   ]
  },
  {
   "cell_type": "markdown",
   "id": "a0236e03-3fb0-4daf-b8a7-c13a3429936e",
   "metadata": {},
   "source": [
    "## **코드 짤 때 참고사항**\n",
    "### 1. 주석 사용법\n",
    "   - 주석의 사용 목적: 의사소통.(의도 표현)\n",
    "   - 코드에 대한 설명\n",
    "   - '#' hash, sharp, ... : hash ~ 라인 끝까지 주석\n",
    "      - 문자열 안 # 는 문자열로 인식\n",
    "   - \"\"\" < 주석 > \"\"\" : 여러 줄 주석\n",
    "### 2. 줄 맞추기\n",
    "  - 들여쓰기 = 공백 4개 = 탭 1개\n",
    "  - 한 줄 최대 80자 이하로 유지\n",
    "   - 길어지면 가독성을 위해 \\로 끊어준다."
   ]
  },
  {
   "cell_type": "code",
   "execution_count": 53,
   "id": "a0487b6f-6b0e-4d4b-874e-a0adad88a549",
   "metadata": {},
   "outputs": [
    {
     "data": {
      "text/plain": [
       "'hey ###'"
      ]
     },
     "execution_count": 53,
     "metadata": {},
     "output_type": "execute_result"
    }
   ],
   "source": [
    "example = 'hey ###'\n",
    "example"
   ]
  },
  {
   "cell_type": "markdown",
   "id": "3a9f1f50-9714-4336-b8f1-d5ce2939e9b2",
   "metadata": {},
   "source": [
    "# **if 조건문**"
   ]
  },
  {
   "cell_type": "markdown",
   "id": "2dd9441b-3463-4cac-91f5-013d04d573d2",
   "metadata": {},
   "source": [
    "#### **1. 조건 1개**\n",
    "##### **<code>if <조건식>: <실행할 코드></code>**"
   ]
  },
  {
   "cell_type": "code",
   "execution_count": 55,
   "id": "d76e0bc8-5c51-4a8e-92b5-8ed852f94fc1",
   "metadata": {},
   "outputs": [
    {
     "name": "stdout",
     "output_type": "stream",
     "text": [
      "Yaay!\n"
     ]
    }
   ],
   "source": [
    "if 4 != 9:\n",
    "    print('Yaay!')\n"
   ]
  },
  {
   "cell_type": "markdown",
   "id": "826d9548-531d-4dca-a79d-6b3f31603dd6",
   "metadata": {},
   "source": [
    "#### **2. 조건 2개**\n",
    "##### **<code>if <조건식1>:</code>**\n",
    "#####   <실행할 코드>\n",
    "#####    <code>**else:**</code>\n",
    "#####    <실행할 코드>"
   ]
  },
  {
   "cell_type": "code",
   "execution_count": 64,
   "id": "e1c1d836-c6ba-44db-8d59-6daadd9056d5",
   "metadata": {},
   "outputs": [
    {
     "name": "stdout",
     "output_type": "stream",
     "text": [
      "Hey!\n"
     ]
    }
   ],
   "source": [
    "if 4 == 9:\n",
    "    print('Yaay!')\n",
    "else:\n",
    "    print('Hey!')"
   ]
  },
  {
   "cell_type": "markdown",
   "id": "ad6db16b-8641-494c-8787-5c477cf5534a",
   "metadata": {},
   "source": [
    "#### **조건 3개 이상**\n",
    "##### **<code>if <조건식1>:</code>**\n",
    "#####  <실행할 코드>\n",
    "##### **<code>elif <조건식2>:</code>**\n",
    "#####  <실행할 코드2>\n",
    "#####    <code>**...else:**</code>\n",
    "##### <실행할 코드3>"
   ]
  },
  {
   "cell_type": "markdown",
   "id": "ecddd053-2fdc-401e-a8fc-4fd48b6e5a64",
   "metadata": {},
   "source": [
    "# Quiz"
   ]
  },
  {
   "cell_type": "markdown",
   "id": "d85bfd60-176b-41b0-ab54-efe30969416d",
   "metadata": {},
   "source": [
    "## 1.\n",
    "##### **학점 부여하기**\n",
    "- 학점을 입력 받아서<br><br>\n",
    "    90점 이상이면 A<br>\n",
    "    80 B<br>\n",
    "    70 C<br>\n",
    "    그외 D<br><br>\n",
    "- 변수 설정 유의\n",
    "- print 예쁘게 하기"
   ]
  },
  {
   "cell_type": "code",
   "execution_count": 66,
   "id": "69576684-ebb2-4962-86cc-d91c3933e6d8",
   "metadata": {},
   "outputs": [
    {
     "name": "stdin",
     "output_type": "stream",
     "text": [
      "점수를 입력하세요 85\n"
     ]
    },
    {
     "name": "stdout",
     "output_type": "stream",
     "text": [
      "학점은 B입니다.\n"
     ]
    }
   ],
   "source": [
    "#내 답안\n",
    "score = float(input(\"점수를 입력하세요\"))\n",
    "\n",
    "if score >= 90:\n",
    "    grade = 'A'\n",
    "elif score >= 80:\n",
    "    grade = 'B'\n",
    "elif score >= 70:\n",
    "    grade = 'C'\n",
    "else:\n",
    "    grade = 'D'\n",
    "    \n",
    "print(f\"학점은 {grade}입니다.\") #print랑 if 분리해서 정리해놓는 건 좋음"
   ]
  },
  {
   "cell_type": "markdown",
   "id": "9c60bac6-6588-4eae-82d8-f16780d922f8",
   "metadata": {},
   "source": [
    "## 2.\n",
    "##### **아이디와 비번 입력 받아서 둘 다 일치하면 로그인하기**\n",
    "- 아이디, 비번 각자 정해놓기\n",
    "- 일치하지 않을 때에는 창의적으로 어떤 걸로 반환하기"
   ]
  },
  {
   "cell_type": "code",
   "execution_count": 67,
   "id": "682576c3-884c-4c8a-ba6e-060afca02186",
   "metadata": {},
   "outputs": [
    {
     "name": "stdin",
     "output_type": "stream",
     "text": [
      "아이디를 입력하세요. hel\n",
      "비밀번호를 입력하세요. hi\n"
     ]
    },
    {
     "name": "stdout",
     "output_type": "stream",
     "text": [
      "로그인 실패! 다시 시도하세요.\n"
     ]
    }
   ],
   "source": [
    "#내 답안\n",
    "real_id = \"hello\"\n",
    "real_password = \"hi\"\n",
    "input_id = input(\"아이디를 입력하세요.\")\n",
    "input_password = input(\"비밀번호를 입력하세요.\")\n",
    "\n",
    "if real_id != input_id:\n",
    "    print(\"로그인 실패! 다시 시도하세요.\")\n",
    "elif real_password != input_password:\n",
    "    print(\"로그인 실패! 다시 시도하세요.\")\n",
    "else:\n",
    "    print(\"로그인 성공!\")"
   ]
  },
  {
   "cell_type": "markdown",
   "id": "9ccf0a2b-db71-46a9-b407-dde963e0f287",
   "metadata": {},
   "source": [
    "## 3.\n",
    "##### **quiz 1 확장판**\n",
    "##### **결석 횟수를 받아서 점수가 80점 이상인데 결석이 2번 이상이면 F, 나머지는 점수대로**"
   ]
  },
  {
   "cell_type": "code",
   "execution_count": 79,
   "id": "320b7f88-a7d7-447f-86c7-a368f7745fd0",
   "metadata": {},
   "outputs": [
    {
     "name": "stdin",
     "output_type": "stream",
     "text": [
      "점수를 입력하세요 90\n",
      "결석 횟수를 입력하세요. 2\n"
     ]
    },
    {
     "name": "stdout",
     "output_type": "stream",
     "text": [
      "학점은 F입니다.\n"
     ]
    }
   ],
   "source": [
    "#내 답안\n",
    "score = float(input(\"점수를 입력하세요\"))\n",
    "absence = int(input(\"결석 횟수를 입력하세요.\"))\n",
    "\n",
    "if score >= 90:\n",
    "    if absence < 2:\n",
    "        grade = 'A'\n",
    "    else:\n",
    "        grade = 'F'\n",
    "elif score >= 80:\n",
    "    if absence < 2:\n",
    "        grade = 'B'\n",
    "    else:\n",
    "        grade = 'F'\n",
    "elif score >= 70:\n",
    "    grade = 'C'\n",
    "else:\n",
    "    grade = 'D'\n",
    "    \n",
    "print(f\"학점은 {grade}입니다.\")"
   ]
  },
  {
   "cell_type": "code",
   "execution_count": null,
   "id": "1e9f299c-c565-44a7-9185-6bbe01308d27",
   "metadata": {},
   "outputs": [],
   "source": []
  }
 ],
 "metadata": {
  "kernelspec": {
   "display_name": "Python 3 (ipykernel)",
   "language": "python",
   "name": "python3"
  },
  "language_info": {
   "codemirror_mode": {
    "name": "ipython",
    "version": 3
   },
   "file_extension": ".py",
   "mimetype": "text/x-python",
   "name": "python",
   "nbconvert_exporter": "python",
   "pygments_lexer": "ipython3",
   "version": "3.9.7"
  }
 },
 "nbformat": 4,
 "nbformat_minor": 5
}
