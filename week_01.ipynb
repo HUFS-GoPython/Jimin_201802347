{
 "cells": [
  {
   "cell_type": "markdown",
   "id": "dad67cfb-abc6-445f-9e6e-b09584a7e9e5",
   "metadata": {},
   "source": [
    "# **주피터 노트북 사용법 소개**\n",
    "- Markdown(마크다운) 모드로 필기 가능\n",
    "- 샵이 많아질수록 글씨 작아짐\n",
    "- 리스트 만들 때 '+','-' 사용 가능\n",
    "\n",
    "##### **유용한 단축키**\n",
    "- run : shift + enter\n",
    "- delete : dd\n",
    "- 마크다운 모드 : m\n",
    "- 코드로 변환 :y\n",
    "\n",
    "# **Chapter 01. 파이썬 소개**\n",
    "#### **프로그래밍이란?**\n",
    "- 프로그래밍 언어를 사용하여 프로그램을 개발하는 것\n",
    "\n",
    "#### **프로그래밍 언어**\n",
    "-컴퓨터가 이해할 수 있는 언어\n",
    "\n",
    "#### **파이썬의 장점**\n",
    "- 쉽고 간결함\n",
    "- 풍부한 라이브러리\n",
    "\n",
    "# **Chapter 02. Data: Types, Values, Variables, and Names**\n",
    "\n",
    "<br><code> a = 2</code>\n",
    "- 그냥 등호는 할당\n",
    "- 일반적인 같다는 의미로 쓰고 싶다면 '==' 사용\n",
    "예 : a == 2\n",
    "\n",
    "#### **변수[variable]**: 값을 저장하는 **공간**\n",
    "- 값[value]\n",
    "- 할당하다[assign]: 변수에 값을 넣는 과정\n",
    "- 자료형[type]: 데이터의 형태\n",
    "\n",
    "#### **Type 자료형**\n",
    "- integer[정수]: 1, 2, 3, ...(int)\n",
    "- floating point number[부동소수점]: 1.0, 2.0, ..., 0.4 (float)\n",
    "- string[문자열]: \"1\", 'apple' (str)\n",
    "- bool[불리언]: True/False (bool)\n",
    "\n",
    "#### **할당**\n",
    "- '=' 사용\n",
    "- 수학에서는 '양변이 같다'라는 의미로 사용\n",
    "- 프로그래밍에서는 '할당하다'라는 의미 추가\n",
    "- \"**오른쪽의 값을 왼쪽에 할당**한다\"\n",
    "- 오른쪽에는 무조건 초기화할 값\n",
    "\n",
    "### 변수명 정하기\n",
    "- 간결, 명확.\n",
    "- 의미 잘 표현하는 이름으로 선언.\n",
    "- 소문자, 대문자, 숫자, 언더바 사용 가능.\n",
    "- 대소문자 구분.\n",
    "- 특별한 용도(유의!) : 언더바로 시작, 더블 언더바로 시작, 대문자로 시작, 전체 대문자\n",
    "    - 예 : _name, __name, Name, NAME\n",
    "\n",
    "#### **변수명에 쓸 수 없는 것**\n",
    "- 숫자로 시작 불가\n",
    "- 예약어로 선언 불가"
   ]
  },
  {
   "cell_type": "code",
   "execution_count": null,
   "id": "281153e1-b817-4216-b3f1-8555fe497e24",
   "metadata": {},
   "outputs": [],
   "source": []
  }
 ],
 "metadata": {
  "kernelspec": {
   "display_name": "Python 3 (ipykernel)",
   "language": "python",
   "name": "python3"
  },
  "language_info": {
   "codemirror_mode": {
    "name": "ipython",
    "version": 3
   },
   "file_extension": ".py",
   "mimetype": "text/x-python",
   "name": "python",
   "nbconvert_exporter": "python",
   "pygments_lexer": "ipython3",
   "version": "3.9.7"
  }
 },
 "nbformat": 4,
 "nbformat_minor": 5
}
