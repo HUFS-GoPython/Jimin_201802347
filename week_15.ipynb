{
 "cells": [
  {
   "cell_type": "markdown",
   "id": "ecc8444e-ab69-43ff-8dcd-7740c3ee5bfb",
   "metadata": {
    "tags": []
   },
   "source": [
    "# WEEK 15\n",
    "***\n",
    "### **파일과 디렉터리**\n",
    "- 디렉터리 : 폴더.\n",
    "- 파일: 컴퓨터를 실행하는 기본 단위\n",
    "    - `파일 + 확장자`\n",
    "        - 확장자 : 파일의 쓰임 구분\n",
    "- 종류: 바이너리 파일, 텍스트 파일\n",
    "    - 바이너리: 이전 정보로 저장됨\n",
    "        - 내용 확인 못 함.\n",
    "        - 해당 확장자 열 수 잇는 프로그램 필요\n",
    "    - 텍스트: 사람이 이해할 수 있는 문자열로 저장\n",
    "        - html, py, 메모장\n",
    "        - 변경기준: 아스키코드, 유니코드\n",
    "        - 인코딩(encoding): 표준에 맞춰 저장하는 것\n",
    "        - utf- 8\n",
    "        - cp494\n",
    "    "
   ]
  },
  {
   "cell_type": "markdown",
   "id": "e304ddb1-1082-4105-9d1e-6ae267dc77aa",
   "metadata": {},
   "source": [
    "####  **파일 열기**\n",
    "- `open(파일명, 모드)`\n",
    "- 모드\n",
    "    - `r`: read(default)\n",
    "    - `w`: write-파일이 있으며 덮어쓰고, 없으면 생성\n",
    "    - `x`: 파일이 없을 떄만 생성\n",
    "    - `a`: 있을 때 마지막 라인에 추가<br><br>\n",
    "    \n",
    "    - 추가 모드\n",
    "        - `b`: binary\n",
    "        - `t`: text<br><br>\n",
    "    \n",
    "    - 예시\n",
    "    - 'rb'(바이너리), 'rt'(텍스트)"
   ]
  },
  {
   "cell_type": "code",
   "execution_count": 11,
   "id": "60a216ac-1b35-409c-8067-1d8c430547b9",
   "metadata": {},
   "outputs": [],
   "source": [
    "file = 'test.txt'\n",
    "f = open(file, 'r')"
   ]
  },
  {
   "cell_type": "code",
   "execution_count": 12,
   "id": "7f414707-2a05-4752-ba3e-2e80a7540ec3",
   "metadata": {},
   "outputs": [
    {
     "data": {
      "text/plain": [
       "<_io.TextIOWrapper name='test.txt' mode='r' encoding='cp949'>"
      ]
     },
     "execution_count": 12,
     "metadata": {},
     "output_type": "execute_result"
    }
   ],
   "source": [
    "f"
   ]
  },
  {
   "cell_type": "markdown",
   "id": "a9a41bdf-ec45-4f2e-9205-df74f8745487",
   "metadata": {},
   "source": [
    "#### **파일 읽기**\n",
    "- `read()` : 전체 한 번에 읽기(전체를 하나의 str로)\n",
    "- `readline()` : 한줄만 str\n",
    "- `readlines()` : 전체를 list, 각 줄이 한 str"
   ]
  },
  {
   "cell_type": "code",
   "execution_count": 13,
   "id": "0ce59f55-2c85-4cce-9b54-095fdbc14d88",
   "metadata": {},
   "outputs": [
    {
     "data": {
      "text/plain": [
       "'hello'"
      ]
     },
     "execution_count": 13,
     "metadata": {},
     "output_type": "execute_result"
    }
   ],
   "source": [
    "#  파일 읽기\n",
    "f.read(5)# 아무것도 안 나오는 이유 => read는 포인터가 있는데 포인터가 다음부터 읽으라고 가리키고 있어서 다시 읽어야 함."
   ]
  },
  {
   "cell_type": "code",
   "execution_count": 14,
   "id": "614e436d-364b-44ec-85ac-33dcaa7ccad6",
   "metadata": {},
   "outputs": [
    {
     "data": {
      "text/plain": [
       "' word\\n'"
      ]
     },
     "execution_count": 14,
     "metadata": {},
     "output_type": "execute_result"
    }
   ],
   "source": [
    "f.readline()"
   ]
  },
  {
   "cell_type": "code",
   "execution_count": 15,
   "id": "94af9f64-6f5c-49db-8100-0edcf8e8cf5a",
   "metadata": {},
   "outputs": [
    {
     "data": {
      "text/plain": [
       "[\"I'm reading a book.\\n\",\n",
       " \"I'm reading a book.\\n\",\n",
       " \"I'm reading a book.\\n\",\n",
       " \"I'm reading a book.\"]"
      ]
     },
     "execution_count": 15,
     "metadata": {},
     "output_type": "execute_result"
    }
   ],
   "source": [
    "f.readlines()"
   ]
  },
  {
   "cell_type": "code",
   "execution_count": 16,
   "id": "ea3841a1-3119-410d-a611-4573df8f59ad",
   "metadata": {},
   "outputs": [],
   "source": [
    "f = open(file, 'r')\n",
    "sents = f.readlines()\n",
    "sents = [s.strip() for s in sents] # 텍스트 정제\n",
    "f.close()"
   ]
  },
  {
   "cell_type": "code",
   "execution_count": 17,
   "id": "7a8db532-302b-467f-b9df-eb4720956462",
   "metadata": {},
   "outputs": [
    {
     "data": {
      "text/plain": [
       "['hello word',\n",
       " \"I'm reading a book.\",\n",
       " \"I'm reading a book.\",\n",
       " \"I'm reading a book.\",\n",
       " \"I'm reading a book.\"]"
      ]
     },
     "execution_count": 17,
     "metadata": {},
     "output_type": "execute_result"
    }
   ],
   "source": [
    "sents"
   ]
  },
  {
   "cell_type": "markdown",
   "id": "ab03d519-726d-4462-96a5-a9331c144f26",
   "metadata": {
    "tags": []
   },
   "source": [
    "#### **파일 닫기**\n",
    "- 파일 여는 즉시 닫기\n",
    "- 자원 해제\n",
    "- 여는 것보다도 닫는 걸 더 신경써야 한다."
   ]
  },
  {
   "cell_type": "code",
   "execution_count": 18,
   "id": "2e0dd0d0-9931-4023-b575-74774ef83c44",
   "metadata": {},
   "outputs": [],
   "source": [
    "with open(file, 'r') as f: #file\n",
    "    #open() 적용되는 블럭\n",
    "    content = f.read()\n",
    "# 파일 자동으로 닫힘"
   ]
  },
  {
   "cell_type": "code",
   "execution_count": 19,
   "id": "c1297ba5-81e5-4493-a678-7f86ef6121c7",
   "metadata": {},
   "outputs": [
    {
     "data": {
      "text/plain": [
       "\"hello word\\nI'm reading a book.\\nI'm reading a book.\\nI'm reading a book.\\nI'm reading a book.\""
      ]
     },
     "execution_count": 19,
     "metadata": {},
     "output_type": "execute_result"
    }
   ],
   "source": [
    "content"
   ]
  },
  {
   "cell_type": "markdown",
   "id": "5c5dfb00-bc08-4701-94a4-42e0ea5bf835",
   "metadata": {},
   "source": [
    "### **QUIZ**\n",
    "- readline 파일 읽는데, while 사용해서 한줄씩 읽고 strip()해서 리스트에 반복하는 함수 만들기"
   ]
  },
  {
   "cell_type": "code",
   "execution_count": null,
   "id": "33d5e186-4b11-4318-b318-e9b427464e43",
   "metadata": {},
   "outputs": [],
   "source": [
    "with open(file, 'r') as f:\n",
    "    content = f.readlines()\n",
    "    while True:\n",
    "        content = [s.strip() for s in content]\n",
    "    f.close()"
   ]
  },
  {
   "cell_type": "markdown",
   "id": "d64a82c9-e6f2-4277-b8bc-74746a3a269a",
   "metadata": {},
   "source": [
    "### **경로가 달라질 때**\n",
    "- `.` : 현재 경로\n",
    "- `..` : 상위 경로"
   ]
  },
  {
   "cell_type": "code",
   "execution_count": 22,
   "id": "f1d1292b-69d5-4f8c-ac5e-e424c3dc4801",
   "metadata": {},
   "outputs": [
    {
     "name": "stdout",
     "output_type": "stream",
     "text": [
      "hello word\n",
      "I'm reading a book.\n",
      "I'm reading a book.\n",
      "I'm reading a book.\n",
      "I'm reading a book.\n"
     ]
    }
   ],
   "source": [
    "file = './test.txt'\n",
    "\n",
    "with open(file) as f:\n",
    "    print(f.read())"
   ]
  },
  {
   "cell_type": "markdown",
   "id": "eedee87a-2729-4b48-b17e-da29c822de32",
   "metadata": {},
   "source": [
    "### **쓰기**\n",
    "- 인코딩 유의"
   ]
  },
  {
   "cell_type": "code",
   "execution_count": 23,
   "id": "38b271a7-ff69-4a78-b2bf-70ceeeec96a3",
   "metadata": {},
   "outputs": [],
   "source": [
    "with open('tesst2.txt', 'w', encoding = 'utf-8') as f:\n",
    "    for i in range(10):\n",
    "        data = f'{i}번째 줄입니다.'\n",
    "        f.write(data)"
   ]
  },
  {
   "cell_type": "code",
   "execution_count": 24,
   "id": "020856d5-c983-43a6-88ee-70f548d5cc8e",
   "metadata": {},
   "outputs": [],
   "source": [
    "# print\n",
    "file_out = open('test2.txt', 'a', encoding='utf-8')\n",
    "print('한 줄 추가했습니다.', file = file_out)\n",
    "file_out.close()"
   ]
  },
  {
   "cell_type": "markdown",
   "id": "0fbe981e-1bb2-4d5e-a861-22ecf1759213",
   "metadata": {},
   "source": [
    "### **folder 만들어서 추가하는 방법**\n",
    "- 폴더를 만들어야 함\n",
    "    - `import os`\n",
    "    - `os.mkdir('디렉터리명')`\n",
    "- 접근"
   ]
  },
  {
   "cell_type": "code",
   "execution_count": 35,
   "id": "bfd07ee5-dfbe-469d-92c0-4aac55666517",
   "metadata": {},
   "outputs": [],
   "source": [
    "import os\n",
    "os.mkdir('abcd')\n",
    "\n",
    "with open('./abc/test3.txt', 'w', encoding='utf-8') as f:\n",
    "    for i in range(10):\n",
    "        data = f'{i}번째 줄입니다. \\n'\n",
    "        f.write(data)"
   ]
  },
  {
   "cell_type": "code",
   "execution_count": 38,
   "id": "a4e090eb-ab36-4c1b-9ac8-22e3d4a2f78d",
   "metadata": {},
   "outputs": [],
   "source": [
    "path = 'abcd'\n",
    "# 있는지 확인하기\n",
    "if not os.path.isdir(path):\n",
    "    os.mkdir(path)\n",
    "    \n",
    "#dir_name = './abc/test3.txt'\n",
    "dir_name = os.path.join(path, 'test2.txt')\n",
    "#재확인\n",
    "if not os.path.exists(dir_name):\n",
    "    with open(dir_name, 'w') as f: #덮어쓸 가능성 배제\n",
    "        f.write('줄 추가.')"
   ]
  },
  {
   "cell_type": "markdown",
   "id": "927e37c9-dbba-46b1-baac-0e7061dd7f03",
   "metadata": {},
   "source": [
    "### **지우기**\n",
    "- `os`\n",
    "    - `os.remove(file_name)` : 파일 지우기\n",
    "    - 'os.rmdir(dir_name)' : 폴더 지우기 폴더 안에 파일이 있으면 삭제 못함<br><br>\n",
    "\n",
    "- `shutil`\n",
    "    - `shutil.rmtree(dir_name)` : 폴더에 파일 있어도 강제로 전부 삭제"
   ]
  },
  {
   "cell_type": "code",
   "execution_count": 40,
   "id": "12631d1b-30d8-4266-bfbe-4d0bc999ebc9",
   "metadata": {},
   "outputs": [],
   "source": [
    "#import shutil\n",
    "\n",
    "#shutil.rmtree(dir_name)#강제로 전부 삭제"
   ]
  },
  {
   "cell_type": "markdown",
   "id": "1052f599-6021-4b67-b8fc-79e8b0462f73",
   "metadata": {},
   "source": [
    "### **QUIZ**\n",
    "- folder 새로 만들어서 파일에 내용 쓰고 파일 열기"
   ]
  },
  {
   "cell_type": "code",
   "execution_count": 52,
   "id": "fa2d1a6e-2897-410d-8d8d-5613a1dd6d6c",
   "metadata": {},
   "outputs": [],
   "source": [
    "import os\n",
    "\n",
    "path = 'abcd'\n",
    "\n",
    "if not os.path.isdir(path):\n",
    "    os.mkdir(path)\n",
    "\n",
    "test_file = os.path.join(path, 'test_file.txt')\n",
    "\n",
    "if not os.path.exists(test_file):\n",
    "    with open(test_file, 'w', encoding = 'utf-8') as f:\n",
    "        f.write('abcdefg\\n')\n",
    "\n",
    "with open(test_file, 'r') as f:\n",
    "    f.read()"
   ]
  },
  {
   "cell_type": "markdown",
   "id": "c3d75c03-f0c3-49e6-b5eb-ebbffbbee1ae",
   "metadata": {},
   "source": [
    "#### **os**"
   ]
  },
  {
   "cell_type": "code",
   "execution_count": 53,
   "id": "80d643ac-861f-4c85-a044-d23855da10bf",
   "metadata": {},
   "outputs": [
    {
     "data": {
      "text/plain": [
       "'C:\\\\Users\\\\aliya\\\\Desktop\\\\유지민\\\\22-1\\\\GoPy'"
      ]
     },
     "execution_count": 53,
     "metadata": {},
     "output_type": "execute_result"
    }
   ],
   "source": [
    "os.getcwd() # 현재 내 경로"
   ]
  },
  {
   "cell_type": "code",
   "execution_count": 54,
   "id": "e86485df-f746-4746-b360-981ebfb97cfa",
   "metadata": {},
   "outputs": [],
   "source": [
    "os.chdir('..') # 상위 경로로 이동"
   ]
  },
  {
   "cell_type": "markdown",
   "id": "55a3abf2-bd6c-4d1d-9b06-2c73b36c6eb9",
   "metadata": {},
   "source": [
    "### **pickle**\n",
    "- 객체를 파일로 저장하는 기능 제공\n",
    "    - 리스트, 클래스 등\n",
    "- 중간에 사용했던 변수 저장해서 쓸 때(작업 많이 했을 때 유용)\n",
    "- 확장자 : `.pickle`\n",
    "- 바이너리로 써야 한다! (`wb`, `rb`)\n",
    "- 예약어\n",
    "    - `dump` : 넘길 때\n",
    "    - `load` : 읽을 때"
   ]
  },
  {
   "cell_type": "code",
   "execution_count": 44,
   "id": "748309d3-8c33-4210-b30b-7ceceea11720",
   "metadata": {},
   "outputs": [],
   "source": [
    "import pickle"
   ]
  },
  {
   "cell_type": "code",
   "execution_count": 45,
   "id": "848481e5-e846-4a65-b7a8-21789a5ba3c3",
   "metadata": {},
   "outputs": [],
   "source": [
    "with open('test.pickle', 'wb') as f:\n",
    "    pickle.dump(nums, f)\n"
   ]
  },
  {
   "cell_type": "code",
   "execution_count": 46,
   "id": "31398f1d-a2ed-4b00-9ba5-52c0429403af",
   "metadata": {},
   "outputs": [
    {
     "data": {
      "text/plain": [
       "[0, 1, 2, 3, 4, 5, 6, 7, 8, 9]"
      ]
     },
     "execution_count": 46,
     "metadata": {},
     "output_type": "execute_result"
    }
   ],
   "source": [
    "nums = list(range(10))\n",
    "nums"
   ]
  },
  {
   "cell_type": "code",
   "execution_count": 47,
   "id": "1eb6232d-4ad6-478b-8407-164978f02159",
   "metadata": {},
   "outputs": [],
   "source": [
    "with open('test.pickle', 'rb') as f:\n",
    "    number = pickle.load(f)"
   ]
  },
  {
   "cell_type": "code",
   "execution_count": 48,
   "id": "00d5d485-3350-40fd-aced-24e170451d9b",
   "metadata": {},
   "outputs": [
    {
     "data": {
      "text/plain": [
       "[0, 1, 2, 3, 4, 5, 6, 7, 8, 9]"
      ]
     },
     "execution_count": 48,
     "metadata": {},
     "output_type": "execute_result"
    }
   ],
   "source": [
    "number"
   ]
  },
  {
   "cell_type": "code",
   "execution_count": 50,
   "id": "1ebe4a49-f658-43b1-80de-d5720b16f81b",
   "metadata": {},
   "outputs": [
    {
     "ename": "NameError",
     "evalue": "name 'Product' is not defined",
     "output_type": "error",
     "traceback": [
      "\u001b[1;31m---------------------------------------------------------------------------\u001b[0m",
      "\u001b[1;31mNameError\u001b[0m                                 Traceback (most recent call last)",
      "\u001b[1;32m~\\AppData\\Local\\Temp/ipykernel_9680/1957804037.py\u001b[0m in \u001b[0;36m<module>\u001b[1;34m\u001b[0m\n\u001b[1;32m----> 1\u001b[1;33m \u001b[0ma\u001b[0m \u001b[1;33m=\u001b[0m \u001b[0mProduct\u001b[0m\u001b[1;33m(\u001b[0m\u001b[1;33m)\u001b[0m\u001b[1;33m\u001b[0m\u001b[1;33m\u001b[0m\u001b[0m\n\u001b[0m",
      "\u001b[1;31mNameError\u001b[0m: name 'Product' is not defined"
     ]
    }
   ],
   "source": [
    "a = Product()"
   ]
  }
 ],
 "metadata": {
  "kernelspec": {
   "display_name": "Python 3 (ipykernel)",
   "language": "python",
   "name": "python3"
  },
  "language_info": {
   "codemirror_mode": {
    "name": "ipython",
    "version": 3
   },
   "file_extension": ".py",
   "mimetype": "text/x-python",
   "name": "python",
   "nbconvert_exporter": "python",
   "pygments_lexer": "ipython3",
   "version": "3.9.7"
  }
 },
 "nbformat": 4,
 "nbformat_minor": 5
}
